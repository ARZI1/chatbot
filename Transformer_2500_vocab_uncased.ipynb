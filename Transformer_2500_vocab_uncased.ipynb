{
  "cells": [
    {
      "cell_type": "code",
      "execution_count": null,
      "metadata": {
        "colab": {
          "base_uri": "https://localhost:8080/"
        },
        "id": "Inw067d_UJHL",
        "outputId": "135547d0-08a1-467f-f45d-0f1be0fdcee0"
      },
      "outputs": [
        {
          "output_type": "stream",
          "name": "stdout",
          "text": [
            "Collecting datasets\n",
            "  Downloading datasets-2.18.0-py3-none-any.whl (510 kB)\n",
            "\u001b[2K     \u001b[90m━━━━━━━━━━━━━━━━━━━━━━━━━━━━━━━━━━━━━━━━\u001b[0m \u001b[32m510.5/510.5 kB\u001b[0m \u001b[31m4.1 MB/s\u001b[0m eta \u001b[36m0:00:00\u001b[0m\n",
            "\u001b[?25hRequirement already satisfied: filelock in /usr/local/lib/python3.10/dist-packages (from datasets) (3.13.4)\n",
            "Requirement already satisfied: numpy>=1.17 in /usr/local/lib/python3.10/dist-packages (from datasets) (1.25.2)\n",
            "Requirement already satisfied: pyarrow>=12.0.0 in /usr/local/lib/python3.10/dist-packages (from datasets) (14.0.2)\n",
            "Requirement already satisfied: pyarrow-hotfix in /usr/local/lib/python3.10/dist-packages (from datasets) (0.6)\n",
            "Collecting dill<0.3.9,>=0.3.0 (from datasets)\n",
            "  Downloading dill-0.3.8-py3-none-any.whl (116 kB)\n",
            "\u001b[2K     \u001b[90m━━━━━━━━━━━━━━━━━━━━━━━━━━━━━━━━━━━━━━━━\u001b[0m \u001b[32m116.3/116.3 kB\u001b[0m \u001b[31m11.5 MB/s\u001b[0m eta \u001b[36m0:00:00\u001b[0m\n",
            "\u001b[?25hRequirement already satisfied: pandas in /usr/local/lib/python3.10/dist-packages (from datasets) (2.0.3)\n",
            "Requirement already satisfied: requests>=2.19.0 in /usr/local/lib/python3.10/dist-packages (from datasets) (2.31.0)\n",
            "Requirement already satisfied: tqdm>=4.62.1 in /usr/local/lib/python3.10/dist-packages (from datasets) (4.66.2)\n",
            "Collecting xxhash (from datasets)\n",
            "  Downloading xxhash-3.4.1-cp310-cp310-manylinux_2_17_x86_64.manylinux2014_x86_64.whl (194 kB)\n",
            "\u001b[2K     \u001b[90m━━━━━━━━━━━━━━━━━━━━━━━━━━━━━━━━━━━━━━━━\u001b[0m \u001b[32m194.1/194.1 kB\u001b[0m \u001b[31m10.5 MB/s\u001b[0m eta \u001b[36m0:00:00\u001b[0m\n",
            "\u001b[?25hCollecting multiprocess (from datasets)\n",
            "  Downloading multiprocess-0.70.16-py310-none-any.whl (134 kB)\n",
            "\u001b[2K     \u001b[90m━━━━━━━━━━━━━━━━━━━━━━━━━━━━━━━━━━━━━━━━\u001b[0m \u001b[32m134.8/134.8 kB\u001b[0m \u001b[31m11.7 MB/s\u001b[0m eta \u001b[36m0:00:00\u001b[0m\n",
            "\u001b[?25hRequirement already satisfied: fsspec[http]<=2024.2.0,>=2023.1.0 in /usr/local/lib/python3.10/dist-packages (from datasets) (2023.6.0)\n",
            "Requirement already satisfied: aiohttp in /usr/local/lib/python3.10/dist-packages (from datasets) (3.9.3)\n",
            "Requirement already satisfied: huggingface-hub>=0.19.4 in /usr/local/lib/python3.10/dist-packages (from datasets) (0.20.3)\n",
            "Requirement already satisfied: packaging in /usr/local/lib/python3.10/dist-packages (from datasets) (24.0)\n",
            "Requirement already satisfied: pyyaml>=5.1 in /usr/local/lib/python3.10/dist-packages (from datasets) (6.0.1)\n",
            "Requirement already satisfied: aiosignal>=1.1.2 in /usr/local/lib/python3.10/dist-packages (from aiohttp->datasets) (1.3.1)\n",
            "Requirement already satisfied: attrs>=17.3.0 in /usr/local/lib/python3.10/dist-packages (from aiohttp->datasets) (23.2.0)\n",
            "Requirement already satisfied: frozenlist>=1.1.1 in /usr/local/lib/python3.10/dist-packages (from aiohttp->datasets) (1.4.1)\n",
            "Requirement already satisfied: multidict<7.0,>=4.5 in /usr/local/lib/python3.10/dist-packages (from aiohttp->datasets) (6.0.5)\n",
            "Requirement already satisfied: yarl<2.0,>=1.0 in /usr/local/lib/python3.10/dist-packages (from aiohttp->datasets) (1.9.4)\n",
            "Requirement already satisfied: async-timeout<5.0,>=4.0 in /usr/local/lib/python3.10/dist-packages (from aiohttp->datasets) (4.0.3)\n",
            "Requirement already satisfied: typing-extensions>=3.7.4.3 in /usr/local/lib/python3.10/dist-packages (from huggingface-hub>=0.19.4->datasets) (4.11.0)\n",
            "Requirement already satisfied: charset-normalizer<4,>=2 in /usr/local/lib/python3.10/dist-packages (from requests>=2.19.0->datasets) (3.3.2)\n",
            "Requirement already satisfied: idna<4,>=2.5 in /usr/local/lib/python3.10/dist-packages (from requests>=2.19.0->datasets) (3.6)\n",
            "Requirement already satisfied: urllib3<3,>=1.21.1 in /usr/local/lib/python3.10/dist-packages (from requests>=2.19.0->datasets) (2.0.7)\n",
            "Requirement already satisfied: certifi>=2017.4.17 in /usr/local/lib/python3.10/dist-packages (from requests>=2.19.0->datasets) (2024.2.2)\n",
            "Requirement already satisfied: python-dateutil>=2.8.2 in /usr/local/lib/python3.10/dist-packages (from pandas->datasets) (2.8.2)\n",
            "Requirement already satisfied: pytz>=2020.1 in /usr/local/lib/python3.10/dist-packages (from pandas->datasets) (2023.4)\n",
            "Requirement already satisfied: tzdata>=2022.1 in /usr/local/lib/python3.10/dist-packages (from pandas->datasets) (2024.1)\n",
            "Requirement already satisfied: six>=1.5 in /usr/local/lib/python3.10/dist-packages (from python-dateutil>=2.8.2->pandas->datasets) (1.16.0)\n",
            "Installing collected packages: xxhash, dill, multiprocess, datasets\n",
            "Successfully installed datasets-2.18.0 dill-0.3.8 multiprocess-0.70.16 xxhash-3.4.1\n"
          ]
        }
      ],
      "source": [
        "import math\n",
        "import json\n",
        "!pip install datasets\n",
        "from datasets import load_dataset\n",
        "import numpy as np\n",
        "import tensorflow as tf\n",
        "import tensorflow_datasets as tfds\n",
        "from matplotlib import pyplot as plt"
      ]
    },
    {
      "cell_type": "code",
      "execution_count": null,
      "metadata": {
        "colab": {
          "base_uri": "https://localhost:8080/"
        },
        "id": "z3vZNIk7Uplc",
        "outputId": "2ec1c8a9-e783-460c-8a21-8bc1194bec40"
      },
      "outputs": [
        {
          "output_type": "stream",
          "name": "stdout",
          "text": [
            "Mounted at /content/drive\n"
          ]
        }
      ],
      "source": [
        "from google.colab import drive\n",
        "drive.mount('/content/drive')"
      ]
    },
    {
      "cell_type": "markdown",
      "metadata": {
        "id": "kZ0qMqMl1CYY"
      },
      "source": [
        "# Global constants"
      ]
    },
    {
      "cell_type": "markdown",
      "metadata": {
        "id": "ut1MjH8QOZWr"
      },
      "source": [
        "***TODO: change vocab to list instead of set to maintain order***"
      ]
    },
    {
      "cell_type": "code",
      "execution_count": null,
      "metadata": {
        "id": "O-ABdYdH1ASv"
      },
      "outputs": [],
      "source": [
        "TOKENIZER_DIR = '/content/drive/MyDrive/saved_models/tokenizer_2500_vocab.json'\n",
        "CHECKPOINT_DIR = '/content/drive/MyDrive/checkpoints/trained_checkpoint/checkpoint.ckpt'\n",
        "DATASET_DIR = '/content/drive/MyDrive/datasets/tokenized_articles'\n",
        "LOG_DIR = '/content/drive/MyDrive/logs/training.log'\n",
        "\n",
        "PAD_TOKEN = '<pad>'\n",
        "START_TOKEN = '<s>'\n",
        "END_TOKEN = '</s>'\n",
        "# how many pairs we want to merge per epoch during tokenizer training\n",
        "MERGES_PER_EPOCH = 15\n",
        "\n",
        "# model hyperparamaters\n",
        "BATCH_SIZE = 64\n",
        "BUFFER_SIZE = 50_000\n",
        "train_split = 0.8\n",
        "validation_split = 0.1\n",
        "test_split = 0.1\n",
        "vocab_size = 2500\n",
        "transformer_units = 6\n",
        "d_model = 384\n",
        "seq_length = 256\n",
        "attention_heads = 8\n",
        "dff = 1024 # transformer ffn hidden layer size\n",
        "dropout_rate = 0.1\n",
        "learning_rate = 1e-6"
      ]
    },
    {
      "cell_type": "markdown",
      "metadata": {
        "id": "fXV8bsiQUqOE"
      },
      "source": [
        "# Process data"
      ]
    },
    {
      "cell_type": "markdown",
      "metadata": {
        "id": "2MZk9GX5UvZk"
      },
      "source": [
        "### Loading dataset"
      ]
    },
    {
      "cell_type": "code",
      "execution_count": null,
      "metadata": {
        "colab": {
          "base_uri": "https://localhost:8080/",
          "height": 104,
          "referenced_widgets": [
            "c69db3e18bf64589a9cd906e79f37b83"
          ]
        },
        "id": "lFxDChXXQ44s",
        "outputId": "d73946d0-124c-431e-c6b6-d82853f479f3"
      },
      "outputs": [
        {
          "name": "stdout",
          "output_type": "stream",
          "text": [
            "Downloading and preparing dataset 263.29 MiB (download: 263.29 MiB, generated: 267.22 MiB, total: 530.52 MiB) to /root/tensorflow_datasets/wikipedia/20230601.simple/1.0.0...\n"
          ]
        },
        {
          "data": {
            "application/vnd.jupyter.widget-view+json": {
              "model_id": "c69db3e18bf64589a9cd906e79f37b83",
              "version_major": 2,
              "version_minor": 0
            },
            "text/plain": [
              "Dl Completed...:   0%|          | 0/7 [00:00<?, ? file/s]"
            ]
          },
          "metadata": {},
          "output_type": "display_data"
        },
        {
          "name": "stdout",
          "output_type": "stream",
          "text": [
            "Dataset wikipedia downloaded and prepared to /root/tensorflow_datasets/wikipedia/20230601.simple/1.0.0. Subsequent calls will reuse this data.\n"
          ]
        }
      ],
      "source": [
        "ds = tfds.load('wikipedia/20230601.simple', split='train')"
      ]
    },
    {
      "cell_type": "code",
      "execution_count": null,
      "metadata": {
        "id": "k23PrMGGSDlG"
      },
      "outputs": [],
      "source": [
        "\"\"\"\n",
        "Loads the wikipedia articles.\n",
        "\n",
        "The database contents are in binary form, we therefore need to decode the strings\n",
        "using UTF-8 encoding. We then turn all uppercase letters into lowercase. If we\n",
        "find a category section we remove it. And finally we append the start and end\n",
        "tokens and save the article.\n",
        "\"\"\"\n",
        "wiki_articles = list()\n",
        "for e in ds:\n",
        "  text = e['text'].numpy().decode('utf-8')\n",
        "  text = text.lower()\n",
        "  idx = text.find('category:')\n",
        "  if idx != -1:\n",
        "    text = text[:idx]\n",
        "  wiki_articles.append(text)"
      ]
    },
    {
      "cell_type": "code",
      "execution_count": null,
      "metadata": {
        "colab": {
          "base_uri": "https://localhost:8080/"
        },
        "id": "-ELXOXLUU5NZ",
        "outputId": "044c00d5-a8c4-4ba2-d5ce-476af77f73dc"
      },
      "outputs": [
        {
          "name": "stdout",
          "output_type": "stream",
          "text": [
            "<s>swedesboro is a borough in gloucester county, new jersey, united states. as of 2010, it had a population of 2,584 inhabitants and a population density of 1,292 people per km².\n",
            "\n",
            "swedesboro was formed as a borough by an act of the new jersey legislature on april 9, 1902, from portions of woolwich township. the borough was named for its early settlers originally from the colony of new sweden.\n",
            "\n",
            "history\n",
            "swedesboro was, at the side of bridgeport, one of only two settlements in what is now new jersey in the colony of new sweden. the oldest existing logging cottage in the united states was built by antti niilonpoika (anthony neilson/nelson) in swedesboro. it is registered as a historic monument, which is also the church of trinity church. this church was founded as a swedish lutheran church 1703; the current building was erected 1784.\n",
            "\n",
            "the cemetery at the church is the burial ground of the governor of new jersey charles c. stratton and congressman benjamin franklin howey, among other notable people.\n",
            "\n",
            "demographics\n",
            "according to the 2000 american census, its population was of 2055 inhabitants. in 2006, a population of 2043 was estimated, a decrease of 12 (-0.6%). whites are the major ethnic group, numbering about 69.81% of swedesboro's total population in 2010.\n",
            "\n",
            "other websites\n",
            " borough of swedesboro website\n",
            "\n",
            "</s>\n"
          ]
        }
      ],
      "source": [
        "print(wiki_articles[10005])"
      ]
    },
    {
      "cell_type": "code",
      "execution_count": null,
      "metadata": {
        "colab": {
          "base_uri": "https://localhost:8080/"
        },
        "id": "rNqdF3NaUuzM",
        "outputId": "e80d3455-592c-4bc6-afd9-64e263702081"
      },
      "outputs": [
        {
          "name": "stdout",
          "output_type": "stream",
          "text": [
            "Number of paragraphs: 21151\n"
          ]
        }
      ],
      "source": [
        "book_paragraphs = list()\n",
        "\n",
        "for i in range(10):\n",
        "  with open(f'/content/drive/MyDrive/datasets/books/book{i}.txt', 'r') as f:\n",
        "    for paragraph in f.read().split('\\n\\n'):\n",
        "      if len(paragraph) > 50 and 'Gutenberg' not in paragraph:\n",
        "        paragraph = paragraph.replace('\\n', ' ').lower()\n",
        "        book_paragraphs.append(paragraph)\n",
        "\n",
        "print('Number of paragraphs:', len(book_paragraphs))"
      ]
    },
    {
      "cell_type": "markdown",
      "metadata": {
        "id": "7XVly9tnpBpi"
      },
      "source": [
        "## Loading CNN data"
      ]
    },
    {
      "cell_type": "code",
      "execution_count": null,
      "metadata": {
        "colab": {
          "base_uri": "https://localhost:8080/",
          "height": 429,
          "referenced_widgets": [
            "0a1c3ae519af4e4498560da43ec72ae8",
            "20620f4025c3473e9de4342baebde89c",
            "d68ccb5e27c04465806b9bc2177dc0ae",
            "fb6ab88d2bcd4f90a9a033126addc056",
            "3240c3c2f6854034b58b3f5dbc2f9119",
            "027e86710629457d8a1230cc4ac85e8d",
            "f1d12f6823e14bd2bd7b32ad74c4bc39",
            "fb300f0e298841cf89a2e72c14ef335c",
            "7f30cf0017b34be68b8cc5b33fad1805",
            "90cf6fa709be4b9f8f9487cc9b498054",
            "752c99edff0141cc8d0596e70ed7688e",
            "9bdf058a3f9b43e49a1fcb1d13aa2341",
            "39d51b02f6db47a39f92a2f23f9c3d11",
            "25d4fa96996d49f889be157dd41619e3",
            "194ea39698d447b6861132e6398b7200",
            "25d66d93ec3b49abbdc005404b50a02f",
            "973482b2083345f3885c02a71184b9ea",
            "7185eef7fe344958a013ad68721d232a",
            "e78510d751fa4a608249cd88a7e05962",
            "00cb04e5f6c34072b363f68178101d5e",
            "684e4307ec504a72b11f663f9454dbb0",
            "57950014ee9747158cbb0db2a08c1276",
            "847ba49a67904d0084c2f0416a4a9f00",
            "d13b10ae12934c158dced358b42a826b",
            "0eefef357c994e8280e271d8818fe3db",
            "ba9659710b3b426aa20c005dd5c935b8",
            "1c81f819831d490d894dd0475e1338c4",
            "7a8336c7f1a040b8a5b5bf51d551641d",
            "90ac6a0d1e3243b09bbb81550ec740e1",
            "2325a25e44014d5bbaa2340cb9cad101",
            "f7924de216c2449ca15f1290fee4a582",
            "febeaa7db9ad4e929a6446e987c6c6b8",
            "13952d56f22a4ace84880c372fae4800",
            "1ae031e2f299416ca84051dfac7192b9",
            "7ad8fe95bb4f46b2b2f97ad32b5f67aa",
            "fbe6bb0fb6834d099f84e101e75190fd",
            "7f222e31622b4c54807545a9629cce11",
            "d4d780a1a1954afea50c6e238d9247af",
            "ba3f3caa609b4969876b4008820ea63e",
            "21f3e5b5c428453c8eaf54a9c44f17c7",
            "4ed630a14e6b4536ad9079abfdd239b6",
            "6a65ff868cca46aaa6c1e1997288b348",
            "0f84b79629954c82a9baeb1e55ffa30b",
            "d4f55bfa308d4adea1f2dc6530521759",
            "844213adda904bc5a9f9677d079d5069",
            "6e0cc7c7c0034919a05cb2fa9e66dd41",
            "666b14d21492487da6daf5f884332fa7",
            "0ef87b93075849c8b985e101db06ee32",
            "41be54c590db4cbab283de335d7292b9",
            "52103d2978a14a83813658f9a8d9d75d",
            "bdcaf891d67a4a88be6c8c415d9a0e5a",
            "237a80a6725f4b99ad27241c5ac9e14d",
            "f6337681904d44948a5878b1b4dd3231",
            "1ddc4e304fc543b69d35b2ffb6ecd655",
            "84d2e591abc2422ca5693b9eac3d516c",
            "fbe69203b8654280b757e18bdeb94de9",
            "a5f3baa7712b47a7b5bd61747a930fd5",
            "54e5a679973a412e93f75a22b6f293cd",
            "1b7cb9833e454dbfb930c1dd370d5983",
            "cd8dd5f7e9f64de2bf78bccbb3ab2a13",
            "16bd149dbeb64f3a997861ff683e3c27",
            "42b7549457564f8593ec004047158747",
            "81d784503b4d45f694673e7e1b6d9f36",
            "e0be8c21280b4d91b95539186a3e99f4",
            "c7d19279555c4275ae5e3e1dd5230767",
            "29cb09cd31f049b2b807e0dc0b95f95f",
            "c8a0d460c2f24f6aa42d4d4676a713e5",
            "d109d9db5d474abe935f662409fa9eaf",
            "80c7dd5d7bd64baf9d4bdd51c988f3c5",
            "497a58ad1a794eb8ae173e2746f6b788",
            "3b26f3cc6fd341cd9f27b72e4f536d94",
            "08477242607346c7ae7d58077a7d0329",
            "828620fe69e54c6396bf0ac100a4ecad",
            "ad2b1bc8fd9747f6a24a5b10fce71e74",
            "13a8673e3689492ab8a3196e322bdab3",
            "078089bd686d4299bd623332a9220be2",
            "61fb299df40748cb87d7f8451296310d",
            "ee7fec544d5c472a982d52ee5be61f09",
            "5d4aa673f0a54132bb06a5dffaa12817",
            "53bc25d30c954457afba8bc106d5346d",
            "693afac40797449e99077ce83e782d92",
            "13a6288fa04245158eb0db09123a140a",
            "ead11f1b5b374d47a3d83f33ba240a98",
            "fbe8b77887d8431b8c2c3763dd975218",
            "005a47c135b24e38a0bf01c7a429027c",
            "36bb14e75f3c4fc29e5c99fc280637bd",
            "8bba4ca7eb1146a9a27f9117bcb8245a",
            "d98131ac904d4d02918b83f0e213a96e",
            "f14ceaf83efc46bda09032d1f801c808",
            "9364280c9abe4b8285623e835d979eaf",
            "765bf6fe043544e4aeb902914981d699",
            "ddc49d08bde54603a7d0310d4bdcaf1b",
            "bcfa6b7b78a349da84752004442dbb65",
            "973ec7a511b3495f99cd49dd589e1caf",
            "f763a2dfb1a5420997dd974aee5a8dcb",
            "d9f110e6de7c4402ad46aed57c8d0544",
            "6d23ec33b6df47e082d438eb416bb257",
            "6705d63d8fba4e84847ce7aeed79d94c",
            "ca15c3c804b64d90aa2d0c5bb66457f5"
          ]
        },
        "id": "aeNNScf9pGbn",
        "outputId": "e6fd7a9d-703a-4b5f-b074-9e3c838ddac7"
      },
      "outputs": [
        {
          "output_type": "stream",
          "name": "stderr",
          "text": [
            "/usr/local/lib/python3.10/dist-packages/huggingface_hub/utils/_token.py:88: UserWarning: \n",
            "The secret `HF_TOKEN` does not exist in your Colab secrets.\n",
            "To authenticate with the Hugging Face Hub, create a token in your settings tab (https://huggingface.co/settings/tokens), set it as secret in your Google Colab and restart your session.\n",
            "You will be able to reuse this secret in all of your notebooks.\n",
            "Please note that authentication is recommended but still optional to access public models or datasets.\n",
            "  warnings.warn(\n"
          ]
        },
        {
          "output_type": "display_data",
          "data": {
            "text/plain": [
              "Downloading readme:   0%|          | 0.00/15.6k [00:00<?, ?B/s]"
            ],
            "application/vnd.jupyter.widget-view+json": {
              "version_major": 2,
              "version_minor": 0,
              "model_id": "0a1c3ae519af4e4498560da43ec72ae8"
            }
          },
          "metadata": {}
        },
        {
          "output_type": "display_data",
          "data": {
            "text/plain": [
              "Downloading data:   0%|          | 0.00/257M [00:00<?, ?B/s]"
            ],
            "application/vnd.jupyter.widget-view+json": {
              "version_major": 2,
              "version_minor": 0,
              "model_id": "9bdf058a3f9b43e49a1fcb1d13aa2341"
            }
          },
          "metadata": {}
        },
        {
          "output_type": "display_data",
          "data": {
            "text/plain": [
              "Downloading data:   0%|          | 0.00/257M [00:00<?, ?B/s]"
            ],
            "application/vnd.jupyter.widget-view+json": {
              "version_major": 2,
              "version_minor": 0,
              "model_id": "847ba49a67904d0084c2f0416a4a9f00"
            }
          },
          "metadata": {}
        },
        {
          "output_type": "display_data",
          "data": {
            "text/plain": [
              "Downloading data:   0%|          | 0.00/259M [00:00<?, ?B/s]"
            ],
            "application/vnd.jupyter.widget-view+json": {
              "version_major": 2,
              "version_minor": 0,
              "model_id": "1ae031e2f299416ca84051dfac7192b9"
            }
          },
          "metadata": {}
        },
        {
          "output_type": "display_data",
          "data": {
            "text/plain": [
              "Downloading data:   0%|          | 0.00/34.7M [00:00<?, ?B/s]"
            ],
            "application/vnd.jupyter.widget-view+json": {
              "version_major": 2,
              "version_minor": 0,
              "model_id": "844213adda904bc5a9f9677d079d5069"
            }
          },
          "metadata": {}
        },
        {
          "output_type": "display_data",
          "data": {
            "text/plain": [
              "Downloading data:   0%|          | 0.00/30.0M [00:00<?, ?B/s]"
            ],
            "application/vnd.jupyter.widget-view+json": {
              "version_major": 2,
              "version_minor": 0,
              "model_id": "fbe69203b8654280b757e18bdeb94de9"
            }
          },
          "metadata": {}
        },
        {
          "output_type": "display_data",
          "data": {
            "text/plain": [
              "Generating train split:   0%|          | 0/287113 [00:00<?, ? examples/s]"
            ],
            "application/vnd.jupyter.widget-view+json": {
              "version_major": 2,
              "version_minor": 0,
              "model_id": "c8a0d460c2f24f6aa42d4d4676a713e5"
            }
          },
          "metadata": {}
        },
        {
          "output_type": "display_data",
          "data": {
            "text/plain": [
              "Generating validation split:   0%|          | 0/13368 [00:00<?, ? examples/s]"
            ],
            "application/vnd.jupyter.widget-view+json": {
              "version_major": 2,
              "version_minor": 0,
              "model_id": "ee7fec544d5c472a982d52ee5be61f09"
            }
          },
          "metadata": {}
        },
        {
          "output_type": "display_data",
          "data": {
            "text/plain": [
              "Generating test split:   0%|          | 0/11490 [00:00<?, ? examples/s]"
            ],
            "application/vnd.jupyter.widget-view+json": {
              "version_major": 2,
              "version_minor": 0,
              "model_id": "f14ceaf83efc46bda09032d1f801c808"
            }
          },
          "metadata": {}
        }
      ],
      "source": [
        "# tensorflow has outdated checksums, and therefore we need to download the dataset from Hugging Face\n",
        "dataset = load_dataset(\"cnn_dailymail\", '3.0.0')"
      ]
    },
    {
      "cell_type": "code",
      "execution_count": null,
      "metadata": {
        "colab": {
          "base_uri": "https://localhost:8080/"
        },
        "id": "1motXuFwzHJH",
        "outputId": "37f5045c-3774-4592-b4ab-da535d7e558c"
      },
      "outputs": [
        {
          "data": {
            "text/plain": [
              "DatasetDict({\n",
              "    train: Dataset({\n",
              "        features: ['article', 'highlights', 'id'],\n",
              "        num_rows: 287113\n",
              "    })\n",
              "    validation: Dataset({\n",
              "        features: ['article', 'highlights', 'id'],\n",
              "        num_rows: 13368\n",
              "    })\n",
              "    test: Dataset({\n",
              "        features: ['article', 'highlights', 'id'],\n",
              "        num_rows: 11490\n",
              "    })\n",
              "})"
            ]
          },
          "execution_count": 9,
          "metadata": {},
          "output_type": "execute_result"
        }
      ],
      "source": [
        "print(dataset)"
      ]
    },
    {
      "cell_type": "markdown",
      "source": [
        "Combining the dataset splits into one list, excluding highlights and ids."
      ],
      "metadata": {
        "id": "RZdxRzDOSNRY"
      }
    },
    {
      "cell_type": "code",
      "execution_count": null,
      "metadata": {
        "id": "ah5uRrFyyS0N"
      },
      "outputs": [],
      "source": [
        "articles = list()\n",
        "\n",
        "for split in ['train', 'validation', 'test']:\n",
        "  articles.extend(dataset[split]['article'])"
      ]
    },
    {
      "cell_type": "code",
      "execution_count": null,
      "metadata": {
        "id": "tNfbvkcyzeOR"
      },
      "outputs": [],
      "source": [
        "for i, e in enumerate(articles):\n",
        "  articles[i] = e.lower()"
      ]
    },
    {
      "cell_type": "code",
      "execution_count": null,
      "metadata": {
        "colab": {
          "base_uri": "https://localhost:8080/"
        },
        "id": "rryi5xzvzqtS",
        "outputId": "c349d56a-3e01-4483-c14f-2391c11b1004"
      },
      "outputs": [
        {
          "output_type": "stream",
          "name": "stdout",
          "text": [
            "london, england (reuters) -- harry potter star daniel radcliffe gains access to a reported £20 million ($41.1 million) fortune as he turns 18 on monday, but he insists the money won't cast a spell on him. daniel radcliffe as harry potter in \"harry potter and the order of the phoenix\" to the disappointment of gossip columnists around the world, the young actor says he has no plans to fritter his cash away on fast cars, drink and celebrity parties. \"i don't plan to be one of those people who, as soon as they turn 18, suddenly buy themselves a massive sports car collection or something similar,\" he told an australian interviewer earlier this month. \"i don't think i'll be particularly extravagant. \"the things i like buying are things that cost about 10 pounds -- books and cds and dvds.\" at 18, radcliffe will be able to gamble in a casino, buy a drink in a pub or see the horror film \"hostel: part ii,\" currently six places below his number one movie on the uk box office chart. details of how he'll mark his landmark birthday are under wraps. his agent and publicist had no comment on his plans. \"i'll definitely have some sort of party,\" he said in an interview. \"hopefully none of you will be reading about it.\" radcliffe's earnings from the first five potter films have been held in a trust fund which he has not been able to touch. despite his growing fame and riches, the actor says he is keeping his feet firmly on the ground. \"people are always looking to say 'kid star goes off the rails,'\" he told reporters last month. \"but i try very hard not to go that way because it would be too easy for them.\" his latest outing as the boy wizard in \"harry potter and the order of the phoenix\" is breaking records on both sides of the atlantic and he will reprise the role in the last two films.  watch i-reporter give her review of potter's latest » . there is life beyond potter, however. the londoner has filmed a tv movie called \"my boy jack,\" about author rudyard kipling and his son, due for release later this year. he will also appear in \"december boys,\" an australian film about four boys who escape an orphanage. earlier this year, he made his stage debut playing a tortured teenager in peter shaffer's \"equus.\" meanwhile, he is braced for even closer media scrutiny now that he's legally an adult: \"i just think i'm going to be more sort of fair game,\" he told reuters. e-mail to a friend . copyright 2007 reuters. all rights reserved.this material may not be published, broadcast, rewritten, or redistributed.\n"
          ]
        }
      ],
      "source": [
        "print(articles[0])"
      ]
    },
    {
      "cell_type": "markdown",
      "metadata": {
        "id": "2BUJDChdUzVD"
      },
      "source": [
        "## Training tokenizer\n",
        "\n",
        "This is an implementation of the Byte-Pair-Encoding algorithm. In which we start with a base vocabulary of tokens. Then we find the most common pair of tokens and merge them into a new token. This process is done iteratively until we reach our desired vocabulary size. However, the encoding algorithm is slightly different from the normal BPE implementation. Instead of iterating over all possible merges and checking them against all tokens, the algorithm checks if adjacent tokens can be merged into a new token that exists in the vocabulary. This process is over 100X faster, in part due to the speed of set lookup. The resulting encodings are sometimes different, however from my observations they shouldn't lead to inferior results."
      ]
    },
    {
      "cell_type": "code",
      "execution_count": null,
      "metadata": {
        "id": "rXtljq26pxA1"
      },
      "outputs": [],
      "source": [
        "base_vocab = 'abcdefghijklmnopqrstuvwxyz!\"#$£%&\\'()*,-./0123456789:;<>?[\\\\]{}\\n '"
      ]
    },
    {
      "cell_type": "code",
      "source": [
        "class Tokenizer:\n",
        "  \"\"\"\n",
        "  An implementation of a BPE (Byte-Pair-Encoding) tokenizer.\n",
        "\n",
        "  The tokenizer allows us to create a token vocabulary size of our choosing while preventing Out-Of-Vocabulary problems. This is done by starting with a base vocabulary comprised of basic characters. The tokenizer then goes over the training corpus, finds the most frequent token pair, and merges them into a new token. This process is done until our desired vocabulary size is reached.\n",
        "\n",
        "  Attributes:\n",
        "    vocab_size (int): The maximum of the tokenizer's vocabulary.\n",
        "    oov_token (str): The predefined Out-Of-Vocabulary token.\n",
        "    tuple_delimiter (char): The delimiter used to seperate tuple elements when\n",
        "      serializing the tokenizer.\n",
        "    vocab (str): the tokenizer's vocabulary.\n",
        "    reserved_tokens (list[str]): Tokens reserved for other purposes.\n",
        "    merges (dict[tuple[str], str]): The token merges learned turing training.\n",
        "  \"\"\"\n",
        "\n",
        "  def __init__(self, vocab_size: int, pad_token: str = '<pad>', oov_token: str = '<oov>', reserved_tokens: list[str] = list()) -> None:\n",
        "    \"\"\"\n",
        "    Tokenizer constructor.\n",
        "\n",
        "    Initializes the tokenizer's attributes and loads the base vocabulary. Training\n",
        "    the tokenizer is done by calling the ```train_on_corpus``` function, not by\n",
        "    calling the constructor.\n",
        "\n",
        "    Args:\n",
        "      vocab_size: The maximum size of the tokenizer's vocabulary.\n",
        "      oov_token: The predefined Out-Of-Vocabulary token.\n",
        "      reserved_tokens: Predefined tokens such as padding, start and end.\n",
        "    \"\"\"\n",
        "    self.vocab_size = vocab_size\n",
        "    self.oov_token = oov_token\n",
        "    self.tuple_delimiter = chr(0x1d)\n",
        "\n",
        "    self.vocab = [pad_token] + [oov_token]\n",
        "    for token in reserved_tokens:\n",
        "      self.vocab.append(token)\n",
        "\n",
        "    self.vocab += list(base_vocab)\n",
        "    self.vocab_set = set(self.vocab)\n",
        "\n",
        "    reserved_tokens.append(pad_token)\n",
        "    reserved_tokens.append(oov_token)\n",
        "    self.reserved_tokens = reserved_tokens\n",
        "\n",
        "    self.create_lookup_maps()\n",
        "\n",
        "    self.merges = dict()\n",
        "\n",
        "\n",
        "  def tokenize(self, input: str) -> list[int]:\n",
        "    \"\"\"\n",
        "    Tokenizes a string using the tokenizer's learned merge table.\n",
        "\n",
        "    The input is first split up into base tokens found in the ```base_vocab``` vocabulary. A loop then iterates over the tokens and checks whether the concatenation of adjacent pairs is in the vocabulary. If it is, the tokens are merged. Once the tokenizer can no longer merge tokens, the tokens are vectorized and returned.\n",
        "\n",
        "    Args:\n",
        "      input: The string we want to tokenize.\n",
        "\n",
        "    Returns:\n",
        "      A list containing the tokenized input in vector form.\n",
        "    \"\"\"\n",
        "\n",
        "    split = [c for c in input if c in self.vocab_set]\n",
        "\n",
        "    flag = True\n",
        "    while flag:\n",
        "      flag = False\n",
        "      i = 0\n",
        "      while len(split) - 1 > i:\n",
        "        merge = split[i] + split[i + 1]\n",
        "        if merge in self.vocab_set:\n",
        "          split[i:i+2] = [merge]\n",
        "          flag = True\n",
        "        else:\n",
        "          i += 1\n",
        "\n",
        "    vectorized = list(map(lambda t: self.token_to_index[t], split))\n",
        "\n",
        "    return vectorized\n",
        "\n",
        "\n",
        "  def detokenize(self, input: list[int]) -> str:\n",
        "    \"\"\"\n",
        "    Detokenizes a list of tokens in vector form into a string.\n",
        "\n",
        "    Each token vector is mapped to its corresponding token. The tokens are then joined together to form the final string.\n",
        "\n",
        "    Args:\n",
        "      input: The list of token vectors we want to detokenize.\n",
        "\n",
        "    Returns:\n",
        "      A string derived from the input tokens.\n",
        "    \"\"\"\n",
        "    # map each token vector, the index, to its string form\n",
        "    devectorized = list(map(lambda i: self.index_to_token[i], input))\n",
        "\n",
        "    return ''.join(devectorized)\n",
        "\n",
        "\n",
        "  def train_on_corpus(self, corpus: list[str], verbose=False) -> None:\n",
        "    \"\"\"\n",
        "    Trains the tokenizer on a corpus.\n",
        "\n",
        "    The corpus is first normalized, a process in which characters not present in the base vocabulary are removed. It is then pretokenized, meaning the corpus is split up into words and their frequencies to reduce computation later. After that, the words are split up into their base token representations. Finally we search for the most frequent token pair, merge them into a new token, add it to the vocabulary and merges dictionary, and update our word splits. This is done until our desired vocabulary size is reached.\n",
        "\n",
        "    In order to reduce training time a number of pairs are merges in each \"epoch\". These pairs are picked by sorting the pair frequencies by highest lowest.\n",
        "\n",
        "    Args:\n",
        "      corpus: The corpus we want to train on. It's recommended to preprocess the\n",
        "        text before tokenizer training, but not necessary.\n",
        "    \"\"\"\n",
        "    # normalization & pretokenization\n",
        "    word_freq = dict()\n",
        "    for e in corpus:\n",
        "      for word in self.normalize_and_split(e):\n",
        "        word_freq[word] = word_freq.get(word, 0) + 1\n",
        "\n",
        "    # initial word split\n",
        "    splits = { word:[c for c in word] for word in word_freq.keys() }\n",
        "\n",
        "    # merging\n",
        "    while len(self.vocab) < self.vocab_size:\n",
        "      pair_freq = self.calculate_pair_freq(word_freq, splits)\n",
        "      best_merges = sorted(pair_freq.items(), key=lambda x: -x[1])\n",
        "\n",
        "      left = self.vocab_size - len(self.vocab)\n",
        "      for i in range(min(MERGES_PER_EPOCH, left)):\n",
        "        new_merge = best_merges[i][0]\n",
        "        self.merges[new_merge] = new_merge[0] + new_merge[1]\n",
        "        self.vocab.append(new_merge[0] + new_merge[1])\n",
        "        self.vocab_set.add(new_merge[0] + new_merge[1])\n",
        "        self.merge_pairs(new_merge[0], new_merge[1], splits)\n",
        "\n",
        "      if verbose:\n",
        "        percent = len(self.vocab) / self.vocab_size * 100\n",
        "        print(f'\\rCurrent vocab: {len(self.vocab)}/{self.vocab_size} {percent:.2f}%', end='  ')\n",
        "\n",
        "    if verbose:\n",
        "      print()\n",
        "\n",
        "    self.create_lookup_maps()\n",
        "\n",
        "\n",
        "  def normalize_and_split(self, text: str) -> list[str]:\n",
        "    \"\"\"\n",
        "    Normalizes a text and splits it by whitespace.\n",
        "\n",
        "    Characters not found in the tokenizer's base vocabulary are filtered out. The text is then seperated into individual words by whitespace while keeping the delimiter.\n",
        "\n",
        "    Args:\n",
        "      text: The string we want to normalize and split.\n",
        "    \"\"\"\n",
        "    text = ''.join([c for c in text if c in base_vocab])\n",
        "    words = [' ' + word for word in text.split(' ') if word]\n",
        "    if len(words) > 0:\n",
        "      words[0] = words[0][1:]  # remove space from first element\n",
        "\n",
        "    return words\n",
        "\n",
        "\n",
        "  def calculate_pair_freq(self, word_freq: dict[str, int], splits: dict[str, list[str]]) -> dict[tuple[str, str], int]:\n",
        "    \"\"\"\n",
        "    Calculates all pair frequencies in a pretokenized corpus.\n",
        "\n",
        "    All token pairs of the pretokenized words are iterated over and their frequency tracked.\n",
        "\n",
        "    Args:\n",
        "      word_freq: The pretokenized words with their frequencies.\n",
        "      splits: The tokens comprising the pretokenized words.\n",
        "\n",
        "    Returns:\n",
        "      A dictionary of all token pairs with their respective frequencies.\n",
        "    \"\"\"\n",
        "    pair_freq = dict()\n",
        "    for word, freq in word_freq.items():\n",
        "      split = splits[word]\n",
        "      for pair in zip(split, split[1:]):  # zip adjacent tokens\n",
        "        pair_freq[pair] = pair_freq.get(pair, 0) + freq\n",
        "\n",
        "    return pair_freq\n",
        "\n",
        "\n",
        "  def merge_pairs(self, t1: str, t2: str, splits: dict[str, list[str]]) -> None:\n",
        "    \"\"\"\n",
        "    Merges tokens comprising pretokenized words.\n",
        "\n",
        "    All token pairs in the pretokenized words are compared against the merge tokens. If a match is found the tokens are compined and replaced with the merged token.\n",
        "\n",
        "    Args:\n",
        "      t1: The first token to merge.\n",
        "      t2: The seconds token to merge.\n",
        "      splits: The pretokenized words with their token splits.\n",
        "    \"\"\"\n",
        "    for word, split in splits.items():\n",
        "      i = 0\n",
        "      while len(split) - 1 > i:\n",
        "        if split[i] == t1 and split[i + 1] == t2:\n",
        "          split[i:i+2] = [t1 + t2]\n",
        "        else:\n",
        "          i += 1\n",
        "\n",
        "      splits[word] = split\n",
        "\n",
        "\n",
        "  def create_lookup_maps(self) -> None:\n",
        "    \"\"\"\n",
        "    Creates mappings for token to index and index to token.\n",
        "\n",
        "    The vocabulary is enumerated over and the appropriate key and values are placed in a map.\n",
        "    \"\"\"\n",
        "    self.token_to_index = { token:i for i, token in enumerate(self.vocab) }\n",
        "    self.index_to_token = { i:token for i, token in enumerate(self.vocab) }\n",
        "\n",
        "\n",
        "  def serialize_to_file(self, file_path: str) -> None:\n",
        "    \"\"\"\n",
        "    Serializes the tokenizer and saves it to a file.\n",
        "\n",
        "    The tokenizer's attributes are turned into JSON form and then saved to an file. The merges map contains a tuple type which cannot be serialized to JSON. Therefore, we place the tupple elements in a string and separate them with the ```self.tuple_delimiter``` char.\n",
        "\n",
        "    Args:\n",
        "      file_path: The file path for saving the serialized file.\n",
        "    \"\"\"\n",
        "    data = dict()\n",
        "    data['vocab_size'] = self.vocab_size\n",
        "    data['oov_token'] = self.oov_token\n",
        "    data['vocab'] = self.vocab\n",
        "    data['reserved_tokens'] = self.reserved_tokens\n",
        "    serialized_merges = { k[0]+self.tuple_delimiter+k[1] : v for k, v in self.merges.items() }\n",
        "    data['merges'] = serialized_merges\n",
        "\n",
        "    with open(file_path, 'w') as f:\n",
        "      json.dump(data, f)\n",
        "\n",
        "\n",
        "  def deserialize_from_file(self, file_path: str) -> None:\n",
        "    \"\"\"\n",
        "    Deserializes the tokenizer from a serialized JSON file.\n",
        "\n",
        "    The JSON file containing the serialized tokenizer is read from and the tokenizer's attributes are set. The tuples in the merges map are represented as a string with their elements separated by a delimiter. During deserialization we split this string by the delimiter and recreate the tupple.\n",
        "    \"\"\"\n",
        "    with open(file_path, 'r') as f:\n",
        "      data = json.load(f)\n",
        "      self.vocab_size = data['vocab_size']\n",
        "      self.oov_token = data['oov_token']\n",
        "      self.vocab = data['vocab']\n",
        "      self.vocab_set = set(self.vocab)\n",
        "      self.reserved_tokens = data['reserved_tokens']\n",
        "      serialized_merges = data['merges']\n",
        "      self.merges = dict()\n",
        "      for k, v in serialized_merges.items():\n",
        "        delimiter_idx = k.index(self.tuple_delimiter)\n",
        "        key = (k[:delimiter_idx], k[delimiter_idx+1:])\n",
        "        self.merges[key] = v\n",
        "\n",
        "    self.create_lookup_maps()\n",
        "\n",
        "  def get_vocab(self):\n",
        "    return self.vocab"
      ],
      "metadata": {
        "id": "AjQPj1PGUuIk"
      },
      "execution_count": null,
      "outputs": []
    },
    {
      "cell_type": "markdown",
      "source": [
        "Train the tokenizer and serialize its state. Only the first 100,000 articles are using for training to reduce compute time while keeping good merging accuracy. Only two reserved tokens need to be defined, start of text and end of text, because the constructor has default definitions for padding and out of vocabulary tokens."
      ],
      "metadata": {
        "id": "NuQ99CheeRP-"
      }
    },
    {
      "cell_type": "code",
      "execution_count": null,
      "metadata": {
        "colab": {
          "base_uri": "https://localhost:8080/"
        },
        "id": "pj_FtW7OWxfB",
        "outputId": "186f544d-02da-4e5e-f2b5-9f2c9f51951f"
      },
      "outputs": [
        {
          "name": "stdout",
          "output_type": "stream",
          "text": [
            "Current vocab: 2500/2500 100.00%  \n"
          ]
        }
      ],
      "source": [
        "reserved_tokens = [START_TOKEN, END_TOKEN]\n",
        "tokenizer = Tokenizer(vocab_size, reserved_tokens=reserved_tokens)\n",
        "\n",
        "# train on the first 100,000 articles to reduce run time and retain good merge accuracy\n",
        "tokenizer.train_on_corpus(articles[:100_000], verbose=True)\n",
        "\n",
        "tokenizer.serialize_to_file(TOKENIZER_DIR)"
      ]
    },
    {
      "cell_type": "code",
      "execution_count": null,
      "metadata": {
        "id": "6tMaENK6GqYP"
      },
      "outputs": [],
      "source": [
        "tokenizer.serialize_to_file('/content/drive/MyDrive/saved_models/tokenizer_backup.json')"
      ]
    },
    {
      "cell_type": "code",
      "execution_count": null,
      "metadata": {
        "id": "Ykk2JTyVhyvp"
      },
      "outputs": [],
      "source": [
        "tokenizer = Tokenizer(vocab_size)\n",
        "tokenizer.deserialize_from_file(TOKENIZER_DIR)"
      ]
    },
    {
      "cell_type": "code",
      "execution_count": null,
      "metadata": {
        "colab": {
          "base_uri": "https://localhost:8080/"
        },
        "id": "PtXL0XZSizoQ",
        "outputId": "5d85f4c2-270d-42a1-a5aa-245067ce319d"
      },
      "outputs": [
        {
          "name": "stdout",
          "output_type": "stream",
          "text": [
            "[542, 150, 23, 187]\n",
            " understand\n"
          ]
        }
      ],
      "source": [
        "a = tokenizer.tokenize(' understand')\n",
        "print(a)\n",
        "print(tokenizer.detokenize(a))"
      ]
    },
    {
      "cell_type": "markdown",
      "source": [
        "Evaluating the tokenizer on an excerpt from an article not found in the training set. As we can see, commonly used words are encoded using a single token. Whereas rarer words are split up across multiple tokens. It can also be observed that the tokenizer can detokenize the tokens as intended."
      ],
      "metadata": {
        "id": "Aj-T-JUKeulN"
      }
    },
    {
      "cell_type": "code",
      "execution_count": null,
      "metadata": {
        "colab": {
          "base_uri": "https://localhost:8080/"
        },
        "id": "4ISHtmoqCUl8",
        "outputId": "945d3fd8-53f1-41dd-dba8-fde65e38052a"
      },
      "outputs": [
        {
          "name": "stdout",
          "output_type": "stream",
          "text": [
            "[128, 332, 894, 367, 200, 69, 1087, 101, 352, 243, 301, 228, 542, 150, 23, 187, 389, 142, 776, 128]\n",
            "128=> on\n",
            "332=> one\n",
            "894=> hand\n",
            "367=> there\n",
            "200=> are\n",
            "69=> a\n",
            "1087=> lot\n",
            "101=> of\n",
            "352=> people\n",
            "243=> who\n",
            "301=> do\n",
            "228=> not\n",
            "542=> und\n",
            "150=>ers\n",
            "23=>t\n",
            "187=>and\n",
            "389=> what\n",
            "142=> is\n",
            "776=> going\n",
            "128=> on\n",
            " on one hand there are a lot of people who do not understand what is going on\n"
          ]
        }
      ],
      "source": [
        "tokenized = tokenizer.tokenize(' on one hand there are a lot of people who do not understand what is going on')\n",
        "print(tokenized)\n",
        "for token in tokenized:\n",
        "  print(f'{token}=>{tokenizer.detokenize([token])}')\n",
        "print(tokenizer.detokenize(tokenized))"
      ]
    },
    {
      "cell_type": "code",
      "source": [
        "[128, 332, 894, 367, 200, 69, 1087, 101, 352, 243, 301, 228, 542, 150, 23, 187, 389, 142, 776, 128]\n",
        "128=> on\n",
        "332=> one\n",
        "894=> hand\n",
        "367=> there\n",
        "200=> are\n",
        "69=> a\n",
        "1087=> lot\n",
        "101=> of\n",
        "352=> people\n",
        "243=> who\n",
        "301=> do\n",
        "228=> not\n",
        "542=> und\n",
        "150=>ers\n",
        "23=>t\n",
        "187=>and\n",
        "389=> what\n",
        "142=> is\n",
        "776=> going\n",
        "128=> on\n",
        " on one hand there are a lot of people who do not understand what is going on"
      ],
      "metadata": {
        "id": "J06vaZmagatt"
      },
      "execution_count": null,
      "outputs": []
    },
    {
      "cell_type": "markdown",
      "source": [
        "Accessing the tokenizer's speed using Google Colab's built in timeit function. The sentence chosen for this task is an excerpt from an article not found in the training set with appropriate reserved tokens added."
      ],
      "metadata": {
        "id": "ELfFmgXog0In"
      }
    },
    {
      "cell_type": "code",
      "execution_count": null,
      "metadata": {
        "id": "Yuc2ZLXgqtfK"
      },
      "outputs": [],
      "source": [
        "corpus = ['<s>with that being said, there are many who think that</s><pad>'] * 1000"
      ]
    },
    {
      "cell_type": "code",
      "execution_count": null,
      "metadata": {
        "colab": {
          "base_uri": "https://localhost:8080/"
        },
        "id": "ATTBeiRUq1DJ",
        "outputId": "8908e156-806a-416a-9e13-198665a6e5c1"
      },
      "outputs": [
        {
          "name": "stdout",
          "output_type": "stream",
          "text": [
            "47.2 ms ± 703 µs per loop (mean ± std. dev. of 7 runs, 10 loops each)\n"
          ]
        }
      ],
      "source": [
        "%%timeit\n",
        "for e in corpus:\n",
        "  tokenizer.tokenize(e)"
      ]
    },
    {
      "cell_type": "markdown",
      "metadata": {
        "id": "odmKcYvA0jaP"
      },
      "source": [
        "## Create dataset pipeline"
      ]
    },
    {
      "cell_type": "markdown",
      "source": [
        "The dataset pipeline is created by tokening the articles, splitting them up into sequence-length long chunk and packaging them up in tenorflow's Dataset object. Using a dataset object gives us more control and flexibility, primarily in the way the data is loaded into ram. In order to reduce the dataset's disk space, sequence-length plus one long chunks are stored. When loading the dataset, these chunks are turned into the X and Y values for the function."
      ],
      "metadata": {
        "id": "QHD9CE5L0EWt"
      }
    },
    {
      "cell_type": "code",
      "execution_count": null,
      "metadata": {
        "id": "QYfxVYf3G_-j"
      },
      "outputs": [],
      "source": [
        "tokenizer = Tokenizer(vocab_size)\n",
        "tokenizer.deserialize_from_file(TOKENIZER_DIR)"
      ]
    },
    {
      "cell_type": "code",
      "execution_count": null,
      "metadata": {
        "colab": {
          "base_uri": "https://localhost:8080/"
        },
        "id": "XWVRlDAV0mq_",
        "outputId": "81efb96d-8e5d-4f9a-f0c9-d80384e70177"
      },
      "outputs": [
        {
          "output_type": "stream",
          "name": "stdout",
          "text": [
            "Articles tokenized: 311971/311971 100.00%  "
          ]
        }
      ],
      "source": [
        "for i, e in enumerate(articles):\n",
        "  # overwrite articles with their tokenized form to reduce ram usage\n",
        "  articles[i] = tokenizer.tokenize(e)\n",
        "  percent = (i + 1) / len(articles) * 100\n",
        "  print(f'\\rArticles tokenized: {i+1}/{len(articles)} {percent:.2f}%', end='  ')"
      ]
    },
    {
      "cell_type": "code",
      "execution_count": null,
      "metadata": {
        "colab": {
          "base_uri": "https://localhost:8080/",
          "height": 465
        },
        "id": "qFuKej5gmoPu",
        "outputId": "ade6f04a-0c63-4e04-ee10-d7e34e31bc21"
      },
      "outputs": [
        {
          "name": "stdout",
          "output_type": "stream",
          "text": [
            "avg: 1212.4867567818803\n",
            "mode: 882\n"
          ]
        },
        {
          "data": {
            "image/png": "[encoded data removed]",
            "text/plain": [
              "<Figure size 640x480 with 1 Axes>"
            ]
          },
          "metadata": {},
          "output_type": "display_data"
        }
      ],
      "source": [
        "tokenized_data_lengths = [len(e) for e in articles]\n",
        "\n",
        "avg = sum(tokenized_data_lengths) / len(tokenized_data_lengths)\n",
        "print('avg:', avg)\n",
        "mode = max(set(tokenized_data_lengths), key=tokenized_data_lengths.count)\n",
        "print('mode:', mode)\n",
        "\n",
        "plt.hist(tokenized_data_lengths, bins=1000)\n",
        "plt.show()"
      ]
    },
    {
      "cell_type": "markdown",
      "source": [],
      "metadata": {
        "id": "oU-cEh0V0kEs"
      }
    },
    {
      "cell_type": "code",
      "execution_count": null,
      "metadata": {
        "id": "Z5xaFTD4sYXd"
      },
      "outputs": [],
      "source": [
        "split_length = seq_length + 1\n",
        "start_token_index = [2]\n",
        "end_token_index = [3]\n",
        "\n",
        "padded_data = list()\n",
        "\n",
        "for e in articles:\n",
        "  e = start_token_index + e + end_token_index\n",
        "  e = np.array(e)\n",
        "  splits = int(math.ceil(len(e) / split_length))\n",
        "  padding_length = splits * split_length - len(e)\n",
        "\n",
        "  e = np.pad(e, (0, padding_length))\n",
        "  padded_data.extend(np.array_split(e, splits))"
      ]
    },
    {
      "cell_type": "code",
      "execution_count": null,
      "metadata": {
        "colab": {
          "base_uri": "https://localhost:8080/"
        },
        "id": "RSri1paHw09L",
        "outputId": "6ec76d8d-3ed8-44c5-aa1e-96d446252b46"
      },
      "outputs": [
        {
          "output_type": "stream",
          "name": "stdout",
          "text": [
            "1629583\n"
          ]
        }
      ],
      "source": [
        "print(len(padded_data))"
      ]
    },
    {
      "cell_type": "code",
      "source": [
        "np.save('/content/drive/MyDrive/datasets/articles.npy', padded_data)"
      ],
      "metadata": {
        "id": "6MERfU0G4Y7p"
      },
      "execution_count": null,
      "outputs": []
    },
    {
      "cell_type": "code",
      "source": [
        "padded_data = np.load('/content/drive/MyDrive/datasets/articles.npy')"
      ],
      "metadata": {
        "id": "GHBurzTDAKiM"
      },
      "execution_count": null,
      "outputs": []
    },
    {
      "cell_type": "code",
      "execution_count": null,
      "metadata": {
        "id": "cIeJpwqOpUWr"
      },
      "outputs": [],
      "source": [
        "dataset = tf.data.Dataset.from_tensor_slices(padded_data)"
      ]
    },
    {
      "cell_type": "code",
      "execution_count": null,
      "metadata": {
        "id": "5gsGGVlCj-6H"
      },
      "outputs": [],
      "source": [
        "dataset.save(DATASET_DIR)"
      ]
    },
    {
      "cell_type": "markdown",
      "metadata": {
        "id": "6eFddh9C6lAr"
      },
      "source": [
        "# Model"
      ]
    },
    {
      "cell_type": "markdown",
      "metadata": {
        "id": "hSPOBE5lJ2DI"
      },
      "source": [
        "## The transformer"
      ]
    },
    {
      "cell_type": "markdown",
      "metadata": {
        "id": "_0z1Eo97YMNE"
      },
      "source": [
        "This transformer architecture is based on the architecture first proposed in the \"Attention is all you need\" paper, with a few changes. Primariliy adding dropout and moving the batch normilzation in front of the Multi-head masked attention layer, and adding one before the feed forward layer.\n",
        "\n",
        "**Diagram**:\n",
        "\n",
        "![diagram](https://drive.google.com/uc?export=view&id=1OuqMYRGyUihgPOramyPEEqAhgaji0HBZ)"
      ]
    },
    {
      "cell_type": "markdown",
      "metadata": {
        "id": "bgq2obPh6vJy"
      },
      "source": [
        "### Masked multi-head attention"
      ]
    },
    {
      "cell_type": "markdown",
      "metadata": {
        "id": "wL_2_3DsikuG"
      },
      "source": [
        "The scaled dot product attention is the core of the transformer architecture. THe attentin model is what allows the transformer to deal with large input sequences without with exploding or vanishing gradients. It's comparable to a search engine where we have a Query which gets compared to a list of Keys of Values. Values that have keys similar to the query get a higher relevance score. The similarity between queries and keys is calculated using a scaled dot product: $\\frac{Q\\cdot K^T}{\\sqrt{d_k}}$. When one of the data dimensions in the queries vector and keys vector is large, it's dot product will also be large. When either or both are small the dot product is small. However, the total dot product grows as the data dimensions grow. Therefore, we need to scale the total dot product by a factor of $\\frac{1}{\\sqrt{d_k}}$.\n",
        "\n",
        "A softmax function is then applied across the last dimension.\n",
        "\n",
        "\n",
        "\n",
        "$Attention(Q,K,V)=softmax(\\frac{Q\\cdot K^T}{\\sqrt{d_k}})\\cdot V$\n",
        "\n",
        "**Diagram:**\n",
        "\n",
        "![diagram](https://drive.google.com/uc?export=view&id=1sq2NAvfa7ECivIB1fxTn7d4xKP-OGyzZ)\n",
        "\n",
        "https://jalammar.github.io/illustrated-transformer/\n",
        "\n",
        "https://nlp.seas.harvard.edu/2018/04/03/attention.html#\n",
        "\n",
        "Attention is all you need"
      ]
    },
    {
      "cell_type": "code",
      "execution_count": null,
      "metadata": {
        "id": "vfzIP5CS6okS"
      },
      "outputs": [],
      "source": [
        "def scaled_dot_product_attention(Q, K, V, mask):\n",
        "  \"\"\"\n",
        "  Implementation of scaled dot product attention.\n",
        "\n",
        "  The shape of the queries, values and keys is not known. We only care about the last two dimensions which must be of shape (tokens, d_k) for the queries and keys, and (tokens, d_v) for the values. This allows us to use the function both for normal attention and for multi head attention. Additionally, this means the function doesn't need batch dimension boilerplate.\n",
        "\n",
        "  Args:\n",
        "    Q: the queries. (..., seq_length, d_k)\n",
        "    K: the keys. (..., seq_length, d_k)\n",
        "    V: the values. (..., seq_length, d_v)\n",
        "    mask: a boolean mask of elements not to attend to. (batches, heads, seq_length, seq_length)\n",
        "\n",
        "  Returns:\n",
        "    The scaled dot product attention of the queries, keys and values provided. If the input was comprised of multple batches and heads the result will retain the number of batches and heads. (..., seq_length, d_v)\n",
        "  \"\"\"\n",
        "  # matmul transposition uses `tf.linalg.matrix_transpose` which only transposes\n",
        "  # the inner-most 2d matrix\n",
        "  x = tf.matmul(Q, K, transpose_b=True) # (..., seq_length, seq_length)\n",
        "\n",
        "  # scale the dot product with of a factor of 1 over the standard deviation,\n",
        "  # therefore the standard deviation is now unit\n",
        "  d_k = Q.shape[-1]\n",
        "  x /= d_k**0.5\n",
        "\n",
        "  # apply look-ahead and padding masks, ones represent values we want to keep\n",
        "  replace_with = tf.expand_dims(tf.ones(x.shape[-1:], dtype=tf.float32) * -1e9, axis=0)\n",
        "  x = tf.where(mask, x, replace_with)\n",
        "\n",
        "  # apply the softmax functin across each token, horizontally\n",
        "  x = tf.nn.softmax(x, axis=-1)\n",
        "\n",
        "  x = tf.matmul(x, V) # (..., seq_length, d_v)\n",
        "\n",
        "  return x"
      ]
    },
    {
      "cell_type": "markdown",
      "metadata": {
        "id": "HfwR4PvIYeAG"
      },
      "source": [
        "This multi-head attention architecture is identical to the one proposed in the \"Attention is all you need\" paper. The inputs are then split up into groups of size $\\frac{d_{model}}{head}$. Each group is projected using learned pojection wegiths into keys, queries and values, which are then feed into a scaled dot product attention. The heads' results are then concatenated across the last dimension and multiplied by a learned proejection weight $O_w$. Dropout is applied to prevent overfitting.\n",
        "\n",
        "\n",
        "**Diagram**:\n",
        "\n",
        "![diagram](https://drive.google.com/uc?export=view&id=14ntHSd5lbxq04yVmk_NXnPvDNUz8FzuR)"
      ]
    },
    {
      "cell_type": "code",
      "execution_count": null,
      "metadata": {
        "id": "dumAdOkl_kY6"
      },
      "outputs": [],
      "source": [
        "class Multi_Head_Attention(tf.keras.layers.Layer):\n",
        "  \"\"\"\n",
        "  Implementation of multi head attention. This model is identical to the one proposed in the \"Attention is all you need\" paper.\n",
        "\n",
        "  Attributes:\n",
        "    supports_masking: tells tensorflow that this layer supports masking.\n",
        "    d_model: the model's embedding dimension size.\n",
        "    heads: the number of attention heads to be used.\n",
        "    d_k: the size of keys and queries vectors.\n",
        "    d_v: the size of the value vector.\n",
        "    Q_w: the projection metrix for calculating queries, consists of learned parameters.\n",
        "    K_w: the projection metrix for calculating keys, consists of learned parameters.\n",
        "    V_w: the projection metrix for calculating values, consists of learned parameters.\n",
        "    Q_w: the projection metrix for concatenating the attention heads, consists of learned parameters.\n",
        "    dropout: the dropout layer.\n",
        "  \"\"\"\n",
        "\n",
        "  def __init__(self, heads, d_model, dropout_rate):\n",
        "    \"\"\"\n",
        "    Creates the Multi_Head_Attentin object.\n",
        "\n",
        "    Args:\n",
        "      heads: the number of attention heads we want to use.\n",
        "      d_model: the model's embedding dimension.\n",
        "      dropout_rate: the attention mechinism's dropout rate.\n",
        "    \"\"\"\n",
        "    super().__init__()\n",
        "    self.supports_masking = True\n",
        "\n",
        "    if d_model % heads != 0:\n",
        "      raise ValueError('Model embedding dimensions must be divisible by the number of attention heads!')\n",
        "\n",
        "    self.d_model = d_model\n",
        "    self.heads = heads\n",
        "\n",
        "    # in this case d_k and d_v are equal, however that's just for simplicity's sake\n",
        "    self.d_k = d_model // heads\n",
        "    self.d_v = d_model // heads\n",
        "\n",
        "    # Xavier weight initialization\n",
        "    seed = np.random.randint(1e9, size=1)[0]\n",
        "    initializer = tf.keras.initializers.GlorotNormal(seed)\n",
        "    # we need to add a 1 for the batch dimension, tensorflow's matmul doesn't do this for us\n",
        "    self.Q_w = tf.Variable(initializer(shape=(1, heads, d_model, self.d_k)))\n",
        "    self.K_w = tf.Variable(initializer(shape=(1, heads, d_model, self.d_k)))\n",
        "    self.V_w = tf.Variable(initializer(shape=(1, heads, d_model, self.d_v)))\n",
        "    self.O_w = tf.Variable(initializer(shape=(1, heads * self.d_v, d_model)))\n",
        "\n",
        "    self.dropout = tf.keras.layers.Dropout(dropout_rate)\n",
        "\n",
        "\n",
        "  def call(self, inputs, mask=None):\n",
        "    \"\"\"\n",
        "    Applies the multi-head self attention to a given input. Called during forward propagation and inference.\n",
        "\n",
        "    Args:\n",
        "      inputs: the layer's inputs, must be in the shape (batches, tokens, d_model).\n",
        "      mask: an additional mask to ignore padding tokens, if no mask is provided only a causal mask will be applied.\n",
        "    \"\"\"\n",
        "\n",
        "    # add heads dimension to inputs\n",
        "    inputs = tf.expand_dims(inputs, axis=1) # (batches, 1, tokens, d_model)\n",
        "\n",
        "    Q = tf.matmul(inputs, self.Q_w) # (batches, heads, tokens, d_k)\n",
        "    K = tf.matmul(inputs, self.K_w) # (batches, heads, tokens, d_k)\n",
        "    V = tf.matmul(inputs, self.V_w) # (batches, heads, tokens, d_v)\n",
        "\n",
        "    # create masks\n",
        "    seq_len = inputs.shape[-2]\n",
        "    full_mask = tf.cast(np.tri(seq_len), dtype=tf.bool)\n",
        "    if mask is not None:\n",
        "      mask = tf.expand_dims(mask, axis=1) # (batches, 1, seq_len)\n",
        "      mask = tf.expand_dims(mask, axis=1) # (batches, 1, 1, seq_len)\n",
        "      mask = tf.tile(mask, tf.constant([1, 1, seq_len, 1])) # (batches, heads, seq_len, seq_len)\n",
        "      full_mask = full_mask & mask # (batches, heads, seq_len, seq_len)\n",
        "\n",
        "    x = scaled_dot_product_attention(Q, K, V, full_mask) # (batches, heads, tokens, d_v)\n",
        "\n",
        "    # concatenate heads\n",
        "    batches, heads, tokens, d_v = x.shape\n",
        "    # this line is the root of a bug which took me a week to find\n",
        "    x = tf.transpose(x, perm=[0, 2, 1, 3])\n",
        "    # batches could be None, we therefore pass -1 so that the batch size is calculated at runtime\n",
        "    x = tf.reshape(x, (-1, tokens, heads*d_v)) # (batches, tokens, d_model)\n",
        "\n",
        "    x = self.dropout(x)\n",
        "\n",
        "    x = tf.matmul(x, self.O_w) # (batches, tokens, d_model)\n",
        "\n",
        "    return x"
      ]
    },
    {
      "cell_type": "markdown",
      "metadata": {
        "id": "0I4HSp7O6xfy"
      },
      "source": [
        "### Feed forward network"
      ]
    },
    {
      "cell_type": "markdown",
      "source": [
        "Each transformer block contains one fully connected feed forward network. The\n",
        "network is comprised of one dense layer with a `relu` non-linearity, followed by a dense layer of size $d_{model}$. Dropout is applied to prevent overfitting."
      ],
      "metadata": {
        "id": "tDVRTTMh70o8"
      }
    },
    {
      "cell_type": "code",
      "execution_count": null,
      "metadata": {
        "id": "FDUImwGc6yAS"
      },
      "outputs": [],
      "source": [
        "class FeedForwardNetwork(tf.keras.layers.Layer):\n",
        "  \"\"\"\n",
        "  A simple implementation of the feedforward layer found in the \"Attention is all you need\" paper. The paper suggests implementing the layer using a convelution layer with a kernel of one, however this implemention is based on element-wise dense layers.\n",
        "\n",
        "  Attributes:\n",
        "    supports_masking: tells tensorflow that this layer supports masks.\n",
        "    dense1: the first dense layer in the FFN.\n",
        "    dense2: the second dense layer in the FFN\n",
        "    dropout: the dropout layer used to prevent overfitting.\n",
        "  \"\"\"\n",
        "\n",
        "  def __init__(self, dff, d_model, dropout_rate):\n",
        "    \"\"\"\n",
        "    Creates the FeedForwardNetwork object.\n",
        "\n",
        "    Args:\n",
        "      dff: the size of the hidden dense layer.\n",
        "      d_mode: the embedding dimension of the model.\n",
        "      dropout_rate: the dropout rate used.\n",
        "    \"\"\"\n",
        "    super().__init__()\n",
        "    self.supports_masking = True\n",
        "\n",
        "    self.dense1 = tf.keras.layers.Dense(dff, activation='relu')\n",
        "    self.dense2 = tf.keras.layers.Dense(d_model)\n",
        "    self.dropout = tf.keras.layers.Dropout(dropout_rate)\n",
        "\n",
        "\n",
        "  def call(self, inputs):\n",
        "    \"\"\"\n",
        "    Applies the feed forward network. Called during forward propagation and inference.\n",
        "\n",
        "    Args:\n",
        "      inputs: the layer's inputs, must of of shape (batches, seq_length, d_model)\n",
        "    \"\"\"\n",
        "    x = self.dense1(inputs)\n",
        "    x = self.dense2(x)\n",
        "    x = self.dropout(x)\n",
        "\n",
        "    return x"
      ]
    },
    {
      "cell_type": "markdown",
      "metadata": {
        "id": "Zb7QPSGR7HEC"
      },
      "source": [
        "### Transformer block"
      ]
    },
    {
      "cell_type": "markdown",
      "source": [
        "The transformer block encapsulates the attention mechanisms and feed forward network along with layer normalization and residual connections into one block. This block's goal is to extract and refine information from the input so that it can be used in the other layers of the network. Encasing the logic into one block allows for easy model configuration. The blocks can be layered atop each other with ease.\n",
        "\n",
        "![diagram](https://drive.google.com/uc?export=view&id=1OuqMYRGyUihgPOramyPEEqAhgaji0HBZ)"
      ],
      "metadata": {
        "id": "HJ5p-cVV87h0"
      }
    },
    {
      "cell_type": "code",
      "execution_count": null,
      "metadata": {
        "id": "rfY2VXGl7JZD"
      },
      "outputs": [],
      "source": [
        "class TransformerBlock(tf.keras.layers.Layer):\n",
        "\"\"\"\n",
        "Implementation of the full transformer block, consisting of attention mechanisms and a feed forward network along with layer normalization and residual connections.\n",
        "\n",
        "Attributes:\n",
        "  supports_masking: tells tensorflow that this layer supports masks.\n",
        "  layer_norm_1: the first normalization layer.\n",
        "  residual_connection: the residual connection component. The same object is used twice as it doesn't have learnable parameters.\n",
        "  layer_norm_2: the second normalization layer.\n",
        "  feed_forward_network: the trasnformer's feed forward network.\n",
        "\"\"\"\n",
        "\n",
        "  def __init__(self, attention_heads, dff, d_model, dropout_rate):\n",
        "    \"\"\"\n",
        "    Creates a transformer object.\n",
        "\n",
        "    Args:\n",
        "      attention_heads: the desired number of heads in the attention mechanism.\n",
        "      dff: the size of the hidden layer in the feed forward network.\n",
        "      dropout_rate: the dropout rate for the different parts of the transformer.\n",
        "    \"\"\"\n",
        "    super().__init__()\n",
        "    self.supports_masking = True\n",
        "\n",
        "    self.layer_norm_1 = tf.keras.layers.LayerNormalization()\n",
        "    self.multi_head_attention = Multi_Head_Attention(attention_heads, d_model, dropout_rate)\n",
        "    self.residual_connection = tf.keras.layers.Add()\n",
        "    self.layer_norm_2 = tf.keras.layers.LayerNormalization()\n",
        "    self.feed_forward_network = FeedForwardNetwork(dff, d_model, dropout_rate)\n",
        "\n",
        "\n",
        "  def call(self, inputs):\n",
        "    \"\"\"\n",
        "    Applies the trasnformer logic to an input. Used during forward propagation and inference.\n",
        "\n",
        "    Args:\n",
        "      inputs: the input matrix, must be of shape (batches, seq_length, d_model)\n",
        "    \"\"\"\n",
        "    norm_1_out = self.layer_norm_1(inputs)\n",
        "    attention_out = self.multi_head_attention(norm_1_out)\n",
        "    residual_1_out = self.residual_connection([norm_1_out, attention_out])\n",
        "\n",
        "    norm_2_out = self.layer_norm_2(residual_1_out)\n",
        "    ffn_out = self.feed_forward_network(norm_2_out)\n",
        "    residual_2_out = self.residual_connection([norm_2_out, ffn_out])\n",
        "\n",
        "    return residual_2_out"
      ]
    },
    {
      "cell_type": "markdown",
      "metadata": {
        "id": "b6ouOLRedhof"
      },
      "source": [
        "## Positional embedding"
      ]
    },
    {
      "cell_type": "markdown",
      "source": [
        "Positional embedding as proposed in the \"Attention is all you need\" paper.\n",
        "\n",
        "\n",
        "$PE(pos, 2i) = \\sin (\\frac{pos}{10000^{\\frac{2i}{d_{model}}}})$\n",
        "\n",
        "$PE(pos, 2i+1) = \\cos (\\frac{pos}{10000^{\\frac{2i}{d_{model}}}})$"
      ],
      "metadata": {
        "id": "e9meNUyM9u_r"
      }
    },
    {
      "cell_type": "code",
      "execution_count": null,
      "metadata": {
        "id": "2QJEqKGBdnu4"
      },
      "outputs": [],
      "source": [
        "def positional_encoding(length, depth):\n",
        "  \"\"\"\n",
        "  Creates the positional encoding matrix from  the sinusoidal encoding formulas.\n",
        "\n",
        "  Args:\n",
        "    length: number of possible sequence positions.\n",
        "    depth: the depth of the encoding, equal to the token embedding dimension.\n",
        "  \"\"\"\n",
        "  depth = depth/2\n",
        "\n",
        "  positions = np.arange(length)[:, np.newaxis] # (seq, 1)\n",
        "  depths = np.arange(depth)[np.newaxis, :] / depth # (1, depth)\n",
        "\n",
        "  angle_rates = 1 / (10000**depths) # (1, depth)\n",
        "  angle_rads = positions * angle_rates # (pos, depth)\n",
        "\n",
        "  pos_encoding = np.concatenate(\n",
        "      [np.sin(angle_rads), np.cos(angle_rads)],\n",
        "      axis=-1)\n",
        "\n",
        "  pos_encoding = np.expand_dims(pos_encoding, axis=0)\n",
        "\n",
        "  return tf.cast(pos_encoding, dtype=tf.float32)"
      ]
    },
    {
      "cell_type": "code",
      "execution_count": null,
      "metadata": {
        "id": "hJxZL9uHdrQq"
      },
      "outputs": [],
      "source": [
        "class PositionalEmbedding(tf.keras.layers.Layer):\n",
        "  \"\"\"\n",
        "  Implementation of a positional embedding layer based on the sinusoidal encoding formulas from the \"Attention is all you need\" paper.\n",
        "\n",
        "  Attributes:\n",
        "    supports_masking: tells tensorflow that this layer supports masking.\n",
        "    pe_table: the table containing the positional encoding values.\n",
        "  \"\"\"\n",
        "\n",
        "  def __init__(self, max_length, d_model):\n",
        "    \"\"\"\n",
        "    Creates a PostionalEmbedding object.\n",
        "\n",
        "    Args:\n",
        "      max_length: the maximum sequence length.\n",
        "      d_model: the token embedding dimension.\n",
        "    \"\"\"\n",
        "    super().__init__()\n",
        "    self.supports_masking = True\n",
        "\n",
        "    self.pe_table = positional_encoding(max_length, d_model)\n",
        "\n",
        "\n",
        "  def call(self, inputs):\n",
        "    \"\"\"\n",
        "    Adds the positional embedding values to an input. Called during forward propagatin and inference.\n",
        "\n",
        "    Args:\n",
        "      input: the input matrix, must be of shape (batches, seq_length, d_model)\n",
        "    \"\"\"\n",
        "    batches, seq_length, d_model = inputs.shape\n",
        "\n",
        "    # scale up token embeddings so that they have more influence than positional embedding\n",
        "    x = inputs * np.sqrt(d_model, dtype=np.float32)\n",
        "\n",
        "    x = x + 0.1 * self.pe_table[:, :seq_length, :]\n",
        "\n",
        "    return x"
      ]
    },
    {
      "cell_type": "markdown",
      "metadata": {
        "id": "73TjwYbG1BUK"
      },
      "source": [
        "## Complete model"
      ]
    },
    {
      "cell_type": "code",
      "execution_count": null,
      "metadata": {
        "id": "D3zXNHS81D1x"
      },
      "outputs": [],
      "source": [
        "inputs = tf.keras.Input(shape=(seq_length, ))\n",
        "# token embedding layer\n",
        "x = tf.keras.layers.Embedding(vocab_size, d_model, mask_zero=True)(inputs)\n",
        "# positonal embedding layer\n",
        "x = PositionalEmbedding(5000, d_model)(x)\n",
        "\n",
        "for _ in range(transformer_units):\n",
        "  x = TransformerBlock(attention_heads, dff, d_model, dropout_rate)(x)\n",
        "\n",
        "x = tf.keras.layers.LayerNormalization()(x)\n",
        "\n",
        "outputs = tf.keras.layers.Dense(vocab_size)(x)\n",
        "\n",
        "model = tf.keras.Model(inputs=inputs, outputs=outputs)\n",
        "\n",
        "model.compile(loss=tf.keras.losses.SparseCategoricalCrossentropy(from_logits=True),\n",
        "             optimizer=tf.keras.optimizers.legacy.Adam(learning_rate=learning_rate),\n",
        "              metrics=['accuracy'])"
      ]
    },
    {
      "cell_type": "code",
      "execution_count": null,
      "metadata": {
        "colab": {
          "base_uri": "https://localhost:8080/"
        },
        "id": "F6_xWhDEd_K4",
        "outputId": "a588ca8d-383d-419d-f969-d91a20238603"
      },
      "outputs": [
        {
          "output_type": "stream",
          "name": "stdout",
          "text": [
            "Model: \"model\"\n",
            "_________________________________________________________________\n",
            " Layer (type)                Output Shape              Param #   \n",
            "=================================================================\n",
            " input_1 (InputLayer)        [(None, 256)]             0         \n",
            "                                                                 \n",
            " embedding (Embedding)       (None, 256, 384)          960000    \n",
            "                                                                 \n",
            " positional_embedding (Posi  (None, 256, 384)          0         \n",
            " tionalEmbedding)                                                \n",
            "                                                                 \n",
            " transformer_block (Transfo  (None, 256, 384)          1379200   \n",
            " rmerBlock)                                                      \n",
            "                                                                 \n",
            " transformer_block_1 (Trans  (None, 256, 384)          1379200   \n",
            " formerBlock)                                                    \n",
            "                                                                 \n",
            " transformer_block_2 (Trans  (None, 256, 384)          1379200   \n",
            " formerBlock)                                                    \n",
            "                                                                 \n",
            " transformer_block_3 (Trans  (None, 256, 384)          1379200   \n",
            " formerBlock)                                                    \n",
            "                                                                 \n",
            " transformer_block_4 (Trans  (None, 256, 384)          1379200   \n",
            " formerBlock)                                                    \n",
            "                                                                 \n",
            " transformer_block_5 (Trans  (None, 256, 384)          1379200   \n",
            " formerBlock)                                                    \n",
            "                                                                 \n",
            " layer_normalization_12 (La  (None, 256, 384)          768       \n",
            " yerNormalization)                                               \n",
            "                                                                 \n",
            " dense_12 (Dense)            (None, 256, 2500)         962500    \n",
            "                                                                 \n",
            "=================================================================\n",
            "Total params: 10198468 (38.90 MB)\n",
            "Trainable params: 10198468 (38.90 MB)\n",
            "Non-trainable params: 0 (0.00 Byte)\n",
            "_________________________________________________________________\n",
            "None\n"
          ]
        }
      ],
      "source": [
        "print(model.summary())"
      ]
    },
    {
      "cell_type": "code",
      "source": [
        "tf.keras.utils.plot_model(model, show_shapes=True, show_dtype=False, show_layer_names=False, rankdir='TB', expand_nested=True, show_layer_activations=True, dpi=200)"
      ],
      "metadata": {
        "colab": {
          "base_uri": "https://localhost:8080/",
          "height": 1000
        },
        "id": "yt8SWv_iq-dw",
        "outputId": "5d0eb45a-3754-42ca-af6e-d000639cc644"
      },
      "execution_count": null,
      "outputs": [
        {
          "output_type": "execute_result",
          "data": {
            "image/png": "[encoded data removed]",
            "text/plain": [
              "<IPython.core.display.Image object>"
            ]
          },
          "metadata": {},
          "execution_count": 22
        }
      ]
    },
    {
      "cell_type": "code",
      "execution_count": null,
      "metadata": {
        "id": "afScPsAlcxyO",
        "colab": {
          "base_uri": "https://localhost:8080/",
          "height": 321
        },
        "outputId": "76c5a799-5fd4-46f5-e639-ad3d1862d3e1"
      },
      "outputs": [
        {
          "output_type": "error",
          "ename": "OSError",
          "evalue": "No file or directory found at /content/drive/MyDrive/checkpoints/trained_checkpoint/checkpoint.ckpt",
          "traceback": [
            "\u001b[0;31m---------------------------------------------------------------------------\u001b[0m",
            "\u001b[0;31mOSError\u001b[0m                                   Traceback (most recent call last)",
            "\u001b[0;32m<ipython-input-12-f44e0a5d7b3f>\u001b[0m in \u001b[0;36m<cell line: 8>\u001b[0;34m()\u001b[0m\n\u001b[1;32m      6\u001b[0m }\n\u001b[1;32m      7\u001b[0m \u001b[0;34m\u001b[0m\u001b[0m\n\u001b[0;32m----> 8\u001b[0;31m \u001b[0mmodel\u001b[0m \u001b[0;34m=\u001b[0m \u001b[0mtf\u001b[0m\u001b[0;34m.\u001b[0m\u001b[0mkeras\u001b[0m\u001b[0;34m.\u001b[0m\u001b[0mmodels\u001b[0m\u001b[0;34m.\u001b[0m\u001b[0mload_model\u001b[0m\u001b[0;34m(\u001b[0m\u001b[0mCHECKPOINT_DIR\u001b[0m\u001b[0;34m,\u001b[0m \u001b[0mcustom_objects\u001b[0m\u001b[0;34m=\u001b[0m\u001b[0mcustom_objects\u001b[0m\u001b[0;34m)\u001b[0m\u001b[0;34m\u001b[0m\u001b[0;34m\u001b[0m\u001b[0m\n\u001b[0m",
            "\u001b[0;32m/usr/local/lib/python3.10/dist-packages/keras/src/saving/saving_api.py\u001b[0m in \u001b[0;36mload_model\u001b[0;34m(filepath, custom_objects, compile, safe_mode, **kwargs)\u001b[0m\n\u001b[1;32m    260\u001b[0m \u001b[0;34m\u001b[0m\u001b[0m\n\u001b[1;32m    261\u001b[0m     \u001b[0;31m# Legacy case.\u001b[0m\u001b[0;34m\u001b[0m\u001b[0;34m\u001b[0m\u001b[0m\n\u001b[0;32m--> 262\u001b[0;31m     return legacy_sm_saving_lib.load_model(\n\u001b[0m\u001b[1;32m    263\u001b[0m         \u001b[0mfilepath\u001b[0m\u001b[0;34m,\u001b[0m \u001b[0mcustom_objects\u001b[0m\u001b[0;34m=\u001b[0m\u001b[0mcustom_objects\u001b[0m\u001b[0;34m,\u001b[0m \u001b[0mcompile\u001b[0m\u001b[0;34m=\u001b[0m\u001b[0mcompile\u001b[0m\u001b[0;34m,\u001b[0m \u001b[0;34m**\u001b[0m\u001b[0mkwargs\u001b[0m\u001b[0;34m\u001b[0m\u001b[0;34m\u001b[0m\u001b[0m\n\u001b[1;32m    264\u001b[0m     )\n",
            "\u001b[0;32m/usr/local/lib/python3.10/dist-packages/keras/src/utils/traceback_utils.py\u001b[0m in \u001b[0;36merror_handler\u001b[0;34m(*args, **kwargs)\u001b[0m\n\u001b[1;32m     68\u001b[0m             \u001b[0;31m# To get the full stack trace, call:\u001b[0m\u001b[0;34m\u001b[0m\u001b[0;34m\u001b[0m\u001b[0m\n\u001b[1;32m     69\u001b[0m             \u001b[0;31m# `tf.debugging.disable_traceback_filtering()`\u001b[0m\u001b[0;34m\u001b[0m\u001b[0;34m\u001b[0m\u001b[0m\n\u001b[0;32m---> 70\u001b[0;31m             \u001b[0;32mraise\u001b[0m \u001b[0me\u001b[0m\u001b[0;34m.\u001b[0m\u001b[0mwith_traceback\u001b[0m\u001b[0;34m(\u001b[0m\u001b[0mfiltered_tb\u001b[0m\u001b[0;34m)\u001b[0m \u001b[0;32mfrom\u001b[0m \u001b[0;32mNone\u001b[0m\u001b[0;34m\u001b[0m\u001b[0;34m\u001b[0m\u001b[0m\n\u001b[0m\u001b[1;32m     71\u001b[0m         \u001b[0;32mfinally\u001b[0m\u001b[0;34m:\u001b[0m\u001b[0;34m\u001b[0m\u001b[0;34m\u001b[0m\u001b[0m\n\u001b[1;32m     72\u001b[0m             \u001b[0;32mdel\u001b[0m \u001b[0mfiltered_tb\u001b[0m\u001b[0;34m\u001b[0m\u001b[0;34m\u001b[0m\u001b[0m\n",
            "\u001b[0;32m/usr/local/lib/python3.10/dist-packages/keras/src/saving/legacy/save.py\u001b[0m in \u001b[0;36mload_model\u001b[0;34m(filepath, custom_objects, compile, options)\u001b[0m\n\u001b[1;32m    232\u001b[0m                     \u001b[0;32mif\u001b[0m \u001b[0misinstance\u001b[0m\u001b[0;34m(\u001b[0m\u001b[0mfilepath_str\u001b[0m\u001b[0;34m,\u001b[0m \u001b[0mstr\u001b[0m\u001b[0;34m)\u001b[0m\u001b[0;34m:\u001b[0m\u001b[0;34m\u001b[0m\u001b[0;34m\u001b[0m\u001b[0m\n\u001b[1;32m    233\u001b[0m                         \u001b[0;32mif\u001b[0m \u001b[0;32mnot\u001b[0m \u001b[0mtf\u001b[0m\u001b[0;34m.\u001b[0m\u001b[0mio\u001b[0m\u001b[0;34m.\u001b[0m\u001b[0mgfile\u001b[0m\u001b[0;34m.\u001b[0m\u001b[0mexists\u001b[0m\u001b[0;34m(\u001b[0m\u001b[0mfilepath_str\u001b[0m\u001b[0;34m)\u001b[0m\u001b[0;34m:\u001b[0m\u001b[0;34m\u001b[0m\u001b[0;34m\u001b[0m\u001b[0m\n\u001b[0;32m--> 234\u001b[0;31m                             raise IOError(\n\u001b[0m\u001b[1;32m    235\u001b[0m                                 \u001b[0;34mf\"No file or directory found at {filepath_str}\"\u001b[0m\u001b[0;34m\u001b[0m\u001b[0;34m\u001b[0m\u001b[0m\n\u001b[1;32m    236\u001b[0m                             )\n",
            "\u001b[0;31mOSError\u001b[0m: No file or directory found at /content/drive/MyDrive/checkpoints/trained_checkpoint/checkpoint.ckpt"
          ]
        }
      ],
      "source": [
        "custom_objects = {\n",
        "    'PositionalEmbedding': PositionalEmbedding,\n",
        "    'TransformerBlock': TransformerBlock,\n",
        "    'Multi_Head_Attention': Multi_Head_Attention,\n",
        "    'FeedForwardNetwork': FeedForwardNetwork\n",
        "}\n",
        "\n",
        "model = tf.keras.models.load_model(CHECKPOINT_DIR, custom_objects=custom_objects)"
      ]
    },
    {
      "cell_type": "code",
      "execution_count": null,
      "metadata": {
        "id": "CdAhHFEgS_Kw"
      },
      "outputs": [],
      "source": [
        "model.save('/content/drive/MyDrive/checkpoints/full_model/')"
      ]
    },
    {
      "cell_type": "code",
      "execution_count": null,
      "metadata": {
        "id": "Ujve7DG_ZpPi"
      },
      "outputs": [],
      "source": [
        "dataset = tf.data.Dataset.load(DATASET_DIR)\n",
        "\n",
        "preprocess = lambda x: (x[:, :-1], x[:, 1:])\n",
        "dataset = (dataset\n",
        "            .batch(BATCH_SIZE)\n",
        "            .map(preprocess, tf.data.AUTOTUNE)\n",
        "            .prefetch(buffer_size=tf.data.AUTOTUNE))\n",
        "\n",
        "size = len(dataset)\n",
        "training_dataset = dataset.take(int(size * train_split))\n",
        "dataset = dataset.skip(int(size * train_split))\n",
        "validation_dataset = dataset.take(int(size * validation_split))\n",
        "testing_dataset = dataset.skip(int(size * validation_split))\n",
        "\n",
        "print('training dataset size:', len(training_dataset))\n",
        "print('validation dataset size:', len(validation_dataset))\n",
        "print('testing dataset size:', len(testing_dataset))"
      ]
    },
    {
      "cell_type": "code",
      "execution_count": null,
      "metadata": {
        "id": "zR1i6tcRKtei"
      },
      "outputs": [],
      "source": [
        "log_callback = tf.keras.callbacks.CSVLogger(LOG_DIR, append=True)\n",
        "checkpoint_callback = tf.keras.callbacks.ModelCheckpoint(\n",
        "                        filepath=CHECKPOINT_DIR,\n",
        "                        monitor='val_accuracy',\n",
        "                        mode='max',\n",
        "                        save_best_only=True)\n",
        "\n",
        "callbacks = [log_callback, checkpoint_callback]\n",
        "\n",
        "history = model.fit(training_dataset,\n",
        "                    validation_data=validation_dataset,\n",
        "                    epochs=50,\n",
        "                    batch_size=BATCH_SIZE,\n",
        "                    callbacks=callbacks)\n",
        "\n",
        "model.save('/content/drive/MyDrive/saved_models/model_checkpoint_1.keras')"
      ]
    },
    {
      "cell_type": "code",
      "execution_count": null,
      "metadata": {
        "id": "xc0EV-byaX_X"
      },
      "outputs": [],
      "source": [
        "plt.plot(range(30), model.history.history['loss'], label='Training Loss')\n",
        "plt.show()"
      ]
    },
    {
      "cell_type": "code",
      "execution_count": null,
      "metadata": {
        "id": "86ESvcqGgpoV"
      },
      "outputs": [],
      "source": [
        "list(training_dataset.take(1).to_numpy_iterator())"
      ]
    },
    {
      "cell_type": "code",
      "execution_count": null,
      "metadata": {
        "id": "856NjWn5gqbT"
      },
      "outputs": [],
      "source": [
        "model.load_weights('/content/drive/MyDrive/checkpoints/test/checkpoint.ckpt').expect_partial()"
      ]
    },
    {
      "cell_type": "code",
      "execution_count": null,
      "metadata": {
        "id": "WWh7uMj_vLL-"
      },
      "outputs": [],
      "source": [
        "print(model.evaluate(testing_dataset.take(10)))"
      ]
    },
    {
      "cell_type": "code",
      "source": [
        "model.compile(loss=tf.keras.losses.SparseCategoricalCrossentropy(from_logits=True),\n",
        "             optimizer=tf.keras.optimizers.legacy.Adam(learning_rate=learning_rate),\n",
        "             metrics=['accuracy'])"
      ],
      "metadata": {
        "id": "-iD9xqPo-K2D"
      },
      "execution_count": null,
      "outputs": []
    },
    {
      "cell_type": "markdown",
      "metadata": {
        "id": "xKYKyycnd6ka"
      },
      "source": [
        "# Inference"
      ]
    },
    {
      "cell_type": "code",
      "execution_count": null,
      "metadata": {
        "id": "dgEvei10eMJF"
      },
      "outputs": [],
      "source": [
        "tokenizer = Tokenizer(vocab_size)\n",
        "tokenizer.deserialize_from_file(TOKENIZER_DIR)"
      ]
    },
    {
      "cell_type": "code",
      "source": [
        "model.load_weights(CHECKPOINT_DIR)"
      ],
      "metadata": {
        "colab": {
          "base_uri": "https://localhost:8080/"
        },
        "id": "IvXhhlEdrZXm",
        "outputId": "faa58e31-8de1-4f28-c092-92136ca2f767"
      },
      "execution_count": null,
      "outputs": [
        {
          "output_type": "execute_result",
          "data": {
            "text/plain": [
              "<tensorflow.python.checkpoint.checkpoint.CheckpointLoadStatus at 0x7a9ffac6b790>"
            ]
          },
          "metadata": {},
          "execution_count": 14
        }
      ]
    },
    {
      "cell_type": "code",
      "execution_count": null,
      "metadata": {
        "id": "97MwH0-8bscz"
      },
      "outputs": [],
      "source": [
        "text='(CNN) -- At least 14 people were killed and 60 others wounded Thursday when a bomb ripped through a crowd waiting to see Algeria\\'s president in Batna, east of the capital of Algiers, the Algerie Presse Service reported. A wounded person gets first aid shortly after Thursday\\'s attack in Batna, Algeria. The explosion occurred at 5 p.m. about 20 meters (65 feet) from a mosque in Batna, a town about 450 kilometers (280 miles) east of Algiers, security officials in Batna told the state-run news agency. The bomb went off 15 minutes before the expected arrival of President Abdel-Aziz Bouteflika. It wasn\\'t clear if the bomb was caused by a suicide bomber or if it was planted, the officials said. Later Thursday, Algeria\\'s Interior Minister Noureddine Yazid Zerhouni said \"a suspect person who was among the crowd attempted to go beyond the security cordon,\" but the person escaped \"immediately after the bomb exploded,\" the press service reported. Bouteflika made his visit to Batna as planned, adding a stop at a hospital to visit the wounded before he returned to the capital. There was no immediate claim of responsibility for the bombing. Algeria faces a continuing Islamic insurgency, according to the CIA. In July, 33 people were killed in apparent suicide bombings in Algiers that were claimed by an al Qaeda-affiliated group. Bouteflika said terrorist acts have nothing in common with the noble values of Islam, the press service reported. E-mail to a friend . CNN\\'s Mohammed Tawfeeq contributed to this report.'\n",
        "text = text.lower()"
      ]
    },
    {
      "cell_type": "code",
      "execution_count": null,
      "metadata": {
        "colab": {
          "base_uri": "https://localhost:8080/"
        },
        "id": "6kriofhpbwdE",
        "outputId": "d64e691a-63b6-4a93-c443-27bfef9e32a0"
      },
      "outputs": [
        {
          "output_type": "stream",
          "name": "stdout",
          "text": [
            "443\n",
            "[2, 762, 217, 167, 1306, 2060, 352, 292, 1170, 105, 843, 45, 1661, 78, 423, 85, 1736, 349, 69, 2147, 439, 1587, 682, 69, 2419, 7, 1759, 1287, 93, 669, 206, 878, 2045, 507, 95, 1433, 2100, 41, 1975, 101, 82, 2038, 101, 206, 10, 1215, 193, 82, 206, 878, 269, 1395, 8, 1430, 509, 514, 69, 78, 423, 85, 888, 498, 22, 485, 69, 114, 1369, 21, 23, 127, 318, 1736, 131, 778, 95, 1433, 2100, 41, 206, 878, 1940, 82, 1147, 237, 115, 1585, 141, 644, 167, 742, 87, 1960, 316, 428, 1398, 150, 382, 51, 50, 397, 152, 39, 212, 69, 179, 22, 1985, 95, 1433, 2100, 41, 69, 1669, 316, 681, 1981, 168, 165, 236, 582, 382, 47, 53, 45, 89, 402, 22, 39, 1975, 101, 206, 10, 1215, 193, 899, 995, 95, 1433, 2100, 470, 82, 603, 42, 556, 17, 964, 2105, 17, 6, 525, 82, 2147, 1265, 279, 1477, 544, 1251, 22, 592, 82, 1898, 1952, 2465, 101, 507, 234, 7, 242, 42, 823, 376, 399, 1251, 9, 590, 14, 732, 151, 2188, 1302, 465, 82, 2147, 157, 1342, 982, 226, 69, 189, 104, 357, 2147, 72, 260, 465, 151, 157, 272, 285, 678, 82, 995, 281, 1323, 1145, 944, 206, 878, 2045, 405, 1214, 1420, 351, 1060, 7, 381, 158, 823, 114, 817, 72, 11, 829, 12, 159, 2002, 1197, 501, 888, 243, 157, 1320, 82, 2419, 7, 451, 1439, 229, 93, 222, 123, 28, 419, 82, 899, 1126, 7, 1063, 31, 221, 82, 888, 946, 6, 2184, 7, 539, 16, 1991, 127, 318, 82, 2147, 1147, 263, 678, 31, 82, 1395, 1430, 509, 514, 399, 1251, 9, 590, 14, 4, 726, 190, 1716, 93, 1433, 2100, 162, 272, 1800, 678, 598, 91, 69, 1311, 167, 69, 1238, 93, 1716, 82, 78, 423, 85, 592, 122, 1388, 85, 93, 82, 796, 112, 2011, 367, 157, 351, 1654, 85, 1271, 1090, 101, 1813, 2025, 136, 82, 2147, 749, 206, 878, 293, 1038, 22, 69, 913, 24, 91, 1969, 104, 914, 141, 195, 17, 6, 430, 584, 93, 82, 81, 1940, 95, 1555, 1080, 532, 48, 352, 292, 1170, 95, 414, 2120, 189, 104, 357, 2147, 700, 95, 206, 10, 1215, 22, 137, 292, 1090, 85, 226, 96, 206, 1622, 4, 85, 4, 42, 1172, 165, 293, 229, 671, 43, 399, 1251, 9, 590, 14, 4, 159, 1453, 239, 1050, 22, 205, 228, 11, 91, 95, 429, 77, 164, 82, 351, 800, 1508, 618, 101, 1969, 41, 82, 1395, 1430, 509, 514, 120, 954, 438, 93, 69, 478, 269, 94, 177, 1160, 179, 1372, 789, 67, 431, 555, 8, 20, 342, 589, 1251, 7, 93, 248, 1510, 3]\n"
          ]
        }
      ],
      "source": [
        "tokenized_text = [2] + tokenizer.tokenize(text) + [3]\n",
        "print(len(tokenized_text))\n",
        "print(tokenized_text)"
      ]
    },
    {
      "cell_type": "code",
      "execution_count": null,
      "metadata": {
        "colab": {
          "base_uri": "https://localhost:8080/",
          "height": 393
        },
        "id": "UkDbOxSrd7zh",
        "outputId": "779cc20e-2bf5-4162-e7ce-27bd4dcaaf3a"
      },
      "outputs": [
        {
          "output_type": "stream",
          "name": "stdout",
          "text": [
            " by former florida state senator dianne m. scotts suggestion of 'horrors' on a candidate seemingly voted interested in u.s. lesbian ted cruz. the bikini of williams has been blamed on a 'bridge wet' overhaul and was thought to have been his previous friend with her daughters 'sweaterwet,' a controversial revolutionary and defiance of youthful separating her from her own clients claimed that she ate for a few seizures online between her two year-old daughters. scroll down for"
          ]
        },
        {
          "output_type": "error",
          "ename": "KeyboardInterrupt",
          "evalue": "",
          "traceback": [
            "\u001b[0;31m---------------------------------------------------------------------------\u001b[0m",
            "\u001b[0;31mKeyboardInterrupt\u001b[0m                         Traceback (most recent call last)",
            "\u001b[0;32m<ipython-input-20-ec317bc9c3cc>\u001b[0m in \u001b[0;36m<cell line: 6>\u001b[0;34m()\u001b[0m\n\u001b[1;32m      5\u001b[0m \u001b[0mindex\u001b[0m \u001b[0;34m=\u001b[0m \u001b[0mlen\u001b[0m\u001b[0;34m(\u001b[0m\u001b[0mtokenized\u001b[0m\u001b[0;34m)\u001b[0m \u001b[0;34m-\u001b[0m \u001b[0;36m1\u001b[0m\u001b[0;34m\u001b[0m\u001b[0;34m\u001b[0m\u001b[0m\n\u001b[1;32m      6\u001b[0m \u001b[0;32mfor\u001b[0m \u001b[0m_\u001b[0m \u001b[0;32min\u001b[0m \u001b[0mrange\u001b[0m\u001b[0;34m(\u001b[0m\u001b[0;36m1000\u001b[0m\u001b[0;34m)\u001b[0m\u001b[0;34m:\u001b[0m\u001b[0;34m\u001b[0m\u001b[0;34m\u001b[0m\u001b[0m\n\u001b[0;32m----> 7\u001b[0;31m   \u001b[0mpred\u001b[0m \u001b[0;34m=\u001b[0m \u001b[0mmodel\u001b[0m\u001b[0;34m(\u001b[0m\u001b[0mnp\u001b[0m\u001b[0;34m.\u001b[0m\u001b[0marray\u001b[0m\u001b[0;34m(\u001b[0m\u001b[0;34m[\u001b[0m\u001b[0mwindow\u001b[0m\u001b[0;34m]\u001b[0m\u001b[0;34m)\u001b[0m\u001b[0;34m)\u001b[0m\u001b[0;34m\u001b[0m\u001b[0;34m\u001b[0m\u001b[0m\n\u001b[0m\u001b[1;32m      8\u001b[0m   \u001b[0mtoken_pred\u001b[0m \u001b[0;34m=\u001b[0m \u001b[0mnp\u001b[0m\u001b[0;34m.\u001b[0m\u001b[0msqueeze\u001b[0m\u001b[0;34m(\u001b[0m\u001b[0mpred\u001b[0m\u001b[0;34m)\u001b[0m\u001b[0;34m[\u001b[0m\u001b[0mindex\u001b[0m\u001b[0;34m]\u001b[0m\u001b[0;34m.\u001b[0m\u001b[0mastype\u001b[0m\u001b[0;34m(\u001b[0m\u001b[0;34m'float64'\u001b[0m\u001b[0;34m)\u001b[0m\u001b[0;34m\u001b[0m\u001b[0;34m\u001b[0m\u001b[0m\n\u001b[1;32m      9\u001b[0m   \u001b[0mtoken_pred\u001b[0m \u001b[0;34m*=\u001b[0m \u001b[0;36m1\u001b[0m\u001b[0;34m\u001b[0m\u001b[0;34m\u001b[0m\u001b[0m\n",
            "\u001b[0;32m/usr/local/lib/python3.10/dist-packages/keras/src/utils/traceback_utils.py\u001b[0m in \u001b[0;36merror_handler\u001b[0;34m(*args, **kwargs)\u001b[0m\n\u001b[1;32m     63\u001b[0m         \u001b[0mfiltered_tb\u001b[0m \u001b[0;34m=\u001b[0m \u001b[0;32mNone\u001b[0m\u001b[0;34m\u001b[0m\u001b[0;34m\u001b[0m\u001b[0m\n\u001b[1;32m     64\u001b[0m         \u001b[0;32mtry\u001b[0m\u001b[0;34m:\u001b[0m\u001b[0;34m\u001b[0m\u001b[0;34m\u001b[0m\u001b[0m\n\u001b[0;32m---> 65\u001b[0;31m             \u001b[0;32mreturn\u001b[0m \u001b[0mfn\u001b[0m\u001b[0;34m(\u001b[0m\u001b[0;34m*\u001b[0m\u001b[0margs\u001b[0m\u001b[0;34m,\u001b[0m \u001b[0;34m**\u001b[0m\u001b[0mkwargs\u001b[0m\u001b[0;34m)\u001b[0m\u001b[0;34m\u001b[0m\u001b[0;34m\u001b[0m\u001b[0m\n\u001b[0m\u001b[1;32m     66\u001b[0m         \u001b[0;32mexcept\u001b[0m \u001b[0mException\u001b[0m \u001b[0;32mas\u001b[0m \u001b[0me\u001b[0m\u001b[0;34m:\u001b[0m\u001b[0;34m\u001b[0m\u001b[0;34m\u001b[0m\u001b[0m\n\u001b[1;32m     67\u001b[0m             \u001b[0mfiltered_tb\u001b[0m \u001b[0;34m=\u001b[0m \u001b[0m_process_traceback_frames\u001b[0m\u001b[0;34m(\u001b[0m\u001b[0me\u001b[0m\u001b[0;34m.\u001b[0m\u001b[0m__traceback__\u001b[0m\u001b[0;34m)\u001b[0m\u001b[0;34m\u001b[0m\u001b[0;34m\u001b[0m\u001b[0m\n",
            "\u001b[0;32m/usr/local/lib/python3.10/dist-packages/keras/src/engine/training.py\u001b[0m in \u001b[0;36m__call__\u001b[0;34m(self, *args, **kwargs)\u001b[0m\n\u001b[1;32m    588\u001b[0m             \u001b[0mlayout_map_lib\u001b[0m\u001b[0;34m.\u001b[0m\u001b[0m_map_subclass_model_variable\u001b[0m\u001b[0;34m(\u001b[0m\u001b[0mself\u001b[0m\u001b[0;34m,\u001b[0m \u001b[0mself\u001b[0m\u001b[0;34m.\u001b[0m\u001b[0m_layout_map\u001b[0m\u001b[0;34m)\u001b[0m\u001b[0;34m\u001b[0m\u001b[0;34m\u001b[0m\u001b[0m\n\u001b[1;32m    589\u001b[0m \u001b[0;34m\u001b[0m\u001b[0m\n\u001b[0;32m--> 590\u001b[0;31m         \u001b[0;32mreturn\u001b[0m \u001b[0msuper\u001b[0m\u001b[0;34m(\u001b[0m\u001b[0;34m)\u001b[0m\u001b[0;34m.\u001b[0m\u001b[0m__call__\u001b[0m\u001b[0;34m(\u001b[0m\u001b[0;34m*\u001b[0m\u001b[0margs\u001b[0m\u001b[0;34m,\u001b[0m \u001b[0;34m**\u001b[0m\u001b[0mkwargs\u001b[0m\u001b[0;34m)\u001b[0m\u001b[0;34m\u001b[0m\u001b[0;34m\u001b[0m\u001b[0m\n\u001b[0m\u001b[1;32m    591\u001b[0m \u001b[0;34m\u001b[0m\u001b[0m\n\u001b[1;32m    592\u001b[0m     \u001b[0;34m@\u001b[0m\u001b[0mdoc_controls\u001b[0m\u001b[0;34m.\u001b[0m\u001b[0mdoc_in_current_and_subclasses\u001b[0m\u001b[0;34m\u001b[0m\u001b[0;34m\u001b[0m\u001b[0m\n",
            "\u001b[0;32m/usr/local/lib/python3.10/dist-packages/keras/src/utils/traceback_utils.py\u001b[0m in \u001b[0;36merror_handler\u001b[0;34m(*args, **kwargs)\u001b[0m\n\u001b[1;32m     63\u001b[0m         \u001b[0mfiltered_tb\u001b[0m \u001b[0;34m=\u001b[0m \u001b[0;32mNone\u001b[0m\u001b[0;34m\u001b[0m\u001b[0;34m\u001b[0m\u001b[0m\n\u001b[1;32m     64\u001b[0m         \u001b[0;32mtry\u001b[0m\u001b[0;34m:\u001b[0m\u001b[0;34m\u001b[0m\u001b[0;34m\u001b[0m\u001b[0m\n\u001b[0;32m---> 65\u001b[0;31m             \u001b[0;32mreturn\u001b[0m \u001b[0mfn\u001b[0m\u001b[0;34m(\u001b[0m\u001b[0;34m*\u001b[0m\u001b[0margs\u001b[0m\u001b[0;34m,\u001b[0m \u001b[0;34m**\u001b[0m\u001b[0mkwargs\u001b[0m\u001b[0;34m)\u001b[0m\u001b[0;34m\u001b[0m\u001b[0;34m\u001b[0m\u001b[0m\n\u001b[0m\u001b[1;32m     66\u001b[0m         \u001b[0;32mexcept\u001b[0m \u001b[0mException\u001b[0m \u001b[0;32mas\u001b[0m \u001b[0me\u001b[0m\u001b[0;34m:\u001b[0m\u001b[0;34m\u001b[0m\u001b[0;34m\u001b[0m\u001b[0m\n\u001b[1;32m     67\u001b[0m             \u001b[0mfiltered_tb\u001b[0m \u001b[0;34m=\u001b[0m \u001b[0m_process_traceback_frames\u001b[0m\u001b[0;34m(\u001b[0m\u001b[0me\u001b[0m\u001b[0;34m.\u001b[0m\u001b[0m__traceback__\u001b[0m\u001b[0;34m)\u001b[0m\u001b[0;34m\u001b[0m\u001b[0;34m\u001b[0m\u001b[0m\n",
            "\u001b[0;32m/usr/local/lib/python3.10/dist-packages/keras/src/engine/base_layer.py\u001b[0m in \u001b[0;36m__call__\u001b[0;34m(self, *args, **kwargs)\u001b[0m\n\u001b[1;32m   1147\u001b[0m                     \u001b[0mself\u001b[0m\u001b[0;34m.\u001b[0m\u001b[0m_compute_dtype_object\u001b[0m\u001b[0;34m\u001b[0m\u001b[0;34m\u001b[0m\u001b[0m\n\u001b[1;32m   1148\u001b[0m                 ):\n\u001b[0;32m-> 1149\u001b[0;31m                     \u001b[0moutputs\u001b[0m \u001b[0;34m=\u001b[0m \u001b[0mcall_fn\u001b[0m\u001b[0;34m(\u001b[0m\u001b[0minputs\u001b[0m\u001b[0;34m,\u001b[0m \u001b[0;34m*\u001b[0m\u001b[0margs\u001b[0m\u001b[0;34m,\u001b[0m \u001b[0;34m**\u001b[0m\u001b[0mkwargs\u001b[0m\u001b[0;34m)\u001b[0m\u001b[0;34m\u001b[0m\u001b[0;34m\u001b[0m\u001b[0m\n\u001b[0m\u001b[1;32m   1150\u001b[0m \u001b[0;34m\u001b[0m\u001b[0m\n\u001b[1;32m   1151\u001b[0m                 \u001b[0;32mif\u001b[0m \u001b[0mself\u001b[0m\u001b[0;34m.\u001b[0m\u001b[0m_activity_regularizer\u001b[0m\u001b[0;34m:\u001b[0m\u001b[0;34m\u001b[0m\u001b[0;34m\u001b[0m\u001b[0m\n",
            "\u001b[0;32m/usr/local/lib/python3.10/dist-packages/keras/src/utils/traceback_utils.py\u001b[0m in \u001b[0;36merror_handler\u001b[0;34m(*args, **kwargs)\u001b[0m\n\u001b[1;32m     94\u001b[0m         \u001b[0mbound_signature\u001b[0m \u001b[0;34m=\u001b[0m \u001b[0;32mNone\u001b[0m\u001b[0;34m\u001b[0m\u001b[0;34m\u001b[0m\u001b[0m\n\u001b[1;32m     95\u001b[0m         \u001b[0;32mtry\u001b[0m\u001b[0;34m:\u001b[0m\u001b[0;34m\u001b[0m\u001b[0;34m\u001b[0m\u001b[0m\n\u001b[0;32m---> 96\u001b[0;31m             \u001b[0;32mreturn\u001b[0m \u001b[0mfn\u001b[0m\u001b[0;34m(\u001b[0m\u001b[0;34m*\u001b[0m\u001b[0margs\u001b[0m\u001b[0;34m,\u001b[0m \u001b[0;34m**\u001b[0m\u001b[0mkwargs\u001b[0m\u001b[0;34m)\u001b[0m\u001b[0;34m\u001b[0m\u001b[0;34m\u001b[0m\u001b[0m\n\u001b[0m\u001b[1;32m     97\u001b[0m         \u001b[0;32mexcept\u001b[0m \u001b[0mException\u001b[0m \u001b[0;32mas\u001b[0m \u001b[0me\u001b[0m\u001b[0;34m:\u001b[0m\u001b[0;34m\u001b[0m\u001b[0;34m\u001b[0m\u001b[0m\n\u001b[1;32m     98\u001b[0m             \u001b[0;32mif\u001b[0m \u001b[0mhasattr\u001b[0m\u001b[0;34m(\u001b[0m\u001b[0me\u001b[0m\u001b[0;34m,\u001b[0m \u001b[0;34m\"_keras_call_info_injected\"\u001b[0m\u001b[0;34m)\u001b[0m\u001b[0;34m:\u001b[0m\u001b[0;34m\u001b[0m\u001b[0;34m\u001b[0m\u001b[0m\n",
            "\u001b[0;32m/usr/local/lib/python3.10/dist-packages/keras/src/engine/functional.py\u001b[0m in \u001b[0;36mcall\u001b[0;34m(self, inputs, training, mask)\u001b[0m\n\u001b[1;32m    513\u001b[0m             \u001b[0ma\u001b[0m \u001b[0mlist\u001b[0m \u001b[0mof\u001b[0m \u001b[0mtensors\u001b[0m \u001b[0;32mif\u001b[0m \u001b[0mthere\u001b[0m \u001b[0mare\u001b[0m \u001b[0mmore\u001b[0m \u001b[0mthan\u001b[0m \u001b[0mone\u001b[0m \u001b[0moutputs\u001b[0m\u001b[0;34m.\u001b[0m\u001b[0;34m\u001b[0m\u001b[0;34m\u001b[0m\u001b[0m\n\u001b[1;32m    514\u001b[0m         \"\"\"\n\u001b[0;32m--> 515\u001b[0;31m         \u001b[0;32mreturn\u001b[0m \u001b[0mself\u001b[0m\u001b[0;34m.\u001b[0m\u001b[0m_run_internal_graph\u001b[0m\u001b[0;34m(\u001b[0m\u001b[0minputs\u001b[0m\u001b[0;34m,\u001b[0m \u001b[0mtraining\u001b[0m\u001b[0;34m=\u001b[0m\u001b[0mtraining\u001b[0m\u001b[0;34m,\u001b[0m \u001b[0mmask\u001b[0m\u001b[0;34m=\u001b[0m\u001b[0mmask\u001b[0m\u001b[0;34m)\u001b[0m\u001b[0;34m\u001b[0m\u001b[0;34m\u001b[0m\u001b[0m\n\u001b[0m\u001b[1;32m    516\u001b[0m \u001b[0;34m\u001b[0m\u001b[0m\n\u001b[1;32m    517\u001b[0m     \u001b[0;32mdef\u001b[0m \u001b[0mcompute_output_shape\u001b[0m\u001b[0;34m(\u001b[0m\u001b[0mself\u001b[0m\u001b[0;34m,\u001b[0m \u001b[0minput_shape\u001b[0m\u001b[0;34m)\u001b[0m\u001b[0;34m:\u001b[0m\u001b[0;34m\u001b[0m\u001b[0;34m\u001b[0m\u001b[0m\n",
            "\u001b[0;32m/usr/local/lib/python3.10/dist-packages/keras/src/engine/functional.py\u001b[0m in \u001b[0;36m_run_internal_graph\u001b[0;34m(self, inputs, training, mask)\u001b[0m\n\u001b[1;32m    670\u001b[0m \u001b[0;34m\u001b[0m\u001b[0m\n\u001b[1;32m    671\u001b[0m                 \u001b[0margs\u001b[0m\u001b[0;34m,\u001b[0m \u001b[0mkwargs\u001b[0m \u001b[0;34m=\u001b[0m \u001b[0mnode\u001b[0m\u001b[0;34m.\u001b[0m\u001b[0mmap_arguments\u001b[0m\u001b[0;34m(\u001b[0m\u001b[0mtensor_dict\u001b[0m\u001b[0;34m)\u001b[0m\u001b[0;34m\u001b[0m\u001b[0;34m\u001b[0m\u001b[0m\n\u001b[0;32m--> 672\u001b[0;31m                 \u001b[0moutputs\u001b[0m \u001b[0;34m=\u001b[0m \u001b[0mnode\u001b[0m\u001b[0;34m.\u001b[0m\u001b[0mlayer\u001b[0m\u001b[0;34m(\u001b[0m\u001b[0;34m*\u001b[0m\u001b[0margs\u001b[0m\u001b[0;34m,\u001b[0m \u001b[0;34m**\u001b[0m\u001b[0mkwargs\u001b[0m\u001b[0;34m)\u001b[0m\u001b[0;34m\u001b[0m\u001b[0;34m\u001b[0m\u001b[0m\n\u001b[0m\u001b[1;32m    673\u001b[0m \u001b[0;34m\u001b[0m\u001b[0m\n\u001b[1;32m    674\u001b[0m                 \u001b[0;31m# Update tensor_dict.\u001b[0m\u001b[0;34m\u001b[0m\u001b[0;34m\u001b[0m\u001b[0m\n",
            "\u001b[0;32m/usr/local/lib/python3.10/dist-packages/keras/src/utils/traceback_utils.py\u001b[0m in \u001b[0;36merror_handler\u001b[0;34m(*args, **kwargs)\u001b[0m\n\u001b[1;32m     63\u001b[0m         \u001b[0mfiltered_tb\u001b[0m \u001b[0;34m=\u001b[0m \u001b[0;32mNone\u001b[0m\u001b[0;34m\u001b[0m\u001b[0;34m\u001b[0m\u001b[0m\n\u001b[1;32m     64\u001b[0m         \u001b[0;32mtry\u001b[0m\u001b[0;34m:\u001b[0m\u001b[0;34m\u001b[0m\u001b[0;34m\u001b[0m\u001b[0m\n\u001b[0;32m---> 65\u001b[0;31m             \u001b[0;32mreturn\u001b[0m \u001b[0mfn\u001b[0m\u001b[0;34m(\u001b[0m\u001b[0;34m*\u001b[0m\u001b[0margs\u001b[0m\u001b[0;34m,\u001b[0m \u001b[0;34m**\u001b[0m\u001b[0mkwargs\u001b[0m\u001b[0;34m)\u001b[0m\u001b[0;34m\u001b[0m\u001b[0;34m\u001b[0m\u001b[0m\n\u001b[0m\u001b[1;32m     66\u001b[0m         \u001b[0;32mexcept\u001b[0m \u001b[0mException\u001b[0m \u001b[0;32mas\u001b[0m \u001b[0me\u001b[0m\u001b[0;34m:\u001b[0m\u001b[0;34m\u001b[0m\u001b[0;34m\u001b[0m\u001b[0m\n\u001b[1;32m     67\u001b[0m             \u001b[0mfiltered_tb\u001b[0m \u001b[0;34m=\u001b[0m \u001b[0m_process_traceback_frames\u001b[0m\u001b[0;34m(\u001b[0m\u001b[0me\u001b[0m\u001b[0;34m.\u001b[0m\u001b[0m__traceback__\u001b[0m\u001b[0;34m)\u001b[0m\u001b[0;34m\u001b[0m\u001b[0;34m\u001b[0m\u001b[0m\n",
            "\u001b[0;32m/usr/local/lib/python3.10/dist-packages/keras/src/engine/base_layer.py\u001b[0m in \u001b[0;36m__call__\u001b[0;34m(self, *args, **kwargs)\u001b[0m\n\u001b[1;32m   1147\u001b[0m                     \u001b[0mself\u001b[0m\u001b[0;34m.\u001b[0m\u001b[0m_compute_dtype_object\u001b[0m\u001b[0;34m\u001b[0m\u001b[0;34m\u001b[0m\u001b[0m\n\u001b[1;32m   1148\u001b[0m                 ):\n\u001b[0;32m-> 1149\u001b[0;31m                     \u001b[0moutputs\u001b[0m \u001b[0;34m=\u001b[0m \u001b[0mcall_fn\u001b[0m\u001b[0;34m(\u001b[0m\u001b[0minputs\u001b[0m\u001b[0;34m,\u001b[0m \u001b[0;34m*\u001b[0m\u001b[0margs\u001b[0m\u001b[0;34m,\u001b[0m \u001b[0;34m**\u001b[0m\u001b[0mkwargs\u001b[0m\u001b[0;34m)\u001b[0m\u001b[0;34m\u001b[0m\u001b[0;34m\u001b[0m\u001b[0m\n\u001b[0m\u001b[1;32m   1150\u001b[0m \u001b[0;34m\u001b[0m\u001b[0m\n\u001b[1;32m   1151\u001b[0m                 \u001b[0;32mif\u001b[0m \u001b[0mself\u001b[0m\u001b[0;34m.\u001b[0m\u001b[0m_activity_regularizer\u001b[0m\u001b[0;34m:\u001b[0m\u001b[0;34m\u001b[0m\u001b[0;34m\u001b[0m\u001b[0m\n",
            "\u001b[0;32m/usr/local/lib/python3.10/dist-packages/keras/src/utils/traceback_utils.py\u001b[0m in \u001b[0;36merror_handler\u001b[0;34m(*args, **kwargs)\u001b[0m\n\u001b[1;32m     94\u001b[0m         \u001b[0mbound_signature\u001b[0m \u001b[0;34m=\u001b[0m \u001b[0;32mNone\u001b[0m\u001b[0;34m\u001b[0m\u001b[0;34m\u001b[0m\u001b[0m\n\u001b[1;32m     95\u001b[0m         \u001b[0;32mtry\u001b[0m\u001b[0;34m:\u001b[0m\u001b[0;34m\u001b[0m\u001b[0;34m\u001b[0m\u001b[0m\n\u001b[0;32m---> 96\u001b[0;31m             \u001b[0;32mreturn\u001b[0m \u001b[0mfn\u001b[0m\u001b[0;34m(\u001b[0m\u001b[0;34m*\u001b[0m\u001b[0margs\u001b[0m\u001b[0;34m,\u001b[0m \u001b[0;34m**\u001b[0m\u001b[0mkwargs\u001b[0m\u001b[0;34m)\u001b[0m\u001b[0;34m\u001b[0m\u001b[0;34m\u001b[0m\u001b[0m\n\u001b[0m\u001b[1;32m     97\u001b[0m         \u001b[0;32mexcept\u001b[0m \u001b[0mException\u001b[0m \u001b[0;32mas\u001b[0m \u001b[0me\u001b[0m\u001b[0;34m:\u001b[0m\u001b[0;34m\u001b[0m\u001b[0;34m\u001b[0m\u001b[0m\n\u001b[1;32m     98\u001b[0m             \u001b[0;32mif\u001b[0m \u001b[0mhasattr\u001b[0m\u001b[0;34m(\u001b[0m\u001b[0me\u001b[0m\u001b[0;34m,\u001b[0m \u001b[0;34m\"_keras_call_info_injected\"\u001b[0m\u001b[0;34m)\u001b[0m\u001b[0;34m:\u001b[0m\u001b[0;34m\u001b[0m\u001b[0;34m\u001b[0m\u001b[0m\n",
            "\u001b[0;32m<ipython-input-9-5699cb27bba8>\u001b[0m in \u001b[0;36mcall\u001b[0;34m(self, inputs)\u001b[0m\n\u001b[1;32m     17\u001b[0m     \u001b[0mresidual_1_out\u001b[0m \u001b[0;34m=\u001b[0m \u001b[0mself\u001b[0m\u001b[0;34m.\u001b[0m\u001b[0mresidual_connection\u001b[0m\u001b[0;34m(\u001b[0m\u001b[0;34m[\u001b[0m\u001b[0mnorm_1_out\u001b[0m\u001b[0;34m,\u001b[0m \u001b[0mattention_out\u001b[0m\u001b[0;34m]\u001b[0m\u001b[0;34m)\u001b[0m\u001b[0;34m\u001b[0m\u001b[0;34m\u001b[0m\u001b[0m\n\u001b[1;32m     18\u001b[0m \u001b[0;34m\u001b[0m\u001b[0m\n\u001b[0;32m---> 19\u001b[0;31m     \u001b[0mnorm_2_out\u001b[0m \u001b[0;34m=\u001b[0m \u001b[0mself\u001b[0m\u001b[0;34m.\u001b[0m\u001b[0mlayer_norm_2\u001b[0m\u001b[0;34m(\u001b[0m\u001b[0mresidual_1_out\u001b[0m\u001b[0;34m)\u001b[0m\u001b[0;34m\u001b[0m\u001b[0;34m\u001b[0m\u001b[0m\n\u001b[0m\u001b[1;32m     20\u001b[0m     \u001b[0mffn_out\u001b[0m \u001b[0;34m=\u001b[0m \u001b[0mself\u001b[0m\u001b[0;34m.\u001b[0m\u001b[0mfeed_forward_network\u001b[0m\u001b[0;34m(\u001b[0m\u001b[0mnorm_2_out\u001b[0m\u001b[0;34m)\u001b[0m\u001b[0;34m\u001b[0m\u001b[0;34m\u001b[0m\u001b[0m\n\u001b[1;32m     21\u001b[0m     \u001b[0mresidual_2_out\u001b[0m \u001b[0;34m=\u001b[0m \u001b[0mself\u001b[0m\u001b[0;34m.\u001b[0m\u001b[0mresidual_connection\u001b[0m\u001b[0;34m(\u001b[0m\u001b[0;34m[\u001b[0m\u001b[0mnorm_2_out\u001b[0m\u001b[0;34m,\u001b[0m \u001b[0mffn_out\u001b[0m\u001b[0;34m]\u001b[0m\u001b[0;34m)\u001b[0m\u001b[0;34m\u001b[0m\u001b[0;34m\u001b[0m\u001b[0m\n",
            "\u001b[0;32m/usr/local/lib/python3.10/dist-packages/keras/src/utils/traceback_utils.py\u001b[0m in \u001b[0;36merror_handler\u001b[0;34m(*args, **kwargs)\u001b[0m\n\u001b[1;32m     63\u001b[0m         \u001b[0mfiltered_tb\u001b[0m \u001b[0;34m=\u001b[0m \u001b[0;32mNone\u001b[0m\u001b[0;34m\u001b[0m\u001b[0;34m\u001b[0m\u001b[0m\n\u001b[1;32m     64\u001b[0m         \u001b[0;32mtry\u001b[0m\u001b[0;34m:\u001b[0m\u001b[0;34m\u001b[0m\u001b[0;34m\u001b[0m\u001b[0m\n\u001b[0;32m---> 65\u001b[0;31m             \u001b[0;32mreturn\u001b[0m \u001b[0mfn\u001b[0m\u001b[0;34m(\u001b[0m\u001b[0;34m*\u001b[0m\u001b[0margs\u001b[0m\u001b[0;34m,\u001b[0m \u001b[0;34m**\u001b[0m\u001b[0mkwargs\u001b[0m\u001b[0;34m)\u001b[0m\u001b[0;34m\u001b[0m\u001b[0;34m\u001b[0m\u001b[0m\n\u001b[0m\u001b[1;32m     66\u001b[0m         \u001b[0;32mexcept\u001b[0m \u001b[0mException\u001b[0m \u001b[0;32mas\u001b[0m \u001b[0me\u001b[0m\u001b[0;34m:\u001b[0m\u001b[0;34m\u001b[0m\u001b[0;34m\u001b[0m\u001b[0m\n\u001b[1;32m     67\u001b[0m             \u001b[0mfiltered_tb\u001b[0m \u001b[0;34m=\u001b[0m \u001b[0m_process_traceback_frames\u001b[0m\u001b[0;34m(\u001b[0m\u001b[0me\u001b[0m\u001b[0;34m.\u001b[0m\u001b[0m__traceback__\u001b[0m\u001b[0;34m)\u001b[0m\u001b[0;34m\u001b[0m\u001b[0;34m\u001b[0m\u001b[0m\n",
            "\u001b[0;32m/usr/local/lib/python3.10/dist-packages/keras/src/engine/base_layer.py\u001b[0m in \u001b[0;36m__call__\u001b[0;34m(self, *args, **kwargs)\u001b[0m\n\u001b[1;32m   1147\u001b[0m                     \u001b[0mself\u001b[0m\u001b[0;34m.\u001b[0m\u001b[0m_compute_dtype_object\u001b[0m\u001b[0;34m\u001b[0m\u001b[0;34m\u001b[0m\u001b[0m\n\u001b[1;32m   1148\u001b[0m                 ):\n\u001b[0;32m-> 1149\u001b[0;31m                     \u001b[0moutputs\u001b[0m \u001b[0;34m=\u001b[0m \u001b[0mcall_fn\u001b[0m\u001b[0;34m(\u001b[0m\u001b[0minputs\u001b[0m\u001b[0;34m,\u001b[0m \u001b[0;34m*\u001b[0m\u001b[0margs\u001b[0m\u001b[0;34m,\u001b[0m \u001b[0;34m**\u001b[0m\u001b[0mkwargs\u001b[0m\u001b[0;34m)\u001b[0m\u001b[0;34m\u001b[0m\u001b[0;34m\u001b[0m\u001b[0m\n\u001b[0m\u001b[1;32m   1150\u001b[0m \u001b[0;34m\u001b[0m\u001b[0m\n\u001b[1;32m   1151\u001b[0m                 \u001b[0;32mif\u001b[0m \u001b[0mself\u001b[0m\u001b[0;34m.\u001b[0m\u001b[0m_activity_regularizer\u001b[0m\u001b[0;34m:\u001b[0m\u001b[0;34m\u001b[0m\u001b[0;34m\u001b[0m\u001b[0m\n",
            "\u001b[0;32m/usr/local/lib/python3.10/dist-packages/keras/src/utils/traceback_utils.py\u001b[0m in \u001b[0;36merror_handler\u001b[0;34m(*args, **kwargs)\u001b[0m\n\u001b[1;32m     94\u001b[0m         \u001b[0mbound_signature\u001b[0m \u001b[0;34m=\u001b[0m \u001b[0;32mNone\u001b[0m\u001b[0;34m\u001b[0m\u001b[0;34m\u001b[0m\u001b[0m\n\u001b[1;32m     95\u001b[0m         \u001b[0;32mtry\u001b[0m\u001b[0;34m:\u001b[0m\u001b[0;34m\u001b[0m\u001b[0;34m\u001b[0m\u001b[0m\n\u001b[0;32m---> 96\u001b[0;31m             \u001b[0;32mreturn\u001b[0m \u001b[0mfn\u001b[0m\u001b[0;34m(\u001b[0m\u001b[0;34m*\u001b[0m\u001b[0margs\u001b[0m\u001b[0;34m,\u001b[0m \u001b[0;34m**\u001b[0m\u001b[0mkwargs\u001b[0m\u001b[0;34m)\u001b[0m\u001b[0;34m\u001b[0m\u001b[0;34m\u001b[0m\u001b[0m\n\u001b[0m\u001b[1;32m     97\u001b[0m         \u001b[0;32mexcept\u001b[0m \u001b[0mException\u001b[0m \u001b[0;32mas\u001b[0m \u001b[0me\u001b[0m\u001b[0;34m:\u001b[0m\u001b[0;34m\u001b[0m\u001b[0;34m\u001b[0m\u001b[0m\n\u001b[1;32m     98\u001b[0m             \u001b[0;32mif\u001b[0m \u001b[0mhasattr\u001b[0m\u001b[0;34m(\u001b[0m\u001b[0me\u001b[0m\u001b[0;34m,\u001b[0m \u001b[0;34m\"_keras_call_info_injected\"\u001b[0m\u001b[0;34m)\u001b[0m\u001b[0;34m:\u001b[0m\u001b[0;34m\u001b[0m\u001b[0;34m\u001b[0m\u001b[0m\n",
            "\u001b[0;32m/usr/local/lib/python3.10/dist-packages/keras/src/layers/normalization/layer_normalization.py\u001b[0m in \u001b[0;36mcall\u001b[0;34m(self, inputs)\u001b[0m\n\u001b[1;32m    258\u001b[0m             \u001b[0minputs_lengths\u001b[0m \u001b[0;34m=\u001b[0m \u001b[0minputs\u001b[0m\u001b[0;34m.\u001b[0m\u001b[0mnested_row_lengths\u001b[0m\u001b[0;34m(\u001b[0m\u001b[0;34m)\u001b[0m\u001b[0;34m\u001b[0m\u001b[0;34m\u001b[0m\u001b[0m\n\u001b[1;32m    259\u001b[0m             \u001b[0minputs\u001b[0m \u001b[0;34m=\u001b[0m \u001b[0minputs\u001b[0m\u001b[0;34m.\u001b[0m\u001b[0mto_tensor\u001b[0m\u001b[0;34m(\u001b[0m\u001b[0;34m)\u001b[0m\u001b[0;34m\u001b[0m\u001b[0;34m\u001b[0m\u001b[0m\n\u001b[0;32m--> 260\u001b[0;31m         \u001b[0minputs\u001b[0m \u001b[0;34m=\u001b[0m \u001b[0mtf\u001b[0m\u001b[0;34m.\u001b[0m\u001b[0mcast\u001b[0m\u001b[0;34m(\u001b[0m\u001b[0minputs\u001b[0m\u001b[0;34m,\u001b[0m \u001b[0mself\u001b[0m\u001b[0;34m.\u001b[0m\u001b[0mcompute_dtype\u001b[0m\u001b[0;34m)\u001b[0m\u001b[0;34m\u001b[0m\u001b[0;34m\u001b[0m\u001b[0m\n\u001b[0m\u001b[1;32m    261\u001b[0m         \u001b[0;31m# Compute the axes along which to reduce the mean / variance\u001b[0m\u001b[0;34m\u001b[0m\u001b[0;34m\u001b[0m\u001b[0m\n\u001b[1;32m    262\u001b[0m         \u001b[0minput_shape\u001b[0m \u001b[0;34m=\u001b[0m \u001b[0minputs\u001b[0m\u001b[0;34m.\u001b[0m\u001b[0mshape\u001b[0m\u001b[0;34m\u001b[0m\u001b[0;34m\u001b[0m\u001b[0m\n",
            "\u001b[0;32m/usr/local/lib/python3.10/dist-packages/tensorflow/python/util/traceback_utils.py\u001b[0m in \u001b[0;36merror_handler\u001b[0;34m(*args, **kwargs)\u001b[0m\n\u001b[1;32m    148\u001b[0m     \u001b[0mfiltered_tb\u001b[0m \u001b[0;34m=\u001b[0m \u001b[0;32mNone\u001b[0m\u001b[0;34m\u001b[0m\u001b[0;34m\u001b[0m\u001b[0m\n\u001b[1;32m    149\u001b[0m     \u001b[0;32mtry\u001b[0m\u001b[0;34m:\u001b[0m\u001b[0;34m\u001b[0m\u001b[0;34m\u001b[0m\u001b[0m\n\u001b[0;32m--> 150\u001b[0;31m       \u001b[0;32mreturn\u001b[0m \u001b[0mfn\u001b[0m\u001b[0;34m(\u001b[0m\u001b[0;34m*\u001b[0m\u001b[0margs\u001b[0m\u001b[0;34m,\u001b[0m \u001b[0;34m**\u001b[0m\u001b[0mkwargs\u001b[0m\u001b[0;34m)\u001b[0m\u001b[0;34m\u001b[0m\u001b[0;34m\u001b[0m\u001b[0m\n\u001b[0m\u001b[1;32m    151\u001b[0m     \u001b[0;32mexcept\u001b[0m \u001b[0mException\u001b[0m \u001b[0;32mas\u001b[0m \u001b[0me\u001b[0m\u001b[0;34m:\u001b[0m\u001b[0;34m\u001b[0m\u001b[0;34m\u001b[0m\u001b[0m\n\u001b[1;32m    152\u001b[0m       \u001b[0mfiltered_tb\u001b[0m \u001b[0;34m=\u001b[0m \u001b[0m_process_traceback_frames\u001b[0m\u001b[0;34m(\u001b[0m\u001b[0me\u001b[0m\u001b[0;34m.\u001b[0m\u001b[0m__traceback__\u001b[0m\u001b[0;34m)\u001b[0m\u001b[0;34m\u001b[0m\u001b[0;34m\u001b[0m\u001b[0m\n",
            "\u001b[0;32m/usr/local/lib/python3.10/dist-packages/tensorflow/python/util/dispatch.py\u001b[0m in \u001b[0;36mop_dispatch_handler\u001b[0;34m(*args, **kwargs)\u001b[0m\n\u001b[1;32m   1258\u001b[0m       \u001b[0;31m# Fallback dispatch system (dispatch v1):\u001b[0m\u001b[0;34m\u001b[0m\u001b[0;34m\u001b[0m\u001b[0m\n\u001b[1;32m   1259\u001b[0m       \u001b[0;32mtry\u001b[0m\u001b[0;34m:\u001b[0m\u001b[0;34m\u001b[0m\u001b[0;34m\u001b[0m\u001b[0m\n\u001b[0;32m-> 1260\u001b[0;31m         \u001b[0;32mreturn\u001b[0m \u001b[0mdispatch_target\u001b[0m\u001b[0;34m(\u001b[0m\u001b[0;34m*\u001b[0m\u001b[0margs\u001b[0m\u001b[0;34m,\u001b[0m \u001b[0;34m**\u001b[0m\u001b[0mkwargs\u001b[0m\u001b[0;34m)\u001b[0m\u001b[0;34m\u001b[0m\u001b[0;34m\u001b[0m\u001b[0m\n\u001b[0m\u001b[1;32m   1261\u001b[0m       \u001b[0;32mexcept\u001b[0m \u001b[0;34m(\u001b[0m\u001b[0mTypeError\u001b[0m\u001b[0;34m,\u001b[0m \u001b[0mValueError\u001b[0m\u001b[0;34m)\u001b[0m\u001b[0;34m:\u001b[0m\u001b[0;34m\u001b[0m\u001b[0;34m\u001b[0m\u001b[0m\n\u001b[1;32m   1262\u001b[0m         \u001b[0;31m# Note: convert_to_eager_tensor currently raises a ValueError, not a\u001b[0m\u001b[0;34m\u001b[0m\u001b[0;34m\u001b[0m\u001b[0m\n",
            "\u001b[0;32m/usr/local/lib/python3.10/dist-packages/tensorflow/python/ops/math_ops.py\u001b[0m in \u001b[0;36mcast\u001b[0;34m(x, dtype, name)\u001b[0m\n\u001b[1;32m    997\u001b[0m \u001b[0;34m\u001b[0m\u001b[0m\n\u001b[1;32m    998\u001b[0m   \"\"\"\n\u001b[0;32m--> 999\u001b[0;31m   \u001b[0mbase_type\u001b[0m \u001b[0;34m=\u001b[0m \u001b[0mdtypes\u001b[0m\u001b[0;34m.\u001b[0m\u001b[0mas_dtype\u001b[0m\u001b[0;34m(\u001b[0m\u001b[0mdtype\u001b[0m\u001b[0;34m)\u001b[0m\u001b[0;34m.\u001b[0m\u001b[0mbase_dtype\u001b[0m\u001b[0;34m\u001b[0m\u001b[0;34m\u001b[0m\u001b[0m\n\u001b[0m\u001b[1;32m   1000\u001b[0m   if isinstance(\n\u001b[1;32m   1001\u001b[0m       x, (tensor_lib.Tensor, _resource_variable_type)) and base_type == x.dtype:\n",
            "\u001b[0;32m/usr/local/lib/python3.10/dist-packages/tensorflow/python/framework/dtypes.py\u001b[0m in \u001b[0;36mas_dtype\u001b[0;34m(type_value)\u001b[0m\n\u001b[1;32m    823\u001b[0m     \u001b[0mTypeError\u001b[0m\u001b[0;34m:\u001b[0m \u001b[0mIf\u001b[0m\u001b[0;31m \u001b[0m\u001b[0;31m`\u001b[0m\u001b[0mtype_value\u001b[0m\u001b[0;31m`\u001b[0m \u001b[0mcannot\u001b[0m \u001b[0mbe\u001b[0m \u001b[0mconverted\u001b[0m \u001b[0mto\u001b[0m \u001b[0ma\u001b[0m\u001b[0;31m \u001b[0m\u001b[0;31m`\u001b[0m\u001b[0mDType\u001b[0m\u001b[0;31m`\u001b[0m\u001b[0;34m.\u001b[0m\u001b[0;34m\u001b[0m\u001b[0;34m\u001b[0m\u001b[0m\n\u001b[1;32m    824\u001b[0m   \"\"\"\n\u001b[0;32m--> 825\u001b[0;31m   \u001b[0;32mif\u001b[0m \u001b[0misinstance\u001b[0m\u001b[0;34m(\u001b[0m\u001b[0mtype_value\u001b[0m\u001b[0;34m,\u001b[0m \u001b[0mDType\u001b[0m\u001b[0;34m)\u001b[0m\u001b[0;34m:\u001b[0m\u001b[0;34m\u001b[0m\u001b[0;34m\u001b[0m\u001b[0m\n\u001b[0m\u001b[1;32m    826\u001b[0m     \u001b[0;32mif\u001b[0m \u001b[0mtype_value\u001b[0m\u001b[0;34m.\u001b[0m\u001b[0m_handle_data\u001b[0m \u001b[0;32mis\u001b[0m \u001b[0;32mNone\u001b[0m\u001b[0;34m:\u001b[0m  \u001b[0;31m# pylint:disable=protected-access\u001b[0m\u001b[0;34m\u001b[0m\u001b[0;34m\u001b[0m\u001b[0m\n\u001b[1;32m    827\u001b[0m       \u001b[0;32mreturn\u001b[0m \u001b[0m_INTERN_TABLE\u001b[0m\u001b[0;34m[\u001b[0m\u001b[0mtype_value\u001b[0m\u001b[0;34m.\u001b[0m\u001b[0mas_datatype_enum\u001b[0m\u001b[0;34m]\u001b[0m\u001b[0;34m\u001b[0m\u001b[0;34m\u001b[0m\u001b[0m\n",
            "\u001b[0;32m/usr/lib/python3.10/abc.py\u001b[0m in \u001b[0;36m__instancecheck__\u001b[0;34m(cls, instance)\u001b[0m\n\u001b[1;32m    117\u001b[0m         \u001b[0;32mdef\u001b[0m \u001b[0m__instancecheck__\u001b[0m\u001b[0;34m(\u001b[0m\u001b[0mcls\u001b[0m\u001b[0;34m,\u001b[0m \u001b[0minstance\u001b[0m\u001b[0;34m)\u001b[0m\u001b[0;34m:\u001b[0m\u001b[0;34m\u001b[0m\u001b[0;34m\u001b[0m\u001b[0m\n\u001b[1;32m    118\u001b[0m             \u001b[0;34m\"\"\"Override for isinstance(instance, cls).\"\"\"\u001b[0m\u001b[0;34m\u001b[0m\u001b[0;34m\u001b[0m\u001b[0m\n\u001b[0;32m--> 119\u001b[0;31m             \u001b[0;32mreturn\u001b[0m \u001b[0m_abc_instancecheck\u001b[0m\u001b[0;34m(\u001b[0m\u001b[0mcls\u001b[0m\u001b[0;34m,\u001b[0m \u001b[0minstance\u001b[0m\u001b[0;34m)\u001b[0m\u001b[0;34m\u001b[0m\u001b[0;34m\u001b[0m\u001b[0m\n\u001b[0m\u001b[1;32m    120\u001b[0m \u001b[0;34m\u001b[0m\u001b[0m\n\u001b[1;32m    121\u001b[0m         \u001b[0;32mdef\u001b[0m \u001b[0m__subclasscheck__\u001b[0m\u001b[0;34m(\u001b[0m\u001b[0mcls\u001b[0m\u001b[0;34m,\u001b[0m \u001b[0msubclass\u001b[0m\u001b[0;34m)\u001b[0m\u001b[0;34m:\u001b[0m\u001b[0;34m\u001b[0m\u001b[0;34m\u001b[0m\u001b[0m\n",
            "\u001b[0;31mKeyboardInterrupt\u001b[0m: "
          ]
        }
      ],
      "source": [
        "text = 'it has been reported'.lower()\n",
        "tokenized = [2] + tokenizer.tokenize(text)\n",
        "tokenized = tokenized[:256]\n",
        "window = tokenized + [0] * (seq_length - len(tokenized))\n",
        "index = len(tokenized) - 1\n",
        "for _ in range(1000):\n",
        "  pred = model(np.array([window]))\n",
        "  token_pred = np.squeeze(pred)[index].astype('float64')\n",
        "  token_pred *= 1\n",
        "  token_pred = tf.nn.softmax(token_pred)\n",
        "\n",
        "  token = np.argmax(np.random.multinomial(1, token_pred))\n",
        "  print(tokenizer.detokenize([token]), end='')\n",
        "  if token == 3:\n",
        "    break\n",
        "\n",
        "  if len(window) - 1 > index:\n",
        "    index += 1\n",
        "    window[index] = token\n",
        "  else:\n",
        "    window = window[1:] + [token]"
      ]
    },
    {
      "cell_type": "code",
      "source": [
        "# i state department has said 'the vast majority of the palestinians have been killed', the israeli newspaper reported. the u.s. government has said the government's 'a vast majority of the palestinians have died and the least are injured in the attack'. the u.s. has said the death toll in the israeli town of sharma was the third biggest in the country. the israeli government said the death toll was 'highly inaccurate' and that the palestinians were killed by israeli air strikes in the gaza strip. the palestinians are believed to have died and the palestinians were killed in the attack, the report said. israeli state department said the death toll was 75. the israeli government said the death toll was 75. the palestinians are believed to have died and the palestinians were killed by israeli air strikes in the gaza strip. they said the\n"
      ],
      "metadata": {
        "id": "XruX0EuGsl6d"
      },
      "execution_count": null,
      "outputs": []
    },
    {
      "cell_type": "code",
      "source": [
        "print(list(enumerate([1, 2, 3, 4])))"
      ],
      "metadata": {
        "colab": {
          "base_uri": "https://localhost:8080/"
        },
        "id": "6Layts-enbMN",
        "outputId": "006805d7-af46-4de8-cb83-02269df889ff"
      },
      "execution_count": null,
      "outputs": [
        {
          "output_type": "stream",
          "name": "stdout",
          "text": [
            "[(0, 1), (1, 2), (2, 3), (3, 4)]\n"
          ]
        }
      ]
    },
    {
      "cell_type": "code",
      "execution_count": null,
      "metadata": {
        "colab": {
          "base_uri": "https://localhost:8080/"
        },
        "id": "XoFJtJ-Reh17",
        "outputId": "7fdaa785-a3f7-42af-f761-db66e957a74f"
      },
      "outputs": [
        {
          "output_type": "stream",
          "name": "stdout",
          "text": [
            "(1, 256)\n",
            "(1, 256)\n",
            "(1, 256)\n",
            "(1, 256)\n",
            "(1, 256)\n",
            "(1, 256)\n",
            "[1258 1732 1732 1732 1732 1732 1732 1732 1732 1732 1732 1732 1732 1732\n",
            " 1732 1732 1732 1732 1732 1732 1732 1732 1732 1732 1732 1732 1732 1732\n",
            " 1732 1732 1732 1732   99   99   99   99   99   99   99   99   99   99\n",
            "   99   99   99   99   99   99   99   99   99   99   99   99   99   99\n",
            "   99   99   99   99   99   99   99   99 2143 2143 2143 2143 2143 2479\n",
            " 2143 2143 2143 2143 2143 2143 2479 2479 2143 2143 2143 2143 2143 2143\n",
            " 2143 2143 2143 2143 2143 2143 2143 2143 2143 2143 2143 2143 2036 2036\n",
            " 2036 2036 2036 2036 2036 2036 2036 2036 2036 2036 2036 2036 2036 2036\n",
            " 2036 2036 2036 2036 2036 2036 2036 2036 2036 2036 2036 2036 2036 2036\n",
            " 2036 2036 2380 2380 2380 2380 2380 2380 2380 2380 2380 2380 2380 2380\n",
            " 2380 2380 2380 2380 2380 2380 2380 2380 2380 2380 2380 2380 2380 2380\n",
            " 2380 2380 2380 2380 2380 2380  922  922  922  922  922 1645 1645  922\n",
            "  922  922 1198 1198 1645 1645 1645 1645 1645 1645 1645 1645 1645 1645\n",
            " 1645 1645 1645 1645 1645 1302 1302 1198 1198 1645 2385 2385 2385 2385\n",
            " 2385 2385 2385 2385 2385 2385 2385 2385 2385 2385 2385 2385 2385 2385\n",
            " 2385 2385 2385 2385 2385 2385 2385 2385 2385 2385 2385 2385 2385 2385\n",
            " 2380 2380 2380 2380 2380 2380 2380 2380 2380 2380 2380 2380 2380 2380\n",
            " 2380 2380 2380 2380 2380 2380 2380 2380 2380 2380 2380 2380 2380 2380\n",
            " 2380 2380 2380 2380]\n"
          ]
        }
      ],
      "source": [
        "window = [2] + [0] * (seq_length - 1)\n",
        "pred = np.squeeze(model(np.array([window])))\n",
        "# print(tokenizer.detokenize(np.argmax(pred, axis=-1)))\n",
        "print(np.argmax(pred, axis=-1))"
      ]
    },
    {
      "cell_type": "markdown",
      "metadata": {
        "id": "Xv3x64Qc_Caj"
      },
      "source": [
        "# Random testing"
      ]
    },
    {
      "cell_type": "code",
      "execution_count": null,
      "metadata": {
        "id": "wlc07Rh0WjdB"
      },
      "outputs": [],
      "source": [
        "data_entry = None\n",
        "for e in dataset.batch(2):\n",
        "  data_entry = e\n",
        "  break"
      ]
    },
    {
      "cell_type": "code",
      "execution_count": null,
      "metadata": {
        "id": "7jYQ3Eul3E-6"
      },
      "outputs": [],
      "source": [
        "a = None\n",
        "for e in dataset.take(1):\n",
        "  a = e\n",
        "\n",
        "x_true, y_true = a\n",
        "\n",
        "x_true = tf.expand_dims(x_true, 0)"
      ]
    },
    {
      "cell_type": "code",
      "execution_count": null,
      "metadata": {
        "colab": {
          "base_uri": "https://localhost:8080/"
        },
        "id": "pOnkEcya38zG",
        "outputId": "3c6d2456-5879-428f-dea1-a9083e157ed5"
      },
      "outputs": [
        {
          "name": "stdout",
          "output_type": "stream",
          "text": [
            "tf.Tensor(\n",
            "[[  2   6 195  98  22  54 378 919  82 435 300   7  24 751 197 753  15  18\n",
            "  268   4 138 619  40 572 806 193 971 145  88  71 134  15 437  64  64  64\n",
            "   64  64  64  64  64 666 171 741  85 313 169   9  73 147  93 378 168  42\n",
            "  196  82 435 456 279  83 180 591  41   6  66 369  85 139  64  64  64  64\n",
            "   64  64  64  64 538 333 736 261  73 221  64  85  98 564  67  25 821 317\n",
            "  134  41  15 437  64  64  64  64  64  64  64  64  64  64  64  64  64  64\n",
            "   64  64  64  75  23  16  15  82 435 300   7  24 751 197  94 381 127  69\n",
            "  127  10  79   3   0   0   0   0   0   0   0   0   0   0   0   0   0   0\n",
            "    0   0   0   0   0   0   0   0   0   0   0   0   0   0   0   0   0   0\n",
            "    0   0   0   0   0   0   0   0   0   0   0   0   0   0   0   0   0   0\n",
            "    0   0   0   0   0   0   0   0   0   0   0   0   0   0   0   0   0   0\n",
            "    0   0   0   0   0   0   0   0   0   0   0   0   0   0   0   0   0   0\n",
            "    0   0   0   0   0   0   0   0   0   0   0   0   0   0   0   0   0   0\n",
            "    0   0   0   0   0   0   0   0   0   0   0   0   0   0   0   0   0   0\n",
            "    0   0   0   0]], shape=(1, 256), dtype=int32)\n"
          ]
        }
      ],
      "source": [
        "print(x_true)"
      ]
    },
    {
      "cell_type": "code",
      "execution_count": null,
      "metadata": {
        "id": "x7-65DEs6AEi"
      },
      "outputs": [],
      "source": [
        "x_true = tf.constant([[2, 6, 195, 98, 22, 54, 378, 919, 82, 435, 300, 7, 24, 751, 197, 753, 15, 18 , 268, 4, 138, 619, 40, 572, 806, 193, 971, 145, 88, 71, 134, 15, 437, 64, 64, 64 , 64, 64, 64, 64, 64, 666, 171, 741, 85, 313, 169, 9, 73, 147, 93, 378, 168, 42 , 196, 82, 435, 456, 279, 83, 180, 591, 41, 6, 66, 369, 85, 139, 64, 64, 64, 64 , 64, 64, 64, 64, 538, 333, 736, 261, 73, 221, 64, 85, 98, 564, 67, 25, 821, 317 , 134, 41, 15, 437, 64, 64, 64, 64, 64, 64, 64, 64, 64, 64, 64, 64, 64, 64 , 64, 64, 64, 75, 23, 16, 15, 82, 435, 300, 7, 24, 751, 197, 94, 381, 127, 69 , 127, 10, 79, 3, 0, 0, 0, 0, 0, 0, 0, 0, 0, 0, 0, 0, 0, 0 , 0, 0, 0, 0, 0, 0, 0, 0, 0, 0, 0, 0, 0, 0, 0, 0, 0, 0 , 0, 0, 0, 0, 0, 0, 0, 0, 0, 0, 0, 0, 0, 0, 0, 0, 0, 0 , 0, 0, 0, 0, 0, 0, 0, 0, 0, 0, 0, 0, 0, 0, 0, 0, 0, 0 , 0, 0, 0, 0, 0, 0, 0, 0, 0, 0, 0, 0, 0, 0, 0, 0, 0, 0 , 0, 0, 0, 0, 0, 0, 0, 0, 0, 0, 0, 0, 0, 0, 0, 0, 0, 0 , 0, 0, 0, 0, 0, 0, 0, 0, 0, 0, 0, 0, 0, 0, 0, 0, 0, 0 , 0, 0, 0, 0]])"
      ]
    },
    {
      "cell_type": "code",
      "execution_count": null,
      "metadata": {
        "colab": {
          "base_uri": "https://localhost:8080/"
        },
        "id": "OfgBsjIL3ZJ0",
        "outputId": "7e42b5d8-83ad-4132-bcba-2f6967562d54"
      },
      "outputs": [
        {
          "name": "stdout",
          "output_type": "stream",
          "text": [
            "(2, 256, 1000)\n"
          ]
        }
      ],
      "source": [
        "print(model(data_entry[0]).shape)"
      ]
    },
    {
      "cell_type": "markdown",
      "metadata": {
        "id": "r6vkRhR1_DzS"
      },
      "source": []
    },
    {
      "cell_type": "code",
      "execution_count": null,
      "metadata": {
        "colab": {
          "base_uri": "https://localhost:8080/"
        },
        "id": "TmhBGllMpr0Y",
        "outputId": "6207320a-42e9-41fb-e3f7-ea299e37eb20"
      },
      "outputs": [
        {
          "name": "stdout",
          "output_type": "stream",
          "text": [
            "(2, 2, 2)\n",
            "(1, 2, 2, 2)\n",
            "tf.Tensor(\n",
            "[[[[ 1.e+00 -1.e+09]\n",
            "   [ 3.e+00 -1.e+09]]\n",
            "\n",
            "  [[ 1.e+00  2.e+00]\n",
            "   [ 3.e+00  4.e+00]]]], shape=(1, 2, 2, 2), dtype=float32)\n"
          ]
        }
      ],
      "source": [
        "mask = tf.constant([[[True, False], [True, False]], [[True, True], [True, True]]])\n",
        "print(mask.shape)\n",
        "a = tf.constant([[[[1, 2], [3, 4]], [[1, 2], [3, 4]]]], dtype=tf.float32)\n",
        "print(a.shape)\n",
        "b = tf.ones(a.shape[-2:], tf.float32) * -1e9\n",
        "\n",
        "x = tf.where(mask, a, b)\n",
        "print(x)"
      ]
    },
    {
      "cell_type": "code",
      "execution_count": null,
      "metadata": {
        "colab": {
          "base_uri": "https://localhost:8080/"
        },
        "id": "7uDGCyCSrTk_",
        "outputId": "c20a5ef8-da0d-4994-994d-5b569be7bbe2"
      },
      "outputs": [
        {
          "name": "stdout",
          "output_type": "stream",
          "text": [
            "tf.Tensor(\n",
            "[[ True False False]\n",
            " [ True  True False]\n",
            " [ True False False]], shape=(3, 3), dtype=bool)\n"
          ]
        }
      ],
      "source": [
        "mask1 = tf.constant([[True, False, False], [True, True, False], [True, False, False]])\n",
        "mask2 = tf.cast(np.tri(3), dtype=tf.bool)\n",
        "\n",
        "mask = mask1 & mask2\n",
        "print(mask)"
      ]
    },
    {
      "cell_type": "code",
      "execution_count": null,
      "metadata": {
        "id": "a3nAjxzyIcYp"
      },
      "outputs": [],
      "source": [
        "epochs = 2\n",
        "batch_size = 5\n",
        "\n",
        "for epoch in range(epochs):\n",
        "    print(\"\\nStart of epoch %d\" % (epoch,))\n",
        "\n",
        "    # Iterate over the batches of the dataset.\n",
        "    for step, (x_batch_train, y_batch_train) in enumerate(dataset.take(100).batch(batch_size)):\n",
        "        # Open a GradientTape to record the operations run\n",
        "        # during the forward pass, which enables auto-differentiation.\n",
        "        with tf.GradientTape() as tape:\n",
        "            # Run the forward pass of the layer.\n",
        "            # The operations that the layer applies\n",
        "            # to its inputs are going to be recorded\n",
        "            # on the GradientTape.\n",
        "            logits = model(x_batch_train, training=True)  # Logits for this minibatch\n",
        "\n",
        "            # Compute the loss value for this minibatch.\n",
        "            loss_value = loss_fn(y_batch_train, logits)\n",
        "\n",
        "        # Use the gradient tape to automatically retrieve\n",
        "        # the gradients of the trainable variables with respect to the loss.\n",
        "        grads = tape.gradient(loss_value, model.trainable_weights)\n",
        "\n",
        "        # Run one step of gradient descent by updating\n",
        "        # the value of the variables to minimize the loss.\n",
        "        optimizer.apply_gradients(zip(grads, model.trainable_weights))\n",
        "\n",
        "        print(\"Training loss (for one batch) at step %d: %.4f\" % (step, float(loss_value)))\n",
        "        print(\"Seen so far: %s samples\" % ((step + 1) * batch_size))"
      ]
    },
    {
      "cell_type": "code",
      "execution_count": null,
      "metadata": {
        "colab": {
          "base_uri": "https://localhost:8080/"
        },
        "id": "fTww17_S1EXa",
        "outputId": "900a679f-2cbf-4c3c-bb0a-7f2984f6f093"
      },
      "outputs": [
        {
          "name": "stdout",
          "output_type": "stream",
          "text": [
            "(6, 3)\n",
            "tf.Tensor(\n",
            "[[ True  True False]\n",
            " [ True  True False]\n",
            " [ True  True False]\n",
            " [ True False False]\n",
            " [ True False False]\n",
            " [ True False False]], shape=(6, 3), dtype=bool)\n"
          ]
        }
      ],
      "source": [
        "mask = tf.constant([[True, True, False], [True, False, False]]) # (batch, mask)\n",
        "mask = tf.repeat(mask, 3, axis=0) # (batch, mask, mask)\n",
        "print(mask.shape)\n",
        "print(mask)"
      ]
    },
    {
      "cell_type": "code",
      "execution_count": null,
      "metadata": {
        "colab": {
          "base_uri": "https://localhost:8080/"
        },
        "id": "fqWPvdPR-I0x",
        "outputId": "fdc25e66-8da5-4210-96e0-af44d32328fa"
      },
      "outputs": [
        {
          "name": "stdout",
          "output_type": "stream",
          "text": [
            "(3, 3)\n",
            "tf.Tensor(\n",
            "[[ True False False]\n",
            " [ True  True False]\n",
            " [ True  True  True]], shape=(3, 3), dtype=bool)\n"
          ]
        }
      ],
      "source": [
        "tri_mask = tf.cast(np.tri(3), dtype=tf.bool)\n",
        "# tri_mask = tf.expand_dims(tri_mask, axis=0)\n",
        "# tri_mask = tf.\n",
        "print(tri_mask.shape)\n",
        "print(tri_mask)"
      ]
    },
    {
      "cell_type": "code",
      "execution_count": null,
      "metadata": {
        "colab": {
          "base_uri": "https://localhost:8080/"
        },
        "id": "3Ok66Yvn1kcB",
        "outputId": "5b6941ec-c794-422f-ad2f-b55a68d1895b"
      },
      "outputs": [
        {
          "name": "stdout",
          "output_type": "stream",
          "text": [
            "(2, 1, 3)\n",
            "(2, 3, 3)\n",
            "tf.Tensor(\n",
            "[[[ True  True  True]\n",
            "  [ True  True  True]\n",
            "  [ True  True  True]]\n",
            "\n",
            " [[ True  True False]\n",
            "  [ True  True False]\n",
            "  [ True  True False]]], shape=(2, 3, 3), dtype=bool)\n"
          ]
        }
      ],
      "source": [
        "mask = tf.constant([[[True, True, True]], [[True, True, False]]])\n",
        "print(mask.shape)\n",
        "b = tf.constant([1, 3, 1], tf.int32)\n",
        "mask = tf.tile(mask, tf.constant([1, 3, 1]))\n",
        "print(mask.shape)\n",
        "print(mask)"
      ]
    },
    {
      "cell_type": "code",
      "execution_count": null,
      "metadata": {
        "colab": {
          "base_uri": "https://localhost:8080/"
        },
        "id": "8ZTSxpVB-WPS",
        "outputId": "9b3977b8-2921-4d30-edad-5003a739c038"
      },
      "outputs": [
        {
          "name": "stdout",
          "output_type": "stream",
          "text": [
            "tf.Tensor(\n",
            "[[[ True False False]\n",
            "  [ True  True False]\n",
            "  [ True  True  True]]\n",
            "\n",
            " [[ True False False]\n",
            "  [ True  True False]\n",
            "  [ True  True False]]], shape=(2, 3, 3), dtype=bool)\n"
          ]
        }
      ],
      "source": [
        "full_mask = mask & tri_mask\n",
        "print(full_mask)"
      ]
    },
    {
      "cell_type": "code",
      "execution_count": null,
      "metadata": {
        "colab": {
          "base_uri": "https://localhost:8080/"
        },
        "id": "mOVatBsQ3JZl",
        "outputId": "7079baad-1685-4789-dd12-2148d1f80259"
      },
      "outputs": [
        {
          "name": "stdout",
          "output_type": "stream",
          "text": [
            "(1, 1, 3)\n",
            "(1, 3, 3)\n",
            "tf.Tensor(\n",
            "[[[ True False False]\n",
            "  [ True False False]\n",
            "  [ True False False]]], shape=(1, 3, 3), dtype=bool)\n"
          ]
        }
      ],
      "source": [
        "mask = tf.constant([[True, False, False]])\n",
        "mask = tf.expand_dims(mask, axis=1)\n",
        "print(mask.shape)\n",
        "b = tf.constant([1, 3, 1], tf.int32)\n",
        "mask = tf.tile(mask, b)\n",
        "\n",
        "print(mask.shape)\n",
        "print(mask)"
      ]
    },
    {
      "cell_type": "code",
      "execution_count": null,
      "metadata": {
        "id": "mtw5Ssfw8aet"
      },
      "outputs": [],
      "source": [
        "model1 = tf.keras.Sequential([\n",
        "    tf.keras.layers.Dense(10),\n",
        "    tf.keras.layers.Dense(5)])"
      ]
    },
    {
      "cell_type": "code",
      "source": [
        "model2 = tf.keras.Sequential([\n",
        "    tf.keras.layers.Conv1D(filters=10, kernel_size=1, activation='relu'),\n",
        "    tf.keras.layers.Conv1D(filters=5, kernel_size=1)])"
      ],
      "metadata": {
        "id": "0VH5A4ruKC4R"
      },
      "execution_count": null,
      "outputs": []
    },
    {
      "cell_type": "code",
      "source": [
        "dense1 = tf.keras.layers.Dense(10, activation='relu')\n",
        "dense2 = tf.keras.layers.Dense(5)\n",
        "\n",
        "def model1(x):\n",
        "  x = dense1(x)\n",
        "  return dense2(x)"
      ],
      "metadata": {
        "id": "G79tnygqNUnp"
      },
      "execution_count": null,
      "outputs": []
    },
    {
      "cell_type": "code",
      "source": [
        "input1 = np.array([[\n",
        "    [1., 0., 0., 0., 0.],\n",
        "    [1., 0., 0., 0., 0.],\n",
        "    [1., 0., 0., 0., 0.]]])\n",
        "\n",
        "input2 = np.array([[\n",
        "    [1., 0., 0., 0., 0.],\n",
        "    [1., 0., 0., 1., 0.],\n",
        "    [1., 0., 0., 1., 0.]]])"
      ],
      "metadata": {
        "id": "413MPNh1KYrr"
      },
      "execution_count": null,
      "outputs": []
    },
    {
      "cell_type": "code",
      "source": [
        "input1.shape"
      ],
      "metadata": {
        "colab": {
          "base_uri": "https://localhost:8080/"
        },
        "id": "aAq2Yv4hLoW8",
        "outputId": "780536ae-da2b-430a-d327-7e9861f4c148"
      },
      "execution_count": null,
      "outputs": [
        {
          "output_type": "execute_result",
          "data": {
            "text/plain": [
              "(1, 3, 5)"
            ]
          },
          "metadata": {},
          "execution_count": 22
        }
      ]
    },
    {
      "cell_type": "code",
      "source": [
        "print('model1: ', model1(input1))\n",
        "print('model2: ', model2(input1))"
      ],
      "metadata": {
        "colab": {
          "base_uri": "https://localhost:8080/"
        },
        "id": "kzKEFjsxKhET",
        "outputId": "90b8df2e-7587-4ac9-fcbf-2b555b34f244"
      },
      "execution_count": null,
      "outputs": [
        {
          "output_type": "stream",
          "name": "stdout",
          "text": [
            "model1:  tf.Tensor(\n",
            "[[[ 0.0973601  -0.01921852 -0.24813573 -0.31107447  0.20160046]\n",
            "  [ 0.0973601  -0.01921852 -0.24813573 -0.31107447  0.20160046]\n",
            "  [ 0.0973601  -0.01921852 -0.24813573 -0.31107447  0.20160046]]], shape=(1, 3, 5), dtype=float32)\n",
            "model2:  tf.Tensor(\n",
            "[[[-0.18823999  0.42539167  0.24561214 -0.3076089   0.32815677]\n",
            "  [-0.18823999  0.42539167  0.24561214 -0.3076089   0.32815677]\n",
            "  [-0.18823999  0.42539167  0.24561214 -0.3076089   0.32815677]]], shape=(1, 3, 5), dtype=float32)\n"
          ]
        }
      ]
    },
    {
      "cell_type": "code",
      "source": [
        "print('model1: ', model1(input2))\n",
        "print('model2: ', model2(input2))"
      ],
      "metadata": {
        "colab": {
          "base_uri": "https://localhost:8080/"
        },
        "id": "PCywIMZTL7xy",
        "outputId": "c68bdbcb-4e5c-475c-c088-02a24f053385"
      },
      "execution_count": null,
      "outputs": [
        {
          "output_type": "stream",
          "name": "stdout",
          "text": [
            "model1:  tf.Tensor(\n",
            "[[[ 0.0973601  -0.01921852 -0.24813573 -0.31107447  0.20160046]\n",
            "  [ 0.12055966  0.04097506 -0.09912045 -0.12655932 -0.05822828]\n",
            "  [ 0.12055966  0.04097506 -0.09912045 -0.12655932 -0.05822828]]], shape=(1, 3, 5), dtype=float32)\n",
            "model2:  tf.Tensor(\n",
            "[[[-0.18823999  0.42539167  0.24561214 -0.3076089   0.32815677]\n",
            "  [ 0.57166004 -0.12346924  0.21832593  0.20915633  0.18604334]\n",
            "  [ 0.57166004 -0.12346924  0.21832593  0.20915633  0.18604334]]], shape=(1, 3, 5), dtype=float32)\n"
          ]
        }
      ]
    }
  ],
  "metadata": {
    "colab": {
      "collapsed_sections": [
        "fXV8bsiQUqOE",
        "2MZk9GX5UvZk",
        "2BUJDChdUzVD",
        "hSPOBE5lJ2DI",
        "b6ouOLRedhof",
        "Xv3x64Qc_Caj"
      ],
      "provenance": [],
      "toc_visible": true
    },
    "kernelspec": {
      "display_name": "Python 3",
      "name": "python3"
    },
    "language_info": {
      "name": "python"
    },
    "widgets": {
      "application/vnd.jupyter.widget-state+json": {
        "0a1c3ae519af4e4498560da43ec72ae8": {
          "model_module": "@jupyter-widgets/controls",
          "model_name": "HBoxModel",
          "model_module_version": "1.5.0",
          "state": {
            "_dom_classes": [],
            "_model_module": "@jupyter-widgets/controls",
            "_model_module_version": "1.5.0",
            "_model_name": "HBoxModel",
            "_view_count": null,
            "_view_module": "@jupyter-widgets/controls",
            "_view_module_version": "1.5.0",
            "_view_name": "HBoxView",
            "box_style": "",
            "children": [
              "IPY_MODEL_20620f4025c3473e9de4342baebde89c",
              "IPY_MODEL_d68ccb5e27c04465806b9bc2177dc0ae",
              "IPY_MODEL_fb6ab88d2bcd4f90a9a033126addc056"
            ],
            "layout": "IPY_MODEL_3240c3c2f6854034b58b3f5dbc2f9119"
          }
        },
        "20620f4025c3473e9de4342baebde89c": {
          "model_module": "@jupyter-widgets/controls",
          "model_name": "HTMLModel",
          "model_module_version": "1.5.0",
          "state": {
            "_dom_classes": [],
            "_model_module": "@jupyter-widgets/controls",
            "_model_module_version": "1.5.0",
            "_model_name": "HTMLModel",
            "_view_count": null,
            "_view_module": "@jupyter-widgets/controls",
            "_view_module_version": "1.5.0",
            "_view_name": "HTMLView",
            "description": "",
            "description_tooltip": null,
            "layout": "IPY_MODEL_027e86710629457d8a1230cc4ac85e8d",
            "placeholder": "​",
            "style": "IPY_MODEL_f1d12f6823e14bd2bd7b32ad74c4bc39",
            "value": "Downloading readme: 100%"
          }
        },
        "d68ccb5e27c04465806b9bc2177dc0ae": {
          "model_module": "@jupyter-widgets/controls",
          "model_name": "FloatProgressModel",
          "model_module_version": "1.5.0",
          "state": {
            "_dom_classes": [],
            "_model_module": "@jupyter-widgets/controls",
            "_model_module_version": "1.5.0",
            "_model_name": "FloatProgressModel",
            "_view_count": null,
            "_view_module": "@jupyter-widgets/controls",
            "_view_module_version": "1.5.0",
            "_view_name": "ProgressView",
            "bar_style": "success",
            "description": "",
            "description_tooltip": null,
            "layout": "IPY_MODEL_fb300f0e298841cf89a2e72c14ef335c",
            "max": 15586,
            "min": 0,
            "orientation": "horizontal",
            "style": "IPY_MODEL_7f30cf0017b34be68b8cc5b33fad1805",
            "value": 15586
          }
        },
        "fb6ab88d2bcd4f90a9a033126addc056": {
          "model_module": "@jupyter-widgets/controls",
          "model_name": "HTMLModel",
          "model_module_version": "1.5.0",
          "state": {
            "_dom_classes": [],
            "_model_module": "@jupyter-widgets/controls",
            "_model_module_version": "1.5.0",
            "_model_name": "HTMLModel",
            "_view_count": null,
            "_view_module": "@jupyter-widgets/controls",
            "_view_module_version": "1.5.0",
            "_view_name": "HTMLView",
            "description": "",
            "description_tooltip": null,
            "layout": "IPY_MODEL_90cf6fa709be4b9f8f9487cc9b498054",
            "placeholder": "​",
            "style": "IPY_MODEL_752c99edff0141cc8d0596e70ed7688e",
            "value": " 15.6k/15.6k [00:00&lt;00:00, 711kB/s]"
          }
        },
        "3240c3c2f6854034b58b3f5dbc2f9119": {
          "model_module": "@jupyter-widgets/base",
          "model_name": "LayoutModel",
          "model_module_version": "1.2.0",
          "state": {
            "_model_module": "@jupyter-widgets/base",
            "_model_module_version": "1.2.0",
            "_model_name": "LayoutModel",
            "_view_count": null,
            "_view_module": "@jupyter-widgets/base",
            "_view_module_version": "1.2.0",
            "_view_name": "LayoutView",
            "align_content": null,
            "align_items": null,
            "align_self": null,
            "border": null,
            "bottom": null,
            "display": null,
            "flex": null,
            "flex_flow": null,
            "grid_area": null,
            "grid_auto_columns": null,
            "grid_auto_flow": null,
            "grid_auto_rows": null,
            "grid_column": null,
            "grid_gap": null,
            "grid_row": null,
            "grid_template_areas": null,
            "grid_template_columns": null,
            "grid_template_rows": null,
            "height": null,
            "justify_content": null,
            "justify_items": null,
            "left": null,
            "margin": null,
            "max_height": null,
            "max_width": null,
            "min_height": null,
            "min_width": null,
            "object_fit": null,
            "object_position": null,
            "order": null,
            "overflow": null,
            "overflow_x": null,
            "overflow_y": null,
            "padding": null,
            "right": null,
            "top": null,
            "visibility": null,
            "width": null
          }
        },
        "027e86710629457d8a1230cc4ac85e8d": {
          "model_module": "@jupyter-widgets/base",
          "model_name": "LayoutModel",
          "model_module_version": "1.2.0",
          "state": {
            "_model_module": "@jupyter-widgets/base",
            "_model_module_version": "1.2.0",
            "_model_name": "LayoutModel",
            "_view_count": null,
            "_view_module": "@jupyter-widgets/base",
            "_view_module_version": "1.2.0",
            "_view_name": "LayoutView",
            "align_content": null,
            "align_items": null,
            "align_self": null,
            "border": null,
            "bottom": null,
            "display": null,
            "flex": null,
            "flex_flow": null,
            "grid_area": null,
            "grid_auto_columns": null,
            "grid_auto_flow": null,
            "grid_auto_rows": null,
            "grid_column": null,
            "grid_gap": null,
            "grid_row": null,
            "grid_template_areas": null,
            "grid_template_columns": null,
            "grid_template_rows": null,
            "height": null,
            "justify_content": null,
            "justify_items": null,
            "left": null,
            "margin": null,
            "max_height": null,
            "max_width": null,
            "min_height": null,
            "min_width": null,
            "object_fit": null,
            "object_position": null,
            "order": null,
            "overflow": null,
            "overflow_x": null,
            "overflow_y": null,
            "padding": null,
            "right": null,
            "top": null,
            "visibility": null,
            "width": null
          }
        },
        "f1d12f6823e14bd2bd7b32ad74c4bc39": {
          "model_module": "@jupyter-widgets/controls",
          "model_name": "DescriptionStyleModel",
          "model_module_version": "1.5.0",
          "state": {
            "_model_module": "@jupyter-widgets/controls",
            "_model_module_version": "1.5.0",
            "_model_name": "DescriptionStyleModel",
            "_view_count": null,
            "_view_module": "@jupyter-widgets/base",
            "_view_module_version": "1.2.0",
            "_view_name": "StyleView",
            "description_width": ""
          }
        },
        "fb300f0e298841cf89a2e72c14ef335c": {
          "model_module": "@jupyter-widgets/base",
          "model_name": "LayoutModel",
          "model_module_version": "1.2.0",
          "state": {
            "_model_module": "@jupyter-widgets/base",
            "_model_module_version": "1.2.0",
            "_model_name": "LayoutModel",
            "_view_count": null,
            "_view_module": "@jupyter-widgets/base",
            "_view_module_version": "1.2.0",
            "_view_name": "LayoutView",
            "align_content": null,
            "align_items": null,
            "align_self": null,
            "border": null,
            "bottom": null,
            "display": null,
            "flex": null,
            "flex_flow": null,
            "grid_area": null,
            "grid_auto_columns": null,
            "grid_auto_flow": null,
            "grid_auto_rows": null,
            "grid_column": null,
            "grid_gap": null,
            "grid_row": null,
            "grid_template_areas": null,
            "grid_template_columns": null,
            "grid_template_rows": null,
            "height": null,
            "justify_content": null,
            "justify_items": null,
            "left": null,
            "margin": null,
            "max_height": null,
            "max_width": null,
            "min_height": null,
            "min_width": null,
            "object_fit": null,
            "object_position": null,
            "order": null,
            "overflow": null,
            "overflow_x": null,
            "overflow_y": null,
            "padding": null,
            "right": null,
            "top": null,
            "visibility": null,
            "width": null
          }
        },
        "7f30cf0017b34be68b8cc5b33fad1805": {
          "model_module": "@jupyter-widgets/controls",
          "model_name": "ProgressStyleModel",
          "model_module_version": "1.5.0",
          "state": {
            "_model_module": "@jupyter-widgets/controls",
            "_model_module_version": "1.5.0",
            "_model_name": "ProgressStyleModel",
            "_view_count": null,
            "_view_module": "@jupyter-widgets/base",
            "_view_module_version": "1.2.0",
            "_view_name": "StyleView",
            "bar_color": null,
            "description_width": ""
          }
        },
        "90cf6fa709be4b9f8f9487cc9b498054": {
          "model_module": "@jupyter-widgets/base",
          "model_name": "LayoutModel",
          "model_module_version": "1.2.0",
          "state": {
            "_model_module": "@jupyter-widgets/base",
            "_model_module_version": "1.2.0",
            "_model_name": "LayoutModel",
            "_view_count": null,
            "_view_module": "@jupyter-widgets/base",
            "_view_module_version": "1.2.0",
            "_view_name": "LayoutView",
            "align_content": null,
            "align_items": null,
            "align_self": null,
            "border": null,
            "bottom": null,
            "display": null,
            "flex": null,
            "flex_flow": null,
            "grid_area": null,
            "grid_auto_columns": null,
            "grid_auto_flow": null,
            "grid_auto_rows": null,
            "grid_column": null,
            "grid_gap": null,
            "grid_row": null,
            "grid_template_areas": null,
            "grid_template_columns": null,
            "grid_template_rows": null,
            "height": null,
            "justify_content": null,
            "justify_items": null,
            "left": null,
            "margin": null,
            "max_height": null,
            "max_width": null,
            "min_height": null,
            "min_width": null,
            "object_fit": null,
            "object_position": null,
            "order": null,
            "overflow": null,
            "overflow_x": null,
            "overflow_y": null,
            "padding": null,
            "right": null,
            "top": null,
            "visibility": null,
            "width": null
          }
        },
        "752c99edff0141cc8d0596e70ed7688e": {
          "model_module": "@jupyter-widgets/controls",
          "model_name": "DescriptionStyleModel",
          "model_module_version": "1.5.0",
          "state": {
            "_model_module": "@jupyter-widgets/controls",
            "_model_module_version": "1.5.0",
            "_model_name": "DescriptionStyleModel",
            "_view_count": null,
            "_view_module": "@jupyter-widgets/base",
            "_view_module_version": "1.2.0",
            "_view_name": "StyleView",
            "description_width": ""
          }
        },
        "9bdf058a3f9b43e49a1fcb1d13aa2341": {
          "model_module": "@jupyter-widgets/controls",
          "model_name": "HBoxModel",
          "model_module_version": "1.5.0",
          "state": {
            "_dom_classes": [],
            "_model_module": "@jupyter-widgets/controls",
            "_model_module_version": "1.5.0",
            "_model_name": "HBoxModel",
            "_view_count": null,
            "_view_module": "@jupyter-widgets/controls",
            "_view_module_version": "1.5.0",
            "_view_name": "HBoxView",
            "box_style": "",
            "children": [
              "IPY_MODEL_39d51b02f6db47a39f92a2f23f9c3d11",
              "IPY_MODEL_25d4fa96996d49f889be157dd41619e3",
              "IPY_MODEL_194ea39698d447b6861132e6398b7200"
            ],
            "layout": "IPY_MODEL_25d66d93ec3b49abbdc005404b50a02f"
          }
        },
        "39d51b02f6db47a39f92a2f23f9c3d11": {
          "model_module": "@jupyter-widgets/controls",
          "model_name": "HTMLModel",
          "model_module_version": "1.5.0",
          "state": {
            "_dom_classes": [],
            "_model_module": "@jupyter-widgets/controls",
            "_model_module_version": "1.5.0",
            "_model_name": "HTMLModel",
            "_view_count": null,
            "_view_module": "@jupyter-widgets/controls",
            "_view_module_version": "1.5.0",
            "_view_name": "HTMLView",
            "description": "",
            "description_tooltip": null,
            "layout": "IPY_MODEL_973482b2083345f3885c02a71184b9ea",
            "placeholder": "​",
            "style": "IPY_MODEL_7185eef7fe344958a013ad68721d232a",
            "value": "Downloading data: 100%"
          }
        },
        "25d4fa96996d49f889be157dd41619e3": {
          "model_module": "@jupyter-widgets/controls",
          "model_name": "FloatProgressModel",
          "model_module_version": "1.5.0",
          "state": {
            "_dom_classes": [],
            "_model_module": "@jupyter-widgets/controls",
            "_model_module_version": "1.5.0",
            "_model_name": "FloatProgressModel",
            "_view_count": null,
            "_view_module": "@jupyter-widgets/controls",
            "_view_module_version": "1.5.0",
            "_view_name": "ProgressView",
            "bar_style": "success",
            "description": "",
            "description_tooltip": null,
            "layout": "IPY_MODEL_e78510d751fa4a608249cd88a7e05962",
            "max": 256540614,
            "min": 0,
            "orientation": "horizontal",
            "style": "IPY_MODEL_00cb04e5f6c34072b363f68178101d5e",
            "value": 256540614
          }
        },
        "194ea39698d447b6861132e6398b7200": {
          "model_module": "@jupyter-widgets/controls",
          "model_name": "HTMLModel",
          "model_module_version": "1.5.0",
          "state": {
            "_dom_classes": [],
            "_model_module": "@jupyter-widgets/controls",
            "_model_module_version": "1.5.0",
            "_model_name": "HTMLModel",
            "_view_count": null,
            "_view_module": "@jupyter-widgets/controls",
            "_view_module_version": "1.5.0",
            "_view_name": "HTMLView",
            "description": "",
            "description_tooltip": null,
            "layout": "IPY_MODEL_684e4307ec504a72b11f663f9454dbb0",
            "placeholder": "​",
            "style": "IPY_MODEL_57950014ee9747158cbb0db2a08c1276",
            "value": " 257M/257M [00:27&lt;00:00, 9.61MB/s]"
          }
        },
        "25d66d93ec3b49abbdc005404b50a02f": {
          "model_module": "@jupyter-widgets/base",
          "model_name": "LayoutModel",
          "model_module_version": "1.2.0",
          "state": {
            "_model_module": "@jupyter-widgets/base",
            "_model_module_version": "1.2.0",
            "_model_name": "LayoutModel",
            "_view_count": null,
            "_view_module": "@jupyter-widgets/base",
            "_view_module_version": "1.2.0",
            "_view_name": "LayoutView",
            "align_content": null,
            "align_items": null,
            "align_self": null,
            "border": null,
            "bottom": null,
            "display": null,
            "flex": null,
            "flex_flow": null,
            "grid_area": null,
            "grid_auto_columns": null,
            "grid_auto_flow": null,
            "grid_auto_rows": null,
            "grid_column": null,
            "grid_gap": null,
            "grid_row": null,
            "grid_template_areas": null,
            "grid_template_columns": null,
            "grid_template_rows": null,
            "height": null,
            "justify_content": null,
            "justify_items": null,
            "left": null,
            "margin": null,
            "max_height": null,
            "max_width": null,
            "min_height": null,
            "min_width": null,
            "object_fit": null,
            "object_position": null,
            "order": null,
            "overflow": null,
            "overflow_x": null,
            "overflow_y": null,
            "padding": null,
            "right": null,
            "top": null,
            "visibility": null,
            "width": null
          }
        },
        "973482b2083345f3885c02a71184b9ea": {
          "model_module": "@jupyter-widgets/base",
          "model_name": "LayoutModel",
          "model_module_version": "1.2.0",
          "state": {
            "_model_module": "@jupyter-widgets/base",
            "_model_module_version": "1.2.0",
            "_model_name": "LayoutModel",
            "_view_count": null,
            "_view_module": "@jupyter-widgets/base",
            "_view_module_version": "1.2.0",
            "_view_name": "LayoutView",
            "align_content": null,
            "align_items": null,
            "align_self": null,
            "border": null,
            "bottom": null,
            "display": null,
            "flex": null,
            "flex_flow": null,
            "grid_area": null,
            "grid_auto_columns": null,
            "grid_auto_flow": null,
            "grid_auto_rows": null,
            "grid_column": null,
            "grid_gap": null,
            "grid_row": null,
            "grid_template_areas": null,
            "grid_template_columns": null,
            "grid_template_rows": null,
            "height": null,
            "justify_content": null,
            "justify_items": null,
            "left": null,
            "margin": null,
            "max_height": null,
            "max_width": null,
            "min_height": null,
            "min_width": null,
            "object_fit": null,
            "object_position": null,
            "order": null,
            "overflow": null,
            "overflow_x": null,
            "overflow_y": null,
            "padding": null,
            "right": null,
            "top": null,
            "visibility": null,
            "width": null
          }
        },
        "7185eef7fe344958a013ad68721d232a": {
          "model_module": "@jupyter-widgets/controls",
          "model_name": "DescriptionStyleModel",
          "model_module_version": "1.5.0",
          "state": {
            "_model_module": "@jupyter-widgets/controls",
            "_model_module_version": "1.5.0",
            "_model_name": "DescriptionStyleModel",
            "_view_count": null,
            "_view_module": "@jupyter-widgets/base",
            "_view_module_version": "1.2.0",
            "_view_name": "StyleView",
            "description_width": ""
          }
        },
        "e78510d751fa4a608249cd88a7e05962": {
          "model_module": "@jupyter-widgets/base",
          "model_name": "LayoutModel",
          "model_module_version": "1.2.0",
          "state": {
            "_model_module": "@jupyter-widgets/base",
            "_model_module_version": "1.2.0",
            "_model_name": "LayoutModel",
            "_view_count": null,
            "_view_module": "@jupyter-widgets/base",
            "_view_module_version": "1.2.0",
            "_view_name": "LayoutView",
            "align_content": null,
            "align_items": null,
            "align_self": null,
            "border": null,
            "bottom": null,
            "display": null,
            "flex": null,
            "flex_flow": null,
            "grid_area": null,
            "grid_auto_columns": null,
            "grid_auto_flow": null,
            "grid_auto_rows": null,
            "grid_column": null,
            "grid_gap": null,
            "grid_row": null,
            "grid_template_areas": null,
            "grid_template_columns": null,
            "grid_template_rows": null,
            "height": null,
            "justify_content": null,
            "justify_items": null,
            "left": null,
            "margin": null,
            "max_height": null,
            "max_width": null,
            "min_height": null,
            "min_width": null,
            "object_fit": null,
            "object_position": null,
            "order": null,
            "overflow": null,
            "overflow_x": null,
            "overflow_y": null,
            "padding": null,
            "right": null,
            "top": null,
            "visibility": null,
            "width": null
          }
        },
        "00cb04e5f6c34072b363f68178101d5e": {
          "model_module": "@jupyter-widgets/controls",
          "model_name": "ProgressStyleModel",
          "model_module_version": "1.5.0",
          "state": {
            "_model_module": "@jupyter-widgets/controls",
            "_model_module_version": "1.5.0",
            "_model_name": "ProgressStyleModel",
            "_view_count": null,
            "_view_module": "@jupyter-widgets/base",
            "_view_module_version": "1.2.0",
            "_view_name": "StyleView",
            "bar_color": null,
            "description_width": ""
          }
        },
        "684e4307ec504a72b11f663f9454dbb0": {
          "model_module": "@jupyter-widgets/base",
          "model_name": "LayoutModel",
          "model_module_version": "1.2.0",
          "state": {
            "_model_module": "@jupyter-widgets/base",
            "_model_module_version": "1.2.0",
            "_model_name": "LayoutModel",
            "_view_count": null,
            "_view_module": "@jupyter-widgets/base",
            "_view_module_version": "1.2.0",
            "_view_name": "LayoutView",
            "align_content": null,
            "align_items": null,
            "align_self": null,
            "border": null,
            "bottom": null,
            "display": null,
            "flex": null,
            "flex_flow": null,
            "grid_area": null,
            "grid_auto_columns": null,
            "grid_auto_flow": null,
            "grid_auto_rows": null,
            "grid_column": null,
            "grid_gap": null,
            "grid_row": null,
            "grid_template_areas": null,
            "grid_template_columns": null,
            "grid_template_rows": null,
            "height": null,
            "justify_content": null,
            "justify_items": null,
            "left": null,
            "margin": null,
            "max_height": null,
            "max_width": null,
            "min_height": null,
            "min_width": null,
            "object_fit": null,
            "object_position": null,
            "order": null,
            "overflow": null,
            "overflow_x": null,
            "overflow_y": null,
            "padding": null,
            "right": null,
            "top": null,
            "visibility": null,
            "width": null
          }
        },
        "57950014ee9747158cbb0db2a08c1276": {
          "model_module": "@jupyter-widgets/controls",
          "model_name": "DescriptionStyleModel",
          "model_module_version": "1.5.0",
          "state": {
            "_model_module": "@jupyter-widgets/controls",
            "_model_module_version": "1.5.0",
            "_model_name": "DescriptionStyleModel",
            "_view_count": null,
            "_view_module": "@jupyter-widgets/base",
            "_view_module_version": "1.2.0",
            "_view_name": "StyleView",
            "description_width": ""
          }
        },
        "847ba49a67904d0084c2f0416a4a9f00": {
          "model_module": "@jupyter-widgets/controls",
          "model_name": "HBoxModel",
          "model_module_version": "1.5.0",
          "state": {
            "_dom_classes": [],
            "_model_module": "@jupyter-widgets/controls",
            "_model_module_version": "1.5.0",
            "_model_name": "HBoxModel",
            "_view_count": null,
            "_view_module": "@jupyter-widgets/controls",
            "_view_module_version": "1.5.0",
            "_view_name": "HBoxView",
            "box_style": "",
            "children": [
              "IPY_MODEL_d13b10ae12934c158dced358b42a826b",
              "IPY_MODEL_0eefef357c994e8280e271d8818fe3db",
              "IPY_MODEL_ba9659710b3b426aa20c005dd5c935b8"
            ],
            "layout": "IPY_MODEL_1c81f819831d490d894dd0475e1338c4"
          }
        },
        "d13b10ae12934c158dced358b42a826b": {
          "model_module": "@jupyter-widgets/controls",
          "model_name": "HTMLModel",
          "model_module_version": "1.5.0",
          "state": {
            "_dom_classes": [],
            "_model_module": "@jupyter-widgets/controls",
            "_model_module_version": "1.5.0",
            "_model_name": "HTMLModel",
            "_view_count": null,
            "_view_module": "@jupyter-widgets/controls",
            "_view_module_version": "1.5.0",
            "_view_name": "HTMLView",
            "description": "",
            "description_tooltip": null,
            "layout": "IPY_MODEL_7a8336c7f1a040b8a5b5bf51d551641d",
            "placeholder": "​",
            "style": "IPY_MODEL_90ac6a0d1e3243b09bbb81550ec740e1",
            "value": "Downloading data: 100%"
          }
        },
        "0eefef357c994e8280e271d8818fe3db": {
          "model_module": "@jupyter-widgets/controls",
          "model_name": "FloatProgressModel",
          "model_module_version": "1.5.0",
          "state": {
            "_dom_classes": [],
            "_model_module": "@jupyter-widgets/controls",
            "_model_module_version": "1.5.0",
            "_model_name": "FloatProgressModel",
            "_view_count": null,
            "_view_module": "@jupyter-widgets/controls",
            "_view_module_version": "1.5.0",
            "_view_name": "ProgressView",
            "bar_style": "success",
            "description": "",
            "description_tooltip": null,
            "layout": "IPY_MODEL_2325a25e44014d5bbaa2340cb9cad101",
            "max": 256588241,
            "min": 0,
            "orientation": "horizontal",
            "style": "IPY_MODEL_f7924de216c2449ca15f1290fee4a582",
            "value": 256588241
          }
        },
        "ba9659710b3b426aa20c005dd5c935b8": {
          "model_module": "@jupyter-widgets/controls",
          "model_name": "HTMLModel",
          "model_module_version": "1.5.0",
          "state": {
            "_dom_classes": [],
            "_model_module": "@jupyter-widgets/controls",
            "_model_module_version": "1.5.0",
            "_model_name": "HTMLModel",
            "_view_count": null,
            "_view_module": "@jupyter-widgets/controls",
            "_view_module_version": "1.5.0",
            "_view_name": "HTMLView",
            "description": "",
            "description_tooltip": null,
            "layout": "IPY_MODEL_febeaa7db9ad4e929a6446e987c6c6b8",
            "placeholder": "​",
            "style": "IPY_MODEL_13952d56f22a4ace84880c372fae4800",
            "value": " 257M/257M [00:15&lt;00:00, 22.6MB/s]"
          }
        },
        "1c81f819831d490d894dd0475e1338c4": {
          "model_module": "@jupyter-widgets/base",
          "model_name": "LayoutModel",
          "model_module_version": "1.2.0",
          "state": {
            "_model_module": "@jupyter-widgets/base",
            "_model_module_version": "1.2.0",
            "_model_name": "LayoutModel",
            "_view_count": null,
            "_view_module": "@jupyter-widgets/base",
            "_view_module_version": "1.2.0",
            "_view_name": "LayoutView",
            "align_content": null,
            "align_items": null,
            "align_self": null,
            "border": null,
            "bottom": null,
            "display": null,
            "flex": null,
            "flex_flow": null,
            "grid_area": null,
            "grid_auto_columns": null,
            "grid_auto_flow": null,
            "grid_auto_rows": null,
            "grid_column": null,
            "grid_gap": null,
            "grid_row": null,
            "grid_template_areas": null,
            "grid_template_columns": null,
            "grid_template_rows": null,
            "height": null,
            "justify_content": null,
            "justify_items": null,
            "left": null,
            "margin": null,
            "max_height": null,
            "max_width": null,
            "min_height": null,
            "min_width": null,
            "object_fit": null,
            "object_position": null,
            "order": null,
            "overflow": null,
            "overflow_x": null,
            "overflow_y": null,
            "padding": null,
            "right": null,
            "top": null,
            "visibility": null,
            "width": null
          }
        },
        "7a8336c7f1a040b8a5b5bf51d551641d": {
          "model_module": "@jupyter-widgets/base",
          "model_name": "LayoutModel",
          "model_module_version": "1.2.0",
          "state": {
            "_model_module": "@jupyter-widgets/base",
            "_model_module_version": "1.2.0",
            "_model_name": "LayoutModel",
            "_view_count": null,
            "_view_module": "@jupyter-widgets/base",
            "_view_module_version": "1.2.0",
            "_view_name": "LayoutView",
            "align_content": null,
            "align_items": null,
            "align_self": null,
            "border": null,
            "bottom": null,
            "display": null,
            "flex": null,
            "flex_flow": null,
            "grid_area": null,
            "grid_auto_columns": null,
            "grid_auto_flow": null,
            "grid_auto_rows": null,
            "grid_column": null,
            "grid_gap": null,
            "grid_row": null,
            "grid_template_areas": null,
            "grid_template_columns": null,
            "grid_template_rows": null,
            "height": null,
            "justify_content": null,
            "justify_items": null,
            "left": null,
            "margin": null,
            "max_height": null,
            "max_width": null,
            "min_height": null,
            "min_width": null,
            "object_fit": null,
            "object_position": null,
            "order": null,
            "overflow": null,
            "overflow_x": null,
            "overflow_y": null,
            "padding": null,
            "right": null,
            "top": null,
            "visibility": null,
            "width": null
          }
        },
        "90ac6a0d1e3243b09bbb81550ec740e1": {
          "model_module": "@jupyter-widgets/controls",
          "model_name": "DescriptionStyleModel",
          "model_module_version": "1.5.0",
          "state": {
            "_model_module": "@jupyter-widgets/controls",
            "_model_module_version": "1.5.0",
            "_model_name": "DescriptionStyleModel",
            "_view_count": null,
            "_view_module": "@jupyter-widgets/base",
            "_view_module_version": "1.2.0",
            "_view_name": "StyleView",
            "description_width": ""
          }
        },
        "2325a25e44014d5bbaa2340cb9cad101": {
          "model_module": "@jupyter-widgets/base",
          "model_name": "LayoutModel",
          "model_module_version": "1.2.0",
          "state": {
            "_model_module": "@jupyter-widgets/base",
            "_model_module_version": "1.2.0",
            "_model_name": "LayoutModel",
            "_view_count": null,
            "_view_module": "@jupyter-widgets/base",
            "_view_module_version": "1.2.0",
            "_view_name": "LayoutView",
            "align_content": null,
            "align_items": null,
            "align_self": null,
            "border": null,
            "bottom": null,
            "display": null,
            "flex": null,
            "flex_flow": null,
            "grid_area": null,
            "grid_auto_columns": null,
            "grid_auto_flow": null,
            "grid_auto_rows": null,
            "grid_column": null,
            "grid_gap": null,
            "grid_row": null,
            "grid_template_areas": null,
            "grid_template_columns": null,
            "grid_template_rows": null,
            "height": null,
            "justify_content": null,
            "justify_items": null,
            "left": null,
            "margin": null,
            "max_height": null,
            "max_width": null,
            "min_height": null,
            "min_width": null,
            "object_fit": null,
            "object_position": null,
            "order": null,
            "overflow": null,
            "overflow_x": null,
            "overflow_y": null,
            "padding": null,
            "right": null,
            "top": null,
            "visibility": null,
            "width": null
          }
        },
        "f7924de216c2449ca15f1290fee4a582": {
          "model_module": "@jupyter-widgets/controls",
          "model_name": "ProgressStyleModel",
          "model_module_version": "1.5.0",
          "state": {
            "_model_module": "@jupyter-widgets/controls",
            "_model_module_version": "1.5.0",
            "_model_name": "ProgressStyleModel",
            "_view_count": null,
            "_view_module": "@jupyter-widgets/base",
            "_view_module_version": "1.2.0",
            "_view_name": "StyleView",
            "bar_color": null,
            "description_width": ""
          }
        },
        "febeaa7db9ad4e929a6446e987c6c6b8": {
          "model_module": "@jupyter-widgets/base",
          "model_name": "LayoutModel",
          "model_module_version": "1.2.0",
          "state": {
            "_model_module": "@jupyter-widgets/base",
            "_model_module_version": "1.2.0",
            "_model_name": "LayoutModel",
            "_view_count": null,
            "_view_module": "@jupyter-widgets/base",
            "_view_module_version": "1.2.0",
            "_view_name": "LayoutView",
            "align_content": null,
            "align_items": null,
            "align_self": null,
            "border": null,
            "bottom": null,
            "display": null,
            "flex": null,
            "flex_flow": null,
            "grid_area": null,
            "grid_auto_columns": null,
            "grid_auto_flow": null,
            "grid_auto_rows": null,
            "grid_column": null,
            "grid_gap": null,
            "grid_row": null,
            "grid_template_areas": null,
            "grid_template_columns": null,
            "grid_template_rows": null,
            "height": null,
            "justify_content": null,
            "justify_items": null,
            "left": null,
            "margin": null,
            "max_height": null,
            "max_width": null,
            "min_height": null,
            "min_width": null,
            "object_fit": null,
            "object_position": null,
            "order": null,
            "overflow": null,
            "overflow_x": null,
            "overflow_y": null,
            "padding": null,
            "right": null,
            "top": null,
            "visibility": null,
            "width": null
          }
        },
        "13952d56f22a4ace84880c372fae4800": {
          "model_module": "@jupyter-widgets/controls",
          "model_name": "DescriptionStyleModel",
          "model_module_version": "1.5.0",
          "state": {
            "_model_module": "@jupyter-widgets/controls",
            "_model_module_version": "1.5.0",
            "_model_name": "DescriptionStyleModel",
            "_view_count": null,
            "_view_module": "@jupyter-widgets/base",
            "_view_module_version": "1.2.0",
            "_view_name": "StyleView",
            "description_width": ""
          }
        },
        "1ae031e2f299416ca84051dfac7192b9": {
          "model_module": "@jupyter-widgets/controls",
          "model_name": "HBoxModel",
          "model_module_version": "1.5.0",
          "state": {
            "_dom_classes": [],
            "_model_module": "@jupyter-widgets/controls",
            "_model_module_version": "1.5.0",
            "_model_name": "HBoxModel",
            "_view_count": null,
            "_view_module": "@jupyter-widgets/controls",
            "_view_module_version": "1.5.0",
            "_view_name": "HBoxView",
            "box_style": "",
            "children": [
              "IPY_MODEL_7ad8fe95bb4f46b2b2f97ad32b5f67aa",
              "IPY_MODEL_fbe6bb0fb6834d099f84e101e75190fd",
              "IPY_MODEL_7f222e31622b4c54807545a9629cce11"
            ],
            "layout": "IPY_MODEL_d4d780a1a1954afea50c6e238d9247af"
          }
        },
        "7ad8fe95bb4f46b2b2f97ad32b5f67aa": {
          "model_module": "@jupyter-widgets/controls",
          "model_name": "HTMLModel",
          "model_module_version": "1.5.0",
          "state": {
            "_dom_classes": [],
            "_model_module": "@jupyter-widgets/controls",
            "_model_module_version": "1.5.0",
            "_model_name": "HTMLModel",
            "_view_count": null,
            "_view_module": "@jupyter-widgets/controls",
            "_view_module_version": "1.5.0",
            "_view_name": "HTMLView",
            "description": "",
            "description_tooltip": null,
            "layout": "IPY_MODEL_ba3f3caa609b4969876b4008820ea63e",
            "placeholder": "​",
            "style": "IPY_MODEL_21f3e5b5c428453c8eaf54a9c44f17c7",
            "value": "Downloading data: 100%"
          }
        },
        "fbe6bb0fb6834d099f84e101e75190fd": {
          "model_module": "@jupyter-widgets/controls",
          "model_name": "FloatProgressModel",
          "model_module_version": "1.5.0",
          "state": {
            "_dom_classes": [],
            "_model_module": "@jupyter-widgets/controls",
            "_model_module_version": "1.5.0",
            "_model_name": "FloatProgressModel",
            "_view_count": null,
            "_view_module": "@jupyter-widgets/controls",
            "_view_module_version": "1.5.0",
            "_view_name": "ProgressView",
            "bar_style": "success",
            "description": "",
            "description_tooltip": null,
            "layout": "IPY_MODEL_4ed630a14e6b4536ad9079abfdd239b6",
            "max": 259300551,
            "min": 0,
            "orientation": "horizontal",
            "style": "IPY_MODEL_6a65ff868cca46aaa6c1e1997288b348",
            "value": 259300551
          }
        },
        "7f222e31622b4c54807545a9629cce11": {
          "model_module": "@jupyter-widgets/controls",
          "model_name": "HTMLModel",
          "model_module_version": "1.5.0",
          "state": {
            "_dom_classes": [],
            "_model_module": "@jupyter-widgets/controls",
            "_model_module_version": "1.5.0",
            "_model_name": "HTMLModel",
            "_view_count": null,
            "_view_module": "@jupyter-widgets/controls",
            "_view_module_version": "1.5.0",
            "_view_name": "HTMLView",
            "description": "",
            "description_tooltip": null,
            "layout": "IPY_MODEL_0f84b79629954c82a9baeb1e55ffa30b",
            "placeholder": "​",
            "style": "IPY_MODEL_d4f55bfa308d4adea1f2dc6530521759",
            "value": " 259M/259M [00:42&lt;00:00, 5.10MB/s]"
          }
        },
        "d4d780a1a1954afea50c6e238d9247af": {
          "model_module": "@jupyter-widgets/base",
          "model_name": "LayoutModel",
          "model_module_version": "1.2.0",
          "state": {
            "_model_module": "@jupyter-widgets/base",
            "_model_module_version": "1.2.0",
            "_model_name": "LayoutModel",
            "_view_count": null,
            "_view_module": "@jupyter-widgets/base",
            "_view_module_version": "1.2.0",
            "_view_name": "LayoutView",
            "align_content": null,
            "align_items": null,
            "align_self": null,
            "border": null,
            "bottom": null,
            "display": null,
            "flex": null,
            "flex_flow": null,
            "grid_area": null,
            "grid_auto_columns": null,
            "grid_auto_flow": null,
            "grid_auto_rows": null,
            "grid_column": null,
            "grid_gap": null,
            "grid_row": null,
            "grid_template_areas": null,
            "grid_template_columns": null,
            "grid_template_rows": null,
            "height": null,
            "justify_content": null,
            "justify_items": null,
            "left": null,
            "margin": null,
            "max_height": null,
            "max_width": null,
            "min_height": null,
            "min_width": null,
            "object_fit": null,
            "object_position": null,
            "order": null,
            "overflow": null,
            "overflow_x": null,
            "overflow_y": null,
            "padding": null,
            "right": null,
            "top": null,
            "visibility": null,
            "width": null
          }
        },
        "ba3f3caa609b4969876b4008820ea63e": {
          "model_module": "@jupyter-widgets/base",
          "model_name": "LayoutModel",
          "model_module_version": "1.2.0",
          "state": {
            "_model_module": "@jupyter-widgets/base",
            "_model_module_version": "1.2.0",
            "_model_name": "LayoutModel",
            "_view_count": null,
            "_view_module": "@jupyter-widgets/base",
            "_view_module_version": "1.2.0",
            "_view_name": "LayoutView",
            "align_content": null,
            "align_items": null,
            "align_self": null,
            "border": null,
            "bottom": null,
            "display": null,
            "flex": null,
            "flex_flow": null,
            "grid_area": null,
            "grid_auto_columns": null,
            "grid_auto_flow": null,
            "grid_auto_rows": null,
            "grid_column": null,
            "grid_gap": null,
            "grid_row": null,
            "grid_template_areas": null,
            "grid_template_columns": null,
            "grid_template_rows": null,
            "height": null,
            "justify_content": null,
            "justify_items": null,
            "left": null,
            "margin": null,
            "max_height": null,
            "max_width": null,
            "min_height": null,
            "min_width": null,
            "object_fit": null,
            "object_position": null,
            "order": null,
            "overflow": null,
            "overflow_x": null,
            "overflow_y": null,
            "padding": null,
            "right": null,
            "top": null,
            "visibility": null,
            "width": null
          }
        },
        "21f3e5b5c428453c8eaf54a9c44f17c7": {
          "model_module": "@jupyter-widgets/controls",
          "model_name": "DescriptionStyleModel",
          "model_module_version": "1.5.0",
          "state": {
            "_model_module": "@jupyter-widgets/controls",
            "_model_module_version": "1.5.0",
            "_model_name": "DescriptionStyleModel",
            "_view_count": null,
            "_view_module": "@jupyter-widgets/base",
            "_view_module_version": "1.2.0",
            "_view_name": "StyleView",
            "description_width": ""
          }
        },
        "4ed630a14e6b4536ad9079abfdd239b6": {
          "model_module": "@jupyter-widgets/base",
          "model_name": "LayoutModel",
          "model_module_version": "1.2.0",
          "state": {
            "_model_module": "@jupyter-widgets/base",
            "_model_module_version": "1.2.0",
            "_model_name": "LayoutModel",
            "_view_count": null,
            "_view_module": "@jupyter-widgets/base",
            "_view_module_version": "1.2.0",
            "_view_name": "LayoutView",
            "align_content": null,
            "align_items": null,
            "align_self": null,
            "border": null,
            "bottom": null,
            "display": null,
            "flex": null,
            "flex_flow": null,
            "grid_area": null,
            "grid_auto_columns": null,
            "grid_auto_flow": null,
            "grid_auto_rows": null,
            "grid_column": null,
            "grid_gap": null,
            "grid_row": null,
            "grid_template_areas": null,
            "grid_template_columns": null,
            "grid_template_rows": null,
            "height": null,
            "justify_content": null,
            "justify_items": null,
            "left": null,
            "margin": null,
            "max_height": null,
            "max_width": null,
            "min_height": null,
            "min_width": null,
            "object_fit": null,
            "object_position": null,
            "order": null,
            "overflow": null,
            "overflow_x": null,
            "overflow_y": null,
            "padding": null,
            "right": null,
            "top": null,
            "visibility": null,
            "width": null
          }
        },
        "6a65ff868cca46aaa6c1e1997288b348": {
          "model_module": "@jupyter-widgets/controls",
          "model_name": "ProgressStyleModel",
          "model_module_version": "1.5.0",
          "state": {
            "_model_module": "@jupyter-widgets/controls",
            "_model_module_version": "1.5.0",
            "_model_name": "ProgressStyleModel",
            "_view_count": null,
            "_view_module": "@jupyter-widgets/base",
            "_view_module_version": "1.2.0",
            "_view_name": "StyleView",
            "bar_color": null,
            "description_width": ""
          }
        },
        "0f84b79629954c82a9baeb1e55ffa30b": {
          "model_module": "@jupyter-widgets/base",
          "model_name": "LayoutModel",
          "model_module_version": "1.2.0",
          "state": {
            "_model_module": "@jupyter-widgets/base",
            "_model_module_version": "1.2.0",
            "_model_name": "LayoutModel",
            "_view_count": null,
            "_view_module": "@jupyter-widgets/base",
            "_view_module_version": "1.2.0",
            "_view_name": "LayoutView",
            "align_content": null,
            "align_items": null,
            "align_self": null,
            "border": null,
            "bottom": null,
            "display": null,
            "flex": null,
            "flex_flow": null,
            "grid_area": null,
            "grid_auto_columns": null,
            "grid_auto_flow": null,
            "grid_auto_rows": null,
            "grid_column": null,
            "grid_gap": null,
            "grid_row": null,
            "grid_template_areas": null,
            "grid_template_columns": null,
            "grid_template_rows": null,
            "height": null,
            "justify_content": null,
            "justify_items": null,
            "left": null,
            "margin": null,
            "max_height": null,
            "max_width": null,
            "min_height": null,
            "min_width": null,
            "object_fit": null,
            "object_position": null,
            "order": null,
            "overflow": null,
            "overflow_x": null,
            "overflow_y": null,
            "padding": null,
            "right": null,
            "top": null,
            "visibility": null,
            "width": null
          }
        },
        "d4f55bfa308d4adea1f2dc6530521759": {
          "model_module": "@jupyter-widgets/controls",
          "model_name": "DescriptionStyleModel",
          "model_module_version": "1.5.0",
          "state": {
            "_model_module": "@jupyter-widgets/controls",
            "_model_module_version": "1.5.0",
            "_model_name": "DescriptionStyleModel",
            "_view_count": null,
            "_view_module": "@jupyter-widgets/base",
            "_view_module_version": "1.2.0",
            "_view_name": "StyleView",
            "description_width": ""
          }
        },
        "844213adda904bc5a9f9677d079d5069": {
          "model_module": "@jupyter-widgets/controls",
          "model_name": "HBoxModel",
          "model_module_version": "1.5.0",
          "state": {
            "_dom_classes": [],
            "_model_module": "@jupyter-widgets/controls",
            "_model_module_version": "1.5.0",
            "_model_name": "HBoxModel",
            "_view_count": null,
            "_view_module": "@jupyter-widgets/controls",
            "_view_module_version": "1.5.0",
            "_view_name": "HBoxView",
            "box_style": "",
            "children": [
              "IPY_MODEL_6e0cc7c7c0034919a05cb2fa9e66dd41",
              "IPY_MODEL_666b14d21492487da6daf5f884332fa7",
              "IPY_MODEL_0ef87b93075849c8b985e101db06ee32"
            ],
            "layout": "IPY_MODEL_41be54c590db4cbab283de335d7292b9"
          }
        },
        "6e0cc7c7c0034919a05cb2fa9e66dd41": {
          "model_module": "@jupyter-widgets/controls",
          "model_name": "HTMLModel",
          "model_module_version": "1.5.0",
          "state": {
            "_dom_classes": [],
            "_model_module": "@jupyter-widgets/controls",
            "_model_module_version": "1.5.0",
            "_model_name": "HTMLModel",
            "_view_count": null,
            "_view_module": "@jupyter-widgets/controls",
            "_view_module_version": "1.5.0",
            "_view_name": "HTMLView",
            "description": "",
            "description_tooltip": null,
            "layout": "IPY_MODEL_52103d2978a14a83813658f9a8d9d75d",
            "placeholder": "​",
            "style": "IPY_MODEL_bdcaf891d67a4a88be6c8c415d9a0e5a",
            "value": "Downloading data: 100%"
          }
        },
        "666b14d21492487da6daf5f884332fa7": {
          "model_module": "@jupyter-widgets/controls",
          "model_name": "FloatProgressModel",
          "model_module_version": "1.5.0",
          "state": {
            "_dom_classes": [],
            "_model_module": "@jupyter-widgets/controls",
            "_model_module_version": "1.5.0",
            "_model_name": "FloatProgressModel",
            "_view_count": null,
            "_view_module": "@jupyter-widgets/controls",
            "_view_module_version": "1.5.0",
            "_view_name": "ProgressView",
            "bar_style": "success",
            "description": "",
            "description_tooltip": null,
            "layout": "IPY_MODEL_237a80a6725f4b99ad27241c5ac9e14d",
            "max": 34664725,
            "min": 0,
            "orientation": "horizontal",
            "style": "IPY_MODEL_f6337681904d44948a5878b1b4dd3231",
            "value": 34664725
          }
        },
        "0ef87b93075849c8b985e101db06ee32": {
          "model_module": "@jupyter-widgets/controls",
          "model_name": "HTMLModel",
          "model_module_version": "1.5.0",
          "state": {
            "_dom_classes": [],
            "_model_module": "@jupyter-widgets/controls",
            "_model_module_version": "1.5.0",
            "_model_name": "HTMLModel",
            "_view_count": null,
            "_view_module": "@jupyter-widgets/controls",
            "_view_module_version": "1.5.0",
            "_view_name": "HTMLView",
            "description": "",
            "description_tooltip": null,
            "layout": "IPY_MODEL_1ddc4e304fc543b69d35b2ffb6ecd655",
            "placeholder": "​",
            "style": "IPY_MODEL_84d2e591abc2422ca5693b9eac3d516c",
            "value": " 34.7M/34.7M [00:09&lt;00:00, 4.62MB/s]"
          }
        },
        "41be54c590db4cbab283de335d7292b9": {
          "model_module": "@jupyter-widgets/base",
          "model_name": "LayoutModel",
          "model_module_version": "1.2.0",
          "state": {
            "_model_module": "@jupyter-widgets/base",
            "_model_module_version": "1.2.0",
            "_model_name": "LayoutModel",
            "_view_count": null,
            "_view_module": "@jupyter-widgets/base",
            "_view_module_version": "1.2.0",
            "_view_name": "LayoutView",
            "align_content": null,
            "align_items": null,
            "align_self": null,
            "border": null,
            "bottom": null,
            "display": null,
            "flex": null,
            "flex_flow": null,
            "grid_area": null,
            "grid_auto_columns": null,
            "grid_auto_flow": null,
            "grid_auto_rows": null,
            "grid_column": null,
            "grid_gap": null,
            "grid_row": null,
            "grid_template_areas": null,
            "grid_template_columns": null,
            "grid_template_rows": null,
            "height": null,
            "justify_content": null,
            "justify_items": null,
            "left": null,
            "margin": null,
            "max_height": null,
            "max_width": null,
            "min_height": null,
            "min_width": null,
            "object_fit": null,
            "object_position": null,
            "order": null,
            "overflow": null,
            "overflow_x": null,
            "overflow_y": null,
            "padding": null,
            "right": null,
            "top": null,
            "visibility": null,
            "width": null
          }
        },
        "52103d2978a14a83813658f9a8d9d75d": {
          "model_module": "@jupyter-widgets/base",
          "model_name": "LayoutModel",
          "model_module_version": "1.2.0",
          "state": {
            "_model_module": "@jupyter-widgets/base",
            "_model_module_version": "1.2.0",
            "_model_name": "LayoutModel",
            "_view_count": null,
            "_view_module": "@jupyter-widgets/base",
            "_view_module_version": "1.2.0",
            "_view_name": "LayoutView",
            "align_content": null,
            "align_items": null,
            "align_self": null,
            "border": null,
            "bottom": null,
            "display": null,
            "flex": null,
            "flex_flow": null,
            "grid_area": null,
            "grid_auto_columns": null,
            "grid_auto_flow": null,
            "grid_auto_rows": null,
            "grid_column": null,
            "grid_gap": null,
            "grid_row": null,
            "grid_template_areas": null,
            "grid_template_columns": null,
            "grid_template_rows": null,
            "height": null,
            "justify_content": null,
            "justify_items": null,
            "left": null,
            "margin": null,
            "max_height": null,
            "max_width": null,
            "min_height": null,
            "min_width": null,
            "object_fit": null,
            "object_position": null,
            "order": null,
            "overflow": null,
            "overflow_x": null,
            "overflow_y": null,
            "padding": null,
            "right": null,
            "top": null,
            "visibility": null,
            "width": null
          }
        },
        "bdcaf891d67a4a88be6c8c415d9a0e5a": {
          "model_module": "@jupyter-widgets/controls",
          "model_name": "DescriptionStyleModel",
          "model_module_version": "1.5.0",
          "state": {
            "_model_module": "@jupyter-widgets/controls",
            "_model_module_version": "1.5.0",
            "_model_name": "DescriptionStyleModel",
            "_view_count": null,
            "_view_module": "@jupyter-widgets/base",
            "_view_module_version": "1.2.0",
            "_view_name": "StyleView",
            "description_width": ""
          }
        },
        "237a80a6725f4b99ad27241c5ac9e14d": {
          "model_module": "@jupyter-widgets/base",
          "model_name": "LayoutModel",
          "model_module_version": "1.2.0",
          "state": {
            "_model_module": "@jupyter-widgets/base",
            "_model_module_version": "1.2.0",
            "_model_name": "LayoutModel",
            "_view_count": null,
            "_view_module": "@jupyter-widgets/base",
            "_view_module_version": "1.2.0",
            "_view_name": "LayoutView",
            "align_content": null,
            "align_items": null,
            "align_self": null,
            "border": null,
            "bottom": null,
            "display": null,
            "flex": null,
            "flex_flow": null,
            "grid_area": null,
            "grid_auto_columns": null,
            "grid_auto_flow": null,
            "grid_auto_rows": null,
            "grid_column": null,
            "grid_gap": null,
            "grid_row": null,
            "grid_template_areas": null,
            "grid_template_columns": null,
            "grid_template_rows": null,
            "height": null,
            "justify_content": null,
            "justify_items": null,
            "left": null,
            "margin": null,
            "max_height": null,
            "max_width": null,
            "min_height": null,
            "min_width": null,
            "object_fit": null,
            "object_position": null,
            "order": null,
            "overflow": null,
            "overflow_x": null,
            "overflow_y": null,
            "padding": null,
            "right": null,
            "top": null,
            "visibility": null,
            "width": null
          }
        },
        "f6337681904d44948a5878b1b4dd3231": {
          "model_module": "@jupyter-widgets/controls",
          "model_name": "ProgressStyleModel",
          "model_module_version": "1.5.0",
          "state": {
            "_model_module": "@jupyter-widgets/controls",
            "_model_module_version": "1.5.0",
            "_model_name": "ProgressStyleModel",
            "_view_count": null,
            "_view_module": "@jupyter-widgets/base",
            "_view_module_version": "1.2.0",
            "_view_name": "StyleView",
            "bar_color": null,
            "description_width": ""
          }
        },
        "1ddc4e304fc543b69d35b2ffb6ecd655": {
          "model_module": "@jupyter-widgets/base",
          "model_name": "LayoutModel",
          "model_module_version": "1.2.0",
          "state": {
            "_model_module": "@jupyter-widgets/base",
            "_model_module_version": "1.2.0",
            "_model_name": "LayoutModel",
            "_view_count": null,
            "_view_module": "@jupyter-widgets/base",
            "_view_module_version": "1.2.0",
            "_view_name": "LayoutView",
            "align_content": null,
            "align_items": null,
            "align_self": null,
            "border": null,
            "bottom": null,
            "display": null,
            "flex": null,
            "flex_flow": null,
            "grid_area": null,
            "grid_auto_columns": null,
            "grid_auto_flow": null,
            "grid_auto_rows": null,
            "grid_column": null,
            "grid_gap": null,
            "grid_row": null,
            "grid_template_areas": null,
            "grid_template_columns": null,
            "grid_template_rows": null,
            "height": null,
            "justify_content": null,
            "justify_items": null,
            "left": null,
            "margin": null,
            "max_height": null,
            "max_width": null,
            "min_height": null,
            "min_width": null,
            "object_fit": null,
            "object_position": null,
            "order": null,
            "overflow": null,
            "overflow_x": null,
            "overflow_y": null,
            "padding": null,
            "right": null,
            "top": null,
            "visibility": null,
            "width": null
          }
        },
        "84d2e591abc2422ca5693b9eac3d516c": {
          "model_module": "@jupyter-widgets/controls",
          "model_name": "DescriptionStyleModel",
          "model_module_version": "1.5.0",
          "state": {
            "_model_module": "@jupyter-widgets/controls",
            "_model_module_version": "1.5.0",
            "_model_name": "DescriptionStyleModel",
            "_view_count": null,
            "_view_module": "@jupyter-widgets/base",
            "_view_module_version": "1.2.0",
            "_view_name": "StyleView",
            "description_width": ""
          }
        },
        "fbe69203b8654280b757e18bdeb94de9": {
          "model_module": "@jupyter-widgets/controls",
          "model_name": "HBoxModel",
          "model_module_version": "1.5.0",
          "state": {
            "_dom_classes": [],
            "_model_module": "@jupyter-widgets/controls",
            "_model_module_version": "1.5.0",
            "_model_name": "HBoxModel",
            "_view_count": null,
            "_view_module": "@jupyter-widgets/controls",
            "_view_module_version": "1.5.0",
            "_view_name": "HBoxView",
            "box_style": "",
            "children": [
              "IPY_MODEL_a5f3baa7712b47a7b5bd61747a930fd5",
              "IPY_MODEL_54e5a679973a412e93f75a22b6f293cd",
              "IPY_MODEL_1b7cb9833e454dbfb930c1dd370d5983"
            ],
            "layout": "IPY_MODEL_cd8dd5f7e9f64de2bf78bccbb3ab2a13"
          }
        },
        "a5f3baa7712b47a7b5bd61747a930fd5": {
          "model_module": "@jupyter-widgets/controls",
          "model_name": "HTMLModel",
          "model_module_version": "1.5.0",
          "state": {
            "_dom_classes": [],
            "_model_module": "@jupyter-widgets/controls",
            "_model_module_version": "1.5.0",
            "_model_name": "HTMLModel",
            "_view_count": null,
            "_view_module": "@jupyter-widgets/controls",
            "_view_module_version": "1.5.0",
            "_view_name": "HTMLView",
            "description": "",
            "description_tooltip": null,
            "layout": "IPY_MODEL_16bd149dbeb64f3a997861ff683e3c27",
            "placeholder": "​",
            "style": "IPY_MODEL_42b7549457564f8593ec004047158747",
            "value": "Downloading data: 100%"
          }
        },
        "54e5a679973a412e93f75a22b6f293cd": {
          "model_module": "@jupyter-widgets/controls",
          "model_name": "FloatProgressModel",
          "model_module_version": "1.5.0",
          "state": {
            "_dom_classes": [],
            "_model_module": "@jupyter-widgets/controls",
            "_model_module_version": "1.5.0",
            "_model_name": "FloatProgressModel",
            "_view_count": null,
            "_view_module": "@jupyter-widgets/controls",
            "_view_module_version": "1.5.0",
            "_view_name": "ProgressView",
            "bar_style": "success",
            "description": "",
            "description_tooltip": null,
            "layout": "IPY_MODEL_81d784503b4d45f694673e7e1b6d9f36",
            "max": 30000471,
            "min": 0,
            "orientation": "horizontal",
            "style": "IPY_MODEL_e0be8c21280b4d91b95539186a3e99f4",
            "value": 30000471
          }
        },
        "1b7cb9833e454dbfb930c1dd370d5983": {
          "model_module": "@jupyter-widgets/controls",
          "model_name": "HTMLModel",
          "model_module_version": "1.5.0",
          "state": {
            "_dom_classes": [],
            "_model_module": "@jupyter-widgets/controls",
            "_model_module_version": "1.5.0",
            "_model_name": "HTMLModel",
            "_view_count": null,
            "_view_module": "@jupyter-widgets/controls",
            "_view_module_version": "1.5.0",
            "_view_name": "HTMLView",
            "description": "",
            "description_tooltip": null,
            "layout": "IPY_MODEL_c7d19279555c4275ae5e3e1dd5230767",
            "placeholder": "​",
            "style": "IPY_MODEL_29cb09cd31f049b2b807e0dc0b95f95f",
            "value": " 30.0M/30.0M [00:06&lt;00:00, 4.58MB/s]"
          }
        },
        "cd8dd5f7e9f64de2bf78bccbb3ab2a13": {
          "model_module": "@jupyter-widgets/base",
          "model_name": "LayoutModel",
          "model_module_version": "1.2.0",
          "state": {
            "_model_module": "@jupyter-widgets/base",
            "_model_module_version": "1.2.0",
            "_model_name": "LayoutModel",
            "_view_count": null,
            "_view_module": "@jupyter-widgets/base",
            "_view_module_version": "1.2.0",
            "_view_name": "LayoutView",
            "align_content": null,
            "align_items": null,
            "align_self": null,
            "border": null,
            "bottom": null,
            "display": null,
            "flex": null,
            "flex_flow": null,
            "grid_area": null,
            "grid_auto_columns": null,
            "grid_auto_flow": null,
            "grid_auto_rows": null,
            "grid_column": null,
            "grid_gap": null,
            "grid_row": null,
            "grid_template_areas": null,
            "grid_template_columns": null,
            "grid_template_rows": null,
            "height": null,
            "justify_content": null,
            "justify_items": null,
            "left": null,
            "margin": null,
            "max_height": null,
            "max_width": null,
            "min_height": null,
            "min_width": null,
            "object_fit": null,
            "object_position": null,
            "order": null,
            "overflow": null,
            "overflow_x": null,
            "overflow_y": null,
            "padding": null,
            "right": null,
            "top": null,
            "visibility": null,
            "width": null
          }
        },
        "16bd149dbeb64f3a997861ff683e3c27": {
          "model_module": "@jupyter-widgets/base",
          "model_name": "LayoutModel",
          "model_module_version": "1.2.0",
          "state": {
            "_model_module": "@jupyter-widgets/base",
            "_model_module_version": "1.2.0",
            "_model_name": "LayoutModel",
            "_view_count": null,
            "_view_module": "@jupyter-widgets/base",
            "_view_module_version": "1.2.0",
            "_view_name": "LayoutView",
            "align_content": null,
            "align_items": null,
            "align_self": null,
            "border": null,
            "bottom": null,
            "display": null,
            "flex": null,
            "flex_flow": null,
            "grid_area": null,
            "grid_auto_columns": null,
            "grid_auto_flow": null,
            "grid_auto_rows": null,
            "grid_column": null,
            "grid_gap": null,
            "grid_row": null,
            "grid_template_areas": null,
            "grid_template_columns": null,
            "grid_template_rows": null,
            "height": null,
            "justify_content": null,
            "justify_items": null,
            "left": null,
            "margin": null,
            "max_height": null,
            "max_width": null,
            "min_height": null,
            "min_width": null,
            "object_fit": null,
            "object_position": null,
            "order": null,
            "overflow": null,
            "overflow_x": null,
            "overflow_y": null,
            "padding": null,
            "right": null,
            "top": null,
            "visibility": null,
            "width": null
          }
        },
        "42b7549457564f8593ec004047158747": {
          "model_module": "@jupyter-widgets/controls",
          "model_name": "DescriptionStyleModel",
          "model_module_version": "1.5.0",
          "state": {
            "_model_module": "@jupyter-widgets/controls",
            "_model_module_version": "1.5.0",
            "_model_name": "DescriptionStyleModel",
            "_view_count": null,
            "_view_module": "@jupyter-widgets/base",
            "_view_module_version": "1.2.0",
            "_view_name": "StyleView",
            "description_width": ""
          }
        },
        "81d784503b4d45f694673e7e1b6d9f36": {
          "model_module": "@jupyter-widgets/base",
          "model_name": "LayoutModel",
          "model_module_version": "1.2.0",
          "state": {
            "_model_module": "@jupyter-widgets/base",
            "_model_module_version": "1.2.0",
            "_model_name": "LayoutModel",
            "_view_count": null,
            "_view_module": "@jupyter-widgets/base",
            "_view_module_version": "1.2.0",
            "_view_name": "LayoutView",
            "align_content": null,
            "align_items": null,
            "align_self": null,
            "border": null,
            "bottom": null,
            "display": null,
            "flex": null,
            "flex_flow": null,
            "grid_area": null,
            "grid_auto_columns": null,
            "grid_auto_flow": null,
            "grid_auto_rows": null,
            "grid_column": null,
            "grid_gap": null,
            "grid_row": null,
            "grid_template_areas": null,
            "grid_template_columns": null,
            "grid_template_rows": null,
            "height": null,
            "justify_content": null,
            "justify_items": null,
            "left": null,
            "margin": null,
            "max_height": null,
            "max_width": null,
            "min_height": null,
            "min_width": null,
            "object_fit": null,
            "object_position": null,
            "order": null,
            "overflow": null,
            "overflow_x": null,
            "overflow_y": null,
            "padding": null,
            "right": null,
            "top": null,
            "visibility": null,
            "width": null
          }
        },
        "e0be8c21280b4d91b95539186a3e99f4": {
          "model_module": "@jupyter-widgets/controls",
          "model_name": "ProgressStyleModel",
          "model_module_version": "1.5.0",
          "state": {
            "_model_module": "@jupyter-widgets/controls",
            "_model_module_version": "1.5.0",
            "_model_name": "ProgressStyleModel",
            "_view_count": null,
            "_view_module": "@jupyter-widgets/base",
            "_view_module_version": "1.2.0",
            "_view_name": "StyleView",
            "bar_color": null,
            "description_width": ""
          }
        },
        "c7d19279555c4275ae5e3e1dd5230767": {
          "model_module": "@jupyter-widgets/base",
          "model_name": "LayoutModel",
          "model_module_version": "1.2.0",
          "state": {
            "_model_module": "@jupyter-widgets/base",
            "_model_module_version": "1.2.0",
            "_model_name": "LayoutModel",
            "_view_count": null,
            "_view_module": "@jupyter-widgets/base",
            "_view_module_version": "1.2.0",
            "_view_name": "LayoutView",
            "align_content": null,
            "align_items": null,
            "align_self": null,
            "border": null,
            "bottom": null,
            "display": null,
            "flex": null,
            "flex_flow": null,
            "grid_area": null,
            "grid_auto_columns": null,
            "grid_auto_flow": null,
            "grid_auto_rows": null,
            "grid_column": null,
            "grid_gap": null,
            "grid_row": null,
            "grid_template_areas": null,
            "grid_template_columns": null,
            "grid_template_rows": null,
            "height": null,
            "justify_content": null,
            "justify_items": null,
            "left": null,
            "margin": null,
            "max_height": null,
            "max_width": null,
            "min_height": null,
            "min_width": null,
            "object_fit": null,
            "object_position": null,
            "order": null,
            "overflow": null,
            "overflow_x": null,
            "overflow_y": null,
            "padding": null,
            "right": null,
            "top": null,
            "visibility": null,
            "width": null
          }
        },
        "29cb09cd31f049b2b807e0dc0b95f95f": {
          "model_module": "@jupyter-widgets/controls",
          "model_name": "DescriptionStyleModel",
          "model_module_version": "1.5.0",
          "state": {
            "_model_module": "@jupyter-widgets/controls",
            "_model_module_version": "1.5.0",
            "_model_name": "DescriptionStyleModel",
            "_view_count": null,
            "_view_module": "@jupyter-widgets/base",
            "_view_module_version": "1.2.0",
            "_view_name": "StyleView",
            "description_width": ""
          }
        },
        "c8a0d460c2f24f6aa42d4d4676a713e5": {
          "model_module": "@jupyter-widgets/controls",
          "model_name": "HBoxModel",
          "model_module_version": "1.5.0",
          "state": {
            "_dom_classes": [],
            "_model_module": "@jupyter-widgets/controls",
            "_model_module_version": "1.5.0",
            "_model_name": "HBoxModel",
            "_view_count": null,
            "_view_module": "@jupyter-widgets/controls",
            "_view_module_version": "1.5.0",
            "_view_name": "HBoxView",
            "box_style": "",
            "children": [
              "IPY_MODEL_d109d9db5d474abe935f662409fa9eaf",
              "IPY_MODEL_80c7dd5d7bd64baf9d4bdd51c988f3c5",
              "IPY_MODEL_497a58ad1a794eb8ae173e2746f6b788"
            ],
            "layout": "IPY_MODEL_3b26f3cc6fd341cd9f27b72e4f536d94"
          }
        },
        "d109d9db5d474abe935f662409fa9eaf": {
          "model_module": "@jupyter-widgets/controls",
          "model_name": "HTMLModel",
          "model_module_version": "1.5.0",
          "state": {
            "_dom_classes": [],
            "_model_module": "@jupyter-widgets/controls",
            "_model_module_version": "1.5.0",
            "_model_name": "HTMLModel",
            "_view_count": null,
            "_view_module": "@jupyter-widgets/controls",
            "_view_module_version": "1.5.0",
            "_view_name": "HTMLView",
            "description": "",
            "description_tooltip": null,
            "layout": "IPY_MODEL_08477242607346c7ae7d58077a7d0329",
            "placeholder": "​",
            "style": "IPY_MODEL_828620fe69e54c6396bf0ac100a4ecad",
            "value": "Generating train split: 100%"
          }
        },
        "80c7dd5d7bd64baf9d4bdd51c988f3c5": {
          "model_module": "@jupyter-widgets/controls",
          "model_name": "FloatProgressModel",
          "model_module_version": "1.5.0",
          "state": {
            "_dom_classes": [],
            "_model_module": "@jupyter-widgets/controls",
            "_model_module_version": "1.5.0",
            "_model_name": "FloatProgressModel",
            "_view_count": null,
            "_view_module": "@jupyter-widgets/controls",
            "_view_module_version": "1.5.0",
            "_view_name": "ProgressView",
            "bar_style": "success",
            "description": "",
            "description_tooltip": null,
            "layout": "IPY_MODEL_ad2b1bc8fd9747f6a24a5b10fce71e74",
            "max": 287113,
            "min": 0,
            "orientation": "horizontal",
            "style": "IPY_MODEL_13a8673e3689492ab8a3196e322bdab3",
            "value": 287113
          }
        },
        "497a58ad1a794eb8ae173e2746f6b788": {
          "model_module": "@jupyter-widgets/controls",
          "model_name": "HTMLModel",
          "model_module_version": "1.5.0",
          "state": {
            "_dom_classes": [],
            "_model_module": "@jupyter-widgets/controls",
            "_model_module_version": "1.5.0",
            "_model_name": "HTMLModel",
            "_view_count": null,
            "_view_module": "@jupyter-widgets/controls",
            "_view_module_version": "1.5.0",
            "_view_name": "HTMLView",
            "description": "",
            "description_tooltip": null,
            "layout": "IPY_MODEL_078089bd686d4299bd623332a9220be2",
            "placeholder": "​",
            "style": "IPY_MODEL_61fb299df40748cb87d7f8451296310d",
            "value": " 287113/287113 [00:13&lt;00:00, 24825.02 examples/s]"
          }
        },
        "3b26f3cc6fd341cd9f27b72e4f536d94": {
          "model_module": "@jupyter-widgets/base",
          "model_name": "LayoutModel",
          "model_module_version": "1.2.0",
          "state": {
            "_model_module": "@jupyter-widgets/base",
            "_model_module_version": "1.2.0",
            "_model_name": "LayoutModel",
            "_view_count": null,
            "_view_module": "@jupyter-widgets/base",
            "_view_module_version": "1.2.0",
            "_view_name": "LayoutView",
            "align_content": null,
            "align_items": null,
            "align_self": null,
            "border": null,
            "bottom": null,
            "display": null,
            "flex": null,
            "flex_flow": null,
            "grid_area": null,
            "grid_auto_columns": null,
            "grid_auto_flow": null,
            "grid_auto_rows": null,
            "grid_column": null,
            "grid_gap": null,
            "grid_row": null,
            "grid_template_areas": null,
            "grid_template_columns": null,
            "grid_template_rows": null,
            "height": null,
            "justify_content": null,
            "justify_items": null,
            "left": null,
            "margin": null,
            "max_height": null,
            "max_width": null,
            "min_height": null,
            "min_width": null,
            "object_fit": null,
            "object_position": null,
            "order": null,
            "overflow": null,
            "overflow_x": null,
            "overflow_y": null,
            "padding": null,
            "right": null,
            "top": null,
            "visibility": null,
            "width": null
          }
        },
        "08477242607346c7ae7d58077a7d0329": {
          "model_module": "@jupyter-widgets/base",
          "model_name": "LayoutModel",
          "model_module_version": "1.2.0",
          "state": {
            "_model_module": "@jupyter-widgets/base",
            "_model_module_version": "1.2.0",
            "_model_name": "LayoutModel",
            "_view_count": null,
            "_view_module": "@jupyter-widgets/base",
            "_view_module_version": "1.2.0",
            "_view_name": "LayoutView",
            "align_content": null,
            "align_items": null,
            "align_self": null,
            "border": null,
            "bottom": null,
            "display": null,
            "flex": null,
            "flex_flow": null,
            "grid_area": null,
            "grid_auto_columns": null,
            "grid_auto_flow": null,
            "grid_auto_rows": null,
            "grid_column": null,
            "grid_gap": null,
            "grid_row": null,
            "grid_template_areas": null,
            "grid_template_columns": null,
            "grid_template_rows": null,
            "height": null,
            "justify_content": null,
            "justify_items": null,
            "left": null,
            "margin": null,
            "max_height": null,
            "max_width": null,
            "min_height": null,
            "min_width": null,
            "object_fit": null,
            "object_position": null,
            "order": null,
            "overflow": null,
            "overflow_x": null,
            "overflow_y": null,
            "padding": null,
            "right": null,
            "top": null,
            "visibility": null,
            "width": null
          }
        },
        "828620fe69e54c6396bf0ac100a4ecad": {
          "model_module": "@jupyter-widgets/controls",
          "model_name": "DescriptionStyleModel",
          "model_module_version": "1.5.0",
          "state": {
            "_model_module": "@jupyter-widgets/controls",
            "_model_module_version": "1.5.0",
            "_model_name": "DescriptionStyleModel",
            "_view_count": null,
            "_view_module": "@jupyter-widgets/base",
            "_view_module_version": "1.2.0",
            "_view_name": "StyleView",
            "description_width": ""
          }
        },
        "ad2b1bc8fd9747f6a24a5b10fce71e74": {
          "model_module": "@jupyter-widgets/base",
          "model_name": "LayoutModel",
          "model_module_version": "1.2.0",
          "state": {
            "_model_module": "@jupyter-widgets/base",
            "_model_module_version": "1.2.0",
            "_model_name": "LayoutModel",
            "_view_count": null,
            "_view_module": "@jupyter-widgets/base",
            "_view_module_version": "1.2.0",
            "_view_name": "LayoutView",
            "align_content": null,
            "align_items": null,
            "align_self": null,
            "border": null,
            "bottom": null,
            "display": null,
            "flex": null,
            "flex_flow": null,
            "grid_area": null,
            "grid_auto_columns": null,
            "grid_auto_flow": null,
            "grid_auto_rows": null,
            "grid_column": null,
            "grid_gap": null,
            "grid_row": null,
            "grid_template_areas": null,
            "grid_template_columns": null,
            "grid_template_rows": null,
            "height": null,
            "justify_content": null,
            "justify_items": null,
            "left": null,
            "margin": null,
            "max_height": null,
            "max_width": null,
            "min_height": null,
            "min_width": null,
            "object_fit": null,
            "object_position": null,
            "order": null,
            "overflow": null,
            "overflow_x": null,
            "overflow_y": null,
            "padding": null,
            "right": null,
            "top": null,
            "visibility": null,
            "width": null
          }
        },
        "13a8673e3689492ab8a3196e322bdab3": {
          "model_module": "@jupyter-widgets/controls",
          "model_name": "ProgressStyleModel",
          "model_module_version": "1.5.0",
          "state": {
            "_model_module": "@jupyter-widgets/controls",
            "_model_module_version": "1.5.0",
            "_model_name": "ProgressStyleModel",
            "_view_count": null,
            "_view_module": "@jupyter-widgets/base",
            "_view_module_version": "1.2.0",
            "_view_name": "StyleView",
            "bar_color": null,
            "description_width": ""
          }
        },
        "078089bd686d4299bd623332a9220be2": {
          "model_module": "@jupyter-widgets/base",
          "model_name": "LayoutModel",
          "model_module_version": "1.2.0",
          "state": {
            "_model_module": "@jupyter-widgets/base",
            "_model_module_version": "1.2.0",
            "_model_name": "LayoutModel",
            "_view_count": null,
            "_view_module": "@jupyter-widgets/base",
            "_view_module_version": "1.2.0",
            "_view_name": "LayoutView",
            "align_content": null,
            "align_items": null,
            "align_self": null,
            "border": null,
            "bottom": null,
            "display": null,
            "flex": null,
            "flex_flow": null,
            "grid_area": null,
            "grid_auto_columns": null,
            "grid_auto_flow": null,
            "grid_auto_rows": null,
            "grid_column": null,
            "grid_gap": null,
            "grid_row": null,
            "grid_template_areas": null,
            "grid_template_columns": null,
            "grid_template_rows": null,
            "height": null,
            "justify_content": null,
            "justify_items": null,
            "left": null,
            "margin": null,
            "max_height": null,
            "max_width": null,
            "min_height": null,
            "min_width": null,
            "object_fit": null,
            "object_position": null,
            "order": null,
            "overflow": null,
            "overflow_x": null,
            "overflow_y": null,
            "padding": null,
            "right": null,
            "top": null,
            "visibility": null,
            "width": null
          }
        },
        "61fb299df40748cb87d7f8451296310d": {
          "model_module": "@jupyter-widgets/controls",
          "model_name": "DescriptionStyleModel",
          "model_module_version": "1.5.0",
          "state": {
            "_model_module": "@jupyter-widgets/controls",
            "_model_module_version": "1.5.0",
            "_model_name": "DescriptionStyleModel",
            "_view_count": null,
            "_view_module": "@jupyter-widgets/base",
            "_view_module_version": "1.2.0",
            "_view_name": "StyleView",
            "description_width": ""
          }
        },
        "ee7fec544d5c472a982d52ee5be61f09": {
          "model_module": "@jupyter-widgets/controls",
          "model_name": "HBoxModel",
          "model_module_version": "1.5.0",
          "state": {
            "_dom_classes": [],
            "_model_module": "@jupyter-widgets/controls",
            "_model_module_version": "1.5.0",
            "_model_name": "HBoxModel",
            "_view_count": null,
            "_view_module": "@jupyter-widgets/controls",
            "_view_module_version": "1.5.0",
            "_view_name": "HBoxView",
            "box_style": "",
            "children": [
              "IPY_MODEL_5d4aa673f0a54132bb06a5dffaa12817",
              "IPY_MODEL_53bc25d30c954457afba8bc106d5346d",
              "IPY_MODEL_693afac40797449e99077ce83e782d92"
            ],
            "layout": "IPY_MODEL_13a6288fa04245158eb0db09123a140a"
          }
        },
        "5d4aa673f0a54132bb06a5dffaa12817": {
          "model_module": "@jupyter-widgets/controls",
          "model_name": "HTMLModel",
          "model_module_version": "1.5.0",
          "state": {
            "_dom_classes": [],
            "_model_module": "@jupyter-widgets/controls",
            "_model_module_version": "1.5.0",
            "_model_name": "HTMLModel",
            "_view_count": null,
            "_view_module": "@jupyter-widgets/controls",
            "_view_module_version": "1.5.0",
            "_view_name": "HTMLView",
            "description": "",
            "description_tooltip": null,
            "layout": "IPY_MODEL_ead11f1b5b374d47a3d83f33ba240a98",
            "placeholder": "​",
            "style": "IPY_MODEL_fbe8b77887d8431b8c2c3763dd975218",
            "value": "Generating validation split: 100%"
          }
        },
        "53bc25d30c954457afba8bc106d5346d": {
          "model_module": "@jupyter-widgets/controls",
          "model_name": "FloatProgressModel",
          "model_module_version": "1.5.0",
          "state": {
            "_dom_classes": [],
            "_model_module": "@jupyter-widgets/controls",
            "_model_module_version": "1.5.0",
            "_model_name": "FloatProgressModel",
            "_view_count": null,
            "_view_module": "@jupyter-widgets/controls",
            "_view_module_version": "1.5.0",
            "_view_name": "ProgressView",
            "bar_style": "success",
            "description": "",
            "description_tooltip": null,
            "layout": "IPY_MODEL_005a47c135b24e38a0bf01c7a429027c",
            "max": 13368,
            "min": 0,
            "orientation": "horizontal",
            "style": "IPY_MODEL_36bb14e75f3c4fc29e5c99fc280637bd",
            "value": 13368
          }
        },
        "693afac40797449e99077ce83e782d92": {
          "model_module": "@jupyter-widgets/controls",
          "model_name": "HTMLModel",
          "model_module_version": "1.5.0",
          "state": {
            "_dom_classes": [],
            "_model_module": "@jupyter-widgets/controls",
            "_model_module_version": "1.5.0",
            "_model_name": "HTMLModel",
            "_view_count": null,
            "_view_module": "@jupyter-widgets/controls",
            "_view_module_version": "1.5.0",
            "_view_name": "HTMLView",
            "description": "",
            "description_tooltip": null,
            "layout": "IPY_MODEL_8bba4ca7eb1146a9a27f9117bcb8245a",
            "placeholder": "​",
            "style": "IPY_MODEL_d98131ac904d4d02918b83f0e213a96e",
            "value": " 13368/13368 [00:00&lt;00:00, 35299.23 examples/s]"
          }
        },
        "13a6288fa04245158eb0db09123a140a": {
          "model_module": "@jupyter-widgets/base",
          "model_name": "LayoutModel",
          "model_module_version": "1.2.0",
          "state": {
            "_model_module": "@jupyter-widgets/base",
            "_model_module_version": "1.2.0",
            "_model_name": "LayoutModel",
            "_view_count": null,
            "_view_module": "@jupyter-widgets/base",
            "_view_module_version": "1.2.0",
            "_view_name": "LayoutView",
            "align_content": null,
            "align_items": null,
            "align_self": null,
            "border": null,
            "bottom": null,
            "display": null,
            "flex": null,
            "flex_flow": null,
            "grid_area": null,
            "grid_auto_columns": null,
            "grid_auto_flow": null,
            "grid_auto_rows": null,
            "grid_column": null,
            "grid_gap": null,
            "grid_row": null,
            "grid_template_areas": null,
            "grid_template_columns": null,
            "grid_template_rows": null,
            "height": null,
            "justify_content": null,
            "justify_items": null,
            "left": null,
            "margin": null,
            "max_height": null,
            "max_width": null,
            "min_height": null,
            "min_width": null,
            "object_fit": null,
            "object_position": null,
            "order": null,
            "overflow": null,
            "overflow_x": null,
            "overflow_y": null,
            "padding": null,
            "right": null,
            "top": null,
            "visibility": null,
            "width": null
          }
        },
        "ead11f1b5b374d47a3d83f33ba240a98": {
          "model_module": "@jupyter-widgets/base",
          "model_name": "LayoutModel",
          "model_module_version": "1.2.0",
          "state": {
            "_model_module": "@jupyter-widgets/base",
            "_model_module_version": "1.2.0",
            "_model_name": "LayoutModel",
            "_view_count": null,
            "_view_module": "@jupyter-widgets/base",
            "_view_module_version": "1.2.0",
            "_view_name": "LayoutView",
            "align_content": null,
            "align_items": null,
            "align_self": null,
            "border": null,
            "bottom": null,
            "display": null,
            "flex": null,
            "flex_flow": null,
            "grid_area": null,
            "grid_auto_columns": null,
            "grid_auto_flow": null,
            "grid_auto_rows": null,
            "grid_column": null,
            "grid_gap": null,
            "grid_row": null,
            "grid_template_areas": null,
            "grid_template_columns": null,
            "grid_template_rows": null,
            "height": null,
            "justify_content": null,
            "justify_items": null,
            "left": null,
            "margin": null,
            "max_height": null,
            "max_width": null,
            "min_height": null,
            "min_width": null,
            "object_fit": null,
            "object_position": null,
            "order": null,
            "overflow": null,
            "overflow_x": null,
            "overflow_y": null,
            "padding": null,
            "right": null,
            "top": null,
            "visibility": null,
            "width": null
          }
        },
        "fbe8b77887d8431b8c2c3763dd975218": {
          "model_module": "@jupyter-widgets/controls",
          "model_name": "DescriptionStyleModel",
          "model_module_version": "1.5.0",
          "state": {
            "_model_module": "@jupyter-widgets/controls",
            "_model_module_version": "1.5.0",
            "_model_name": "DescriptionStyleModel",
            "_view_count": null,
            "_view_module": "@jupyter-widgets/base",
            "_view_module_version": "1.2.0",
            "_view_name": "StyleView",
            "description_width": ""
          }
        },
        "005a47c135b24e38a0bf01c7a429027c": {
          "model_module": "@jupyter-widgets/base",
          "model_name": "LayoutModel",
          "model_module_version": "1.2.0",
          "state": {
            "_model_module": "@jupyter-widgets/base",
            "_model_module_version": "1.2.0",
            "_model_name": "LayoutModel",
            "_view_count": null,
            "_view_module": "@jupyter-widgets/base",
            "_view_module_version": "1.2.0",
            "_view_name": "LayoutView",
            "align_content": null,
            "align_items": null,
            "align_self": null,
            "border": null,
            "bottom": null,
            "display": null,
            "flex": null,
            "flex_flow": null,
            "grid_area": null,
            "grid_auto_columns": null,
            "grid_auto_flow": null,
            "grid_auto_rows": null,
            "grid_column": null,
            "grid_gap": null,
            "grid_row": null,
            "grid_template_areas": null,
            "grid_template_columns": null,
            "grid_template_rows": null,
            "height": null,
            "justify_content": null,
            "justify_items": null,
            "left": null,
            "margin": null,
            "max_height": null,
            "max_width": null,
            "min_height": null,
            "min_width": null,
            "object_fit": null,
            "object_position": null,
            "order": null,
            "overflow": null,
            "overflow_x": null,
            "overflow_y": null,
            "padding": null,
            "right": null,
            "top": null,
            "visibility": null,
            "width": null
          }
        },
        "36bb14e75f3c4fc29e5c99fc280637bd": {
          "model_module": "@jupyter-widgets/controls",
          "model_name": "ProgressStyleModel",
          "model_module_version": "1.5.0",
          "state": {
            "_model_module": "@jupyter-widgets/controls",
            "_model_module_version": "1.5.0",
            "_model_name": "ProgressStyleModel",
            "_view_count": null,
            "_view_module": "@jupyter-widgets/base",
            "_view_module_version": "1.2.0",
            "_view_name": "StyleView",
            "bar_color": null,
            "description_width": ""
          }
        },
        "8bba4ca7eb1146a9a27f9117bcb8245a": {
          "model_module": "@jupyter-widgets/base",
          "model_name": "LayoutModel",
          "model_module_version": "1.2.0",
          "state": {
            "_model_module": "@jupyter-widgets/base",
            "_model_module_version": "1.2.0",
            "_model_name": "LayoutModel",
            "_view_count": null,
            "_view_module": "@jupyter-widgets/base",
            "_view_module_version": "1.2.0",
            "_view_name": "LayoutView",
            "align_content": null,
            "align_items": null,
            "align_self": null,
            "border": null,
            "bottom": null,
            "display": null,
            "flex": null,
            "flex_flow": null,
            "grid_area": null,
            "grid_auto_columns": null,
            "grid_auto_flow": null,
            "grid_auto_rows": null,
            "grid_column": null,
            "grid_gap": null,
            "grid_row": null,
            "grid_template_areas": null,
            "grid_template_columns": null,
            "grid_template_rows": null,
            "height": null,
            "justify_content": null,
            "justify_items": null,
            "left": null,
            "margin": null,
            "max_height": null,
            "max_width": null,
            "min_height": null,
            "min_width": null,
            "object_fit": null,
            "object_position": null,
            "order": null,
            "overflow": null,
            "overflow_x": null,
            "overflow_y": null,
            "padding": null,
            "right": null,
            "top": null,
            "visibility": null,
            "width": null
          }
        },
        "d98131ac904d4d02918b83f0e213a96e": {
          "model_module": "@jupyter-widgets/controls",
          "model_name": "DescriptionStyleModel",
          "model_module_version": "1.5.0",
          "state": {
            "_model_module": "@jupyter-widgets/controls",
            "_model_module_version": "1.5.0",
            "_model_name": "DescriptionStyleModel",
            "_view_count": null,
            "_view_module": "@jupyter-widgets/base",
            "_view_module_version": "1.2.0",
            "_view_name": "StyleView",
            "description_width": ""
          }
        },
        "f14ceaf83efc46bda09032d1f801c808": {
          "model_module": "@jupyter-widgets/controls",
          "model_name": "HBoxModel",
          "model_module_version": "1.5.0",
          "state": {
            "_dom_classes": [],
            "_model_module": "@jupyter-widgets/controls",
            "_model_module_version": "1.5.0",
            "_model_name": "HBoxModel",
            "_view_count": null,
            "_view_module": "@jupyter-widgets/controls",
            "_view_module_version": "1.5.0",
            "_view_name": "HBoxView",
            "box_style": "",
            "children": [
              "IPY_MODEL_9364280c9abe4b8285623e835d979eaf",
              "IPY_MODEL_765bf6fe043544e4aeb902914981d699",
              "IPY_MODEL_ddc49d08bde54603a7d0310d4bdcaf1b"
            ],
            "layout": "IPY_MODEL_bcfa6b7b78a349da84752004442dbb65"
          }
        },
        "9364280c9abe4b8285623e835d979eaf": {
          "model_module": "@jupyter-widgets/controls",
          "model_name": "HTMLModel",
          "model_module_version": "1.5.0",
          "state": {
            "_dom_classes": [],
            "_model_module": "@jupyter-widgets/controls",
            "_model_module_version": "1.5.0",
            "_model_name": "HTMLModel",
            "_view_count": null,
            "_view_module": "@jupyter-widgets/controls",
            "_view_module_version": "1.5.0",
            "_view_name": "HTMLView",
            "description": "",
            "description_tooltip": null,
            "layout": "IPY_MODEL_973ec7a511b3495f99cd49dd589e1caf",
            "placeholder": "​",
            "style": "IPY_MODEL_f763a2dfb1a5420997dd974aee5a8dcb",
            "value": "Generating test split: 100%"
          }
        },
        "765bf6fe043544e4aeb902914981d699": {
          "model_module": "@jupyter-widgets/controls",
          "model_name": "FloatProgressModel",
          "model_module_version": "1.5.0",
          "state": {
            "_dom_classes": [],
            "_model_module": "@jupyter-widgets/controls",
            "_model_module_version": "1.5.0",
            "_model_name": "FloatProgressModel",
            "_view_count": null,
            "_view_module": "@jupyter-widgets/controls",
            "_view_module_version": "1.5.0",
            "_view_name": "ProgressView",
            "bar_style": "success",
            "description": "",
            "description_tooltip": null,
            "layout": "IPY_MODEL_d9f110e6de7c4402ad46aed57c8d0544",
            "max": 11490,
            "min": 0,
            "orientation": "horizontal",
            "style": "IPY_MODEL_6d23ec33b6df47e082d438eb416bb257",
            "value": 11490
          }
        },
        "ddc49d08bde54603a7d0310d4bdcaf1b": {
          "model_module": "@jupyter-widgets/controls",
          "model_name": "HTMLModel",
          "model_module_version": "1.5.0",
          "state": {
            "_dom_classes": [],
            "_model_module": "@jupyter-widgets/controls",
            "_model_module_version": "1.5.0",
            "_model_name": "HTMLModel",
            "_view_count": null,
            "_view_module": "@jupyter-widgets/controls",
            "_view_module_version": "1.5.0",
            "_view_name": "HTMLView",
            "description": "",
            "description_tooltip": null,
            "layout": "IPY_MODEL_6705d63d8fba4e84847ce7aeed79d94c",
            "placeholder": "​",
            "style": "IPY_MODEL_ca15c3c804b64d90aa2d0c5bb66457f5",
            "value": " 11490/11490 [00:00&lt;00:00, 18211.38 examples/s]"
          }
        },
        "bcfa6b7b78a349da84752004442dbb65": {
          "model_module": "@jupyter-widgets/base",
          "model_name": "LayoutModel",
          "model_module_version": "1.2.0",
          "state": {
            "_model_module": "@jupyter-widgets/base",
            "_model_module_version": "1.2.0",
            "_model_name": "LayoutModel",
            "_view_count": null,
            "_view_module": "@jupyter-widgets/base",
            "_view_module_version": "1.2.0",
            "_view_name": "LayoutView",
            "align_content": null,
            "align_items": null,
            "align_self": null,
            "border": null,
            "bottom": null,
            "display": null,
            "flex": null,
            "flex_flow": null,
            "grid_area": null,
            "grid_auto_columns": null,
            "grid_auto_flow": null,
            "grid_auto_rows": null,
            "grid_column": null,
            "grid_gap": null,
            "grid_row": null,
            "grid_template_areas": null,
            "grid_template_columns": null,
            "grid_template_rows": null,
            "height": null,
            "justify_content": null,
            "justify_items": null,
            "left": null,
            "margin": null,
            "max_height": null,
            "max_width": null,
            "min_height": null,
            "min_width": null,
            "object_fit": null,
            "object_position": null,
            "order": null,
            "overflow": null,
            "overflow_x": null,
            "overflow_y": null,
            "padding": null,
            "right": null,
            "top": null,
            "visibility": null,
            "width": null
          }
        },
        "973ec7a511b3495f99cd49dd589e1caf": {
          "model_module": "@jupyter-widgets/base",
          "model_name": "LayoutModel",
          "model_module_version": "1.2.0",
          "state": {
            "_model_module": "@jupyter-widgets/base",
            "_model_module_version": "1.2.0",
            "_model_name": "LayoutModel",
            "_view_count": null,
            "_view_module": "@jupyter-widgets/base",
            "_view_module_version": "1.2.0",
            "_view_name": "LayoutView",
            "align_content": null,
            "align_items": null,
            "align_self": null,
            "border": null,
            "bottom": null,
            "display": null,
            "flex": null,
            "flex_flow": null,
            "grid_area": null,
            "grid_auto_columns": null,
            "grid_auto_flow": null,
            "grid_auto_rows": null,
            "grid_column": null,
            "grid_gap": null,
            "grid_row": null,
            "grid_template_areas": null,
            "grid_template_columns": null,
            "grid_template_rows": null,
            "height": null,
            "justify_content": null,
            "justify_items": null,
            "left": null,
            "margin": null,
            "max_height": null,
            "max_width": null,
            "min_height": null,
            "min_width": null,
            "object_fit": null,
            "object_position": null,
            "order": null,
            "overflow": null,
            "overflow_x": null,
            "overflow_y": null,
            "padding": null,
            "right": null,
            "top": null,
            "visibility": null,
            "width": null
          }
        },
        "f763a2dfb1a5420997dd974aee5a8dcb": {
          "model_module": "@jupyter-widgets/controls",
          "model_name": "DescriptionStyleModel",
          "model_module_version": "1.5.0",
          "state": {
            "_model_module": "@jupyter-widgets/controls",
            "_model_module_version": "1.5.0",
            "_model_name": "DescriptionStyleModel",
            "_view_count": null,
            "_view_module": "@jupyter-widgets/base",
            "_view_module_version": "1.2.0",
            "_view_name": "StyleView",
            "description_width": ""
          }
        },
        "d9f110e6de7c4402ad46aed57c8d0544": {
          "model_module": "@jupyter-widgets/base",
          "model_name": "LayoutModel",
          "model_module_version": "1.2.0",
          "state": {
            "_model_module": "@jupyter-widgets/base",
            "_model_module_version": "1.2.0",
            "_model_name": "LayoutModel",
            "_view_count": null,
            "_view_module": "@jupyter-widgets/base",
            "_view_module_version": "1.2.0",
            "_view_name": "LayoutView",
            "align_content": null,
            "align_items": null,
            "align_self": null,
            "border": null,
            "bottom": null,
            "display": null,
            "flex": null,
            "flex_flow": null,
            "grid_area": null,
            "grid_auto_columns": null,
            "grid_auto_flow": null,
            "grid_auto_rows": null,
            "grid_column": null,
            "grid_gap": null,
            "grid_row": null,
            "grid_template_areas": null,
            "grid_template_columns": null,
            "grid_template_rows": null,
            "height": null,
            "justify_content": null,
            "justify_items": null,
            "left": null,
            "margin": null,
            "max_height": null,
            "max_width": null,
            "min_height": null,
            "min_width": null,
            "object_fit": null,
            "object_position": null,
            "order": null,
            "overflow": null,
            "overflow_x": null,
            "overflow_y": null,
            "padding": null,
            "right": null,
            "top": null,
            "visibility": null,
            "width": null
          }
        },
        "6d23ec33b6df47e082d438eb416bb257": {
          "model_module": "@jupyter-widgets/controls",
          "model_name": "ProgressStyleModel",
          "model_module_version": "1.5.0",
          "state": {
            "_model_module": "@jupyter-widgets/controls",
            "_model_module_version": "1.5.0",
            "_model_name": "ProgressStyleModel",
            "_view_count": null,
            "_view_module": "@jupyter-widgets/base",
            "_view_module_version": "1.2.0",
            "_view_name": "StyleView",
            "bar_color": null,
            "description_width": ""
          }
        },
        "6705d63d8fba4e84847ce7aeed79d94c": {
          "model_module": "@jupyter-widgets/base",
          "model_name": "LayoutModel",
          "model_module_version": "1.2.0",
          "state": {
            "_model_module": "@jupyter-widgets/base",
            "_model_module_version": "1.2.0",
            "_model_name": "LayoutModel",
            "_view_count": null,
            "_view_module": "@jupyter-widgets/base",
            "_view_module_version": "1.2.0",
            "_view_name": "LayoutView",
            "align_content": null,
            "align_items": null,
            "align_self": null,
            "border": null,
            "bottom": null,
            "display": null,
            "flex": null,
            "flex_flow": null,
            "grid_area": null,
            "grid_auto_columns": null,
            "grid_auto_flow": null,
            "grid_auto_rows": null,
            "grid_column": null,
            "grid_gap": null,
            "grid_row": null,
            "grid_template_areas": null,
            "grid_template_columns": null,
            "grid_template_rows": null,
            "height": null,
            "justify_content": null,
            "justify_items": null,
            "left": null,
            "margin": null,
            "max_height": null,
            "max_width": null,
            "min_height": null,
            "min_width": null,
            "object_fit": null,
            "object_position": null,
            "order": null,
            "overflow": null,
            "overflow_x": null,
            "overflow_y": null,
            "padding": null,
            "right": null,
            "top": null,
            "visibility": null,
            "width": null
          }
        },
        "ca15c3c804b64d90aa2d0c5bb66457f5": {
          "model_module": "@jupyter-widgets/controls",
          "model_name": "DescriptionStyleModel",
          "model_module_version": "1.5.0",
          "state": {
            "_model_module": "@jupyter-widgets/controls",
            "_model_module_version": "1.5.0",
            "_model_name": "DescriptionStyleModel",
            "_view_count": null,
            "_view_module": "@jupyter-widgets/base",
            "_view_module_version": "1.2.0",
            "_view_name": "StyleView",
            "description_width": ""
          }
        }
      }
    }
  },
  "nbformat": 4,
  "nbformat_minor": 0
}